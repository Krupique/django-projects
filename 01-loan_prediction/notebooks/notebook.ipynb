{
 "cells": [
  {
   "cell_type": "markdown",
   "metadata": {},
   "source": [
    "# Loan Predictor"
   ]
  },
  {
   "cell_type": "markdown",
   "metadata": {},
   "source": [
    "## 1) Introdução"
   ]
  },
  {
   "cell_type": "code",
   "execution_count": 1,
   "metadata": {},
   "outputs": [],
   "source": [
    "import pandas as pd\n",
    "import numpy as np\n",
    "\n",
    "# Visualização dos dados\n",
    "import matplotlib.pyplot as plt\n",
    "import seaborn as sns\n",
    "import plotly.express as px\n",
    "import plotly.graph_objs as go"
   ]
  },
  {
   "cell_type": "code",
   "execution_count": 2,
   "metadata": {},
   "outputs": [],
   "source": [
    "df_train = pd.read_csv('data/train.csv')"
   ]
  },
  {
   "cell_type": "markdown",
   "metadata": {},
   "source": [
    "## 2) Análise exploratória dos dados"
   ]
  },
  {
   "cell_type": "code",
   "execution_count": 3,
   "metadata": {},
   "outputs": [
    {
     "data": {
      "text/html": [
       "<div>\n",
       "<style scoped>\n",
       "    .dataframe tbody tr th:only-of-type {\n",
       "        vertical-align: middle;\n",
       "    }\n",
       "\n",
       "    .dataframe tbody tr th {\n",
       "        vertical-align: top;\n",
       "    }\n",
       "\n",
       "    .dataframe thead th {\n",
       "        text-align: right;\n",
       "    }\n",
       "</style>\n",
       "<table border=\"1\" class=\"dataframe\">\n",
       "  <thead>\n",
       "    <tr style=\"text-align: right;\">\n",
       "      <th></th>\n",
       "      <th>Loan_ID</th>\n",
       "      <th>Gender</th>\n",
       "      <th>Married</th>\n",
       "      <th>Dependents</th>\n",
       "      <th>Education</th>\n",
       "      <th>Self_Employed</th>\n",
       "      <th>ApplicantIncome</th>\n",
       "      <th>CoapplicantIncome</th>\n",
       "      <th>LoanAmount</th>\n",
       "      <th>Loan_Amount_Term</th>\n",
       "      <th>Credit_History</th>\n",
       "      <th>Property_Area</th>\n",
       "      <th>Loan_Status</th>\n",
       "    </tr>\n",
       "  </thead>\n",
       "  <tbody>\n",
       "    <tr>\n",
       "      <th>0</th>\n",
       "      <td>LP001002</td>\n",
       "      <td>Male</td>\n",
       "      <td>No</td>\n",
       "      <td>0</td>\n",
       "      <td>Graduate</td>\n",
       "      <td>No</td>\n",
       "      <td>5849</td>\n",
       "      <td>0.0</td>\n",
       "      <td>NaN</td>\n",
       "      <td>360.0</td>\n",
       "      <td>1.0</td>\n",
       "      <td>Urban</td>\n",
       "      <td>Y</td>\n",
       "    </tr>\n",
       "    <tr>\n",
       "      <th>1</th>\n",
       "      <td>LP001003</td>\n",
       "      <td>Male</td>\n",
       "      <td>Yes</td>\n",
       "      <td>1</td>\n",
       "      <td>Graduate</td>\n",
       "      <td>No</td>\n",
       "      <td>4583</td>\n",
       "      <td>1508.0</td>\n",
       "      <td>128.0</td>\n",
       "      <td>360.0</td>\n",
       "      <td>1.0</td>\n",
       "      <td>Rural</td>\n",
       "      <td>N</td>\n",
       "    </tr>\n",
       "    <tr>\n",
       "      <th>2</th>\n",
       "      <td>LP001005</td>\n",
       "      <td>Male</td>\n",
       "      <td>Yes</td>\n",
       "      <td>0</td>\n",
       "      <td>Graduate</td>\n",
       "      <td>Yes</td>\n",
       "      <td>3000</td>\n",
       "      <td>0.0</td>\n",
       "      <td>66.0</td>\n",
       "      <td>360.0</td>\n",
       "      <td>1.0</td>\n",
       "      <td>Urban</td>\n",
       "      <td>Y</td>\n",
       "    </tr>\n",
       "    <tr>\n",
       "      <th>3</th>\n",
       "      <td>LP001006</td>\n",
       "      <td>Male</td>\n",
       "      <td>Yes</td>\n",
       "      <td>0</td>\n",
       "      <td>Not Graduate</td>\n",
       "      <td>No</td>\n",
       "      <td>2583</td>\n",
       "      <td>2358.0</td>\n",
       "      <td>120.0</td>\n",
       "      <td>360.0</td>\n",
       "      <td>1.0</td>\n",
       "      <td>Urban</td>\n",
       "      <td>Y</td>\n",
       "    </tr>\n",
       "    <tr>\n",
       "      <th>4</th>\n",
       "      <td>LP001008</td>\n",
       "      <td>Male</td>\n",
       "      <td>No</td>\n",
       "      <td>0</td>\n",
       "      <td>Graduate</td>\n",
       "      <td>No</td>\n",
       "      <td>6000</td>\n",
       "      <td>0.0</td>\n",
       "      <td>141.0</td>\n",
       "      <td>360.0</td>\n",
       "      <td>1.0</td>\n",
       "      <td>Urban</td>\n",
       "      <td>Y</td>\n",
       "    </tr>\n",
       "  </tbody>\n",
       "</table>\n",
       "</div>"
      ],
      "text/plain": [
       "    Loan_ID Gender Married Dependents     Education Self_Employed  \\\n",
       "0  LP001002   Male      No          0      Graduate            No   \n",
       "1  LP001003   Male     Yes          1      Graduate            No   \n",
       "2  LP001005   Male     Yes          0      Graduate           Yes   \n",
       "3  LP001006   Male     Yes          0  Not Graduate            No   \n",
       "4  LP001008   Male      No          0      Graduate            No   \n",
       "\n",
       "   ApplicantIncome  CoapplicantIncome  LoanAmount  Loan_Amount_Term  \\\n",
       "0             5849                0.0         NaN             360.0   \n",
       "1             4583             1508.0       128.0             360.0   \n",
       "2             3000                0.0        66.0             360.0   \n",
       "3             2583             2358.0       120.0             360.0   \n",
       "4             6000                0.0       141.0             360.0   \n",
       "\n",
       "   Credit_History Property_Area Loan_Status  \n",
       "0             1.0         Urban           Y  \n",
       "1             1.0         Rural           N  \n",
       "2             1.0         Urban           Y  \n",
       "3             1.0         Urban           Y  \n",
       "4             1.0         Urban           Y  "
      ]
     },
     "execution_count": 3,
     "metadata": {},
     "output_type": "execute_result"
    }
   ],
   "source": [
    "df_train.head()"
   ]
  },
  {
   "cell_type": "code",
   "execution_count": 4,
   "metadata": {},
   "outputs": [
    {
     "data": {
      "text/plain": [
       "(614, 13)"
      ]
     },
     "execution_count": 4,
     "metadata": {},
     "output_type": "execute_result"
    }
   ],
   "source": [
    "df_train.shape"
   ]
  },
  {
   "cell_type": "code",
   "execution_count": 5,
   "metadata": {},
   "outputs": [
    {
     "data": {
      "text/plain": [
       "Loan_ID               object\n",
       "Gender                object\n",
       "Married               object\n",
       "Dependents            object\n",
       "Education             object\n",
       "Self_Employed         object\n",
       "ApplicantIncome        int64\n",
       "CoapplicantIncome    float64\n",
       "LoanAmount           float64\n",
       "Loan_Amount_Term     float64\n",
       "Credit_History       float64\n",
       "Property_Area         object\n",
       "Loan_Status           object\n",
       "dtype: object"
      ]
     },
     "execution_count": 5,
     "metadata": {},
     "output_type": "execute_result"
    }
   ],
   "source": [
    "df_train.dtypes"
   ]
  },
  {
   "cell_type": "code",
   "execution_count": 6,
   "metadata": {},
   "outputs": [
    {
     "data": {
      "text/plain": [
       "Loan_ID               0\n",
       "Gender               13\n",
       "Married               3\n",
       "Dependents           15\n",
       "Education             0\n",
       "Self_Employed        32\n",
       "ApplicantIncome       0\n",
       "CoapplicantIncome     0\n",
       "LoanAmount           22\n",
       "Loan_Amount_Term     14\n",
       "Credit_History       50\n",
       "Property_Area         0\n",
       "Loan_Status           0\n",
       "dtype: int64"
      ]
     },
     "execution_count": 6,
     "metadata": {},
     "output_type": "execute_result"
    }
   ],
   "source": [
    "df_train.isnull().sum()"
   ]
  },
  {
   "cell_type": "code",
   "execution_count": 7,
   "metadata": {},
   "outputs": [
    {
     "data": {
      "text/html": [
       "<div>\n",
       "<style scoped>\n",
       "    .dataframe tbody tr th:only-of-type {\n",
       "        vertical-align: middle;\n",
       "    }\n",
       "\n",
       "    .dataframe tbody tr th {\n",
       "        vertical-align: top;\n",
       "    }\n",
       "\n",
       "    .dataframe thead th {\n",
       "        text-align: right;\n",
       "    }\n",
       "</style>\n",
       "<table border=\"1\" class=\"dataframe\">\n",
       "  <thead>\n",
       "    <tr style=\"text-align: right;\">\n",
       "      <th></th>\n",
       "      <th>ApplicantIncome</th>\n",
       "      <th>CoapplicantIncome</th>\n",
       "      <th>LoanAmount</th>\n",
       "      <th>Loan_Amount_Term</th>\n",
       "      <th>Credit_History</th>\n",
       "    </tr>\n",
       "  </thead>\n",
       "  <tbody>\n",
       "    <tr>\n",
       "      <th>count</th>\n",
       "      <td>614.000000</td>\n",
       "      <td>614.000000</td>\n",
       "      <td>592.000000</td>\n",
       "      <td>600.00000</td>\n",
       "      <td>564.000000</td>\n",
       "    </tr>\n",
       "    <tr>\n",
       "      <th>mean</th>\n",
       "      <td>5403.459283</td>\n",
       "      <td>1621.245798</td>\n",
       "      <td>146.412162</td>\n",
       "      <td>342.00000</td>\n",
       "      <td>0.842199</td>\n",
       "    </tr>\n",
       "    <tr>\n",
       "      <th>std</th>\n",
       "      <td>6109.041673</td>\n",
       "      <td>2926.248369</td>\n",
       "      <td>85.587325</td>\n",
       "      <td>65.12041</td>\n",
       "      <td>0.364878</td>\n",
       "    </tr>\n",
       "    <tr>\n",
       "      <th>min</th>\n",
       "      <td>150.000000</td>\n",
       "      <td>0.000000</td>\n",
       "      <td>9.000000</td>\n",
       "      <td>12.00000</td>\n",
       "      <td>0.000000</td>\n",
       "    </tr>\n",
       "    <tr>\n",
       "      <th>25%</th>\n",
       "      <td>2877.500000</td>\n",
       "      <td>0.000000</td>\n",
       "      <td>100.000000</td>\n",
       "      <td>360.00000</td>\n",
       "      <td>1.000000</td>\n",
       "    </tr>\n",
       "    <tr>\n",
       "      <th>50%</th>\n",
       "      <td>3812.500000</td>\n",
       "      <td>1188.500000</td>\n",
       "      <td>128.000000</td>\n",
       "      <td>360.00000</td>\n",
       "      <td>1.000000</td>\n",
       "    </tr>\n",
       "    <tr>\n",
       "      <th>75%</th>\n",
       "      <td>5795.000000</td>\n",
       "      <td>2297.250000</td>\n",
       "      <td>168.000000</td>\n",
       "      <td>360.00000</td>\n",
       "      <td>1.000000</td>\n",
       "    </tr>\n",
       "    <tr>\n",
       "      <th>max</th>\n",
       "      <td>81000.000000</td>\n",
       "      <td>41667.000000</td>\n",
       "      <td>700.000000</td>\n",
       "      <td>480.00000</td>\n",
       "      <td>1.000000</td>\n",
       "    </tr>\n",
       "  </tbody>\n",
       "</table>\n",
       "</div>"
      ],
      "text/plain": [
       "       ApplicantIncome  CoapplicantIncome  LoanAmount  Loan_Amount_Term  \\\n",
       "count       614.000000         614.000000  592.000000         600.00000   \n",
       "mean       5403.459283        1621.245798  146.412162         342.00000   \n",
       "std        6109.041673        2926.248369   85.587325          65.12041   \n",
       "min         150.000000           0.000000    9.000000          12.00000   \n",
       "25%        2877.500000           0.000000  100.000000         360.00000   \n",
       "50%        3812.500000        1188.500000  128.000000         360.00000   \n",
       "75%        5795.000000        2297.250000  168.000000         360.00000   \n",
       "max       81000.000000       41667.000000  700.000000         480.00000   \n",
       "\n",
       "       Credit_History  \n",
       "count      564.000000  \n",
       "mean         0.842199  \n",
       "std          0.364878  \n",
       "min          0.000000  \n",
       "25%          1.000000  \n",
       "50%          1.000000  \n",
       "75%          1.000000  \n",
       "max          1.000000  "
      ]
     },
     "execution_count": 7,
     "metadata": {},
     "output_type": "execute_result"
    }
   ],
   "source": [
    "df_train.describe()"
   ]
  },
  {
   "cell_type": "markdown",
   "metadata": {},
   "source": [
    "---"
   ]
  },
  {
   "cell_type": "markdown",
   "metadata": {},
   "source": [
    "## 3) Análise das variáveis"
   ]
  },
  {
   "cell_type": "markdown",
   "metadata": {},
   "source": [
    "### 3.1) Gender"
   ]
  },
  {
   "cell_type": "code",
   "execution_count": 8,
   "metadata": {},
   "outputs": [
    {
     "data": {
      "text/html": [
       "<div>\n",
       "<style scoped>\n",
       "    .dataframe tbody tr th:only-of-type {\n",
       "        vertical-align: middle;\n",
       "    }\n",
       "\n",
       "    .dataframe tbody tr th {\n",
       "        vertical-align: top;\n",
       "    }\n",
       "\n",
       "    .dataframe thead th {\n",
       "        text-align: right;\n",
       "    }\n",
       "</style>\n",
       "<table border=\"1\" class=\"dataframe\">\n",
       "  <thead>\n",
       "    <tr style=\"text-align: right;\">\n",
       "      <th></th>\n",
       "      <th>Loan_ID</th>\n",
       "      <th>Gender</th>\n",
       "      <th>Married</th>\n",
       "      <th>Dependents</th>\n",
       "      <th>Education</th>\n",
       "      <th>Self_Employed</th>\n",
       "      <th>ApplicantIncome</th>\n",
       "      <th>CoapplicantIncome</th>\n",
       "      <th>LoanAmount</th>\n",
       "      <th>Loan_Amount_Term</th>\n",
       "      <th>Credit_History</th>\n",
       "      <th>Property_Area</th>\n",
       "      <th>Loan_Status</th>\n",
       "    </tr>\n",
       "  </thead>\n",
       "  <tbody>\n",
       "    <tr>\n",
       "      <th>0</th>\n",
       "      <td>LP001002</td>\n",
       "      <td>Male</td>\n",
       "      <td>No</td>\n",
       "      <td>0</td>\n",
       "      <td>Graduate</td>\n",
       "      <td>No</td>\n",
       "      <td>5849</td>\n",
       "      <td>0.0</td>\n",
       "      <td>NaN</td>\n",
       "      <td>360.0</td>\n",
       "      <td>1.0</td>\n",
       "      <td>Urban</td>\n",
       "      <td>Y</td>\n",
       "    </tr>\n",
       "    <tr>\n",
       "      <th>1</th>\n",
       "      <td>LP001003</td>\n",
       "      <td>Male</td>\n",
       "      <td>Yes</td>\n",
       "      <td>1</td>\n",
       "      <td>Graduate</td>\n",
       "      <td>No</td>\n",
       "      <td>4583</td>\n",
       "      <td>1508.0</td>\n",
       "      <td>128.0</td>\n",
       "      <td>360.0</td>\n",
       "      <td>1.0</td>\n",
       "      <td>Rural</td>\n",
       "      <td>N</td>\n",
       "    </tr>\n",
       "    <tr>\n",
       "      <th>2</th>\n",
       "      <td>LP001005</td>\n",
       "      <td>Male</td>\n",
       "      <td>Yes</td>\n",
       "      <td>0</td>\n",
       "      <td>Graduate</td>\n",
       "      <td>Yes</td>\n",
       "      <td>3000</td>\n",
       "      <td>0.0</td>\n",
       "      <td>66.0</td>\n",
       "      <td>360.0</td>\n",
       "      <td>1.0</td>\n",
       "      <td>Urban</td>\n",
       "      <td>Y</td>\n",
       "    </tr>\n",
       "    <tr>\n",
       "      <th>3</th>\n",
       "      <td>LP001006</td>\n",
       "      <td>Male</td>\n",
       "      <td>Yes</td>\n",
       "      <td>0</td>\n",
       "      <td>Not Graduate</td>\n",
       "      <td>No</td>\n",
       "      <td>2583</td>\n",
       "      <td>2358.0</td>\n",
       "      <td>120.0</td>\n",
       "      <td>360.0</td>\n",
       "      <td>1.0</td>\n",
       "      <td>Urban</td>\n",
       "      <td>Y</td>\n",
       "    </tr>\n",
       "    <tr>\n",
       "      <th>4</th>\n",
       "      <td>LP001008</td>\n",
       "      <td>Male</td>\n",
       "      <td>No</td>\n",
       "      <td>0</td>\n",
       "      <td>Graduate</td>\n",
       "      <td>No</td>\n",
       "      <td>6000</td>\n",
       "      <td>0.0</td>\n",
       "      <td>141.0</td>\n",
       "      <td>360.0</td>\n",
       "      <td>1.0</td>\n",
       "      <td>Urban</td>\n",
       "      <td>Y</td>\n",
       "    </tr>\n",
       "  </tbody>\n",
       "</table>\n",
       "</div>"
      ],
      "text/plain": [
       "    Loan_ID Gender Married Dependents     Education Self_Employed  \\\n",
       "0  LP001002   Male      No          0      Graduate            No   \n",
       "1  LP001003   Male     Yes          1      Graduate            No   \n",
       "2  LP001005   Male     Yes          0      Graduate           Yes   \n",
       "3  LP001006   Male     Yes          0  Not Graduate            No   \n",
       "4  LP001008   Male      No          0      Graduate            No   \n",
       "\n",
       "   ApplicantIncome  CoapplicantIncome  LoanAmount  Loan_Amount_Term  \\\n",
       "0             5849                0.0         NaN             360.0   \n",
       "1             4583             1508.0       128.0             360.0   \n",
       "2             3000                0.0        66.0             360.0   \n",
       "3             2583             2358.0       120.0             360.0   \n",
       "4             6000                0.0       141.0             360.0   \n",
       "\n",
       "   Credit_History Property_Area Loan_Status  \n",
       "0             1.0         Urban           Y  \n",
       "1             1.0         Rural           N  \n",
       "2             1.0         Urban           Y  \n",
       "3             1.0         Urban           Y  \n",
       "4             1.0         Urban           Y  "
      ]
     },
     "execution_count": 8,
     "metadata": {},
     "output_type": "execute_result"
    }
   ],
   "source": [
    "df_train.head()"
   ]
  },
  {
   "cell_type": "code",
   "execution_count": 9,
   "metadata": {},
   "outputs": [
    {
     "data": {
      "text/plain": [
       "Male      489\n",
       "Female    112\n",
       "Name: Gender, dtype: int64"
      ]
     },
     "execution_count": 9,
     "metadata": {},
     "output_type": "execute_result"
    }
   ],
   "source": [
    "df_train['Gender'].value_counts()"
   ]
  },
  {
   "cell_type": "code",
   "execution_count": 10,
   "metadata": {},
   "outputs": [
    {
     "data": {
      "text/plain": [
       "13"
      ]
     },
     "execution_count": 10,
     "metadata": {},
     "output_type": "execute_result"
    }
   ],
   "source": [
    "df_train['Gender'].isnull().sum()"
   ]
  },
  {
   "cell_type": "code",
   "execution_count": 11,
   "metadata": {},
   "outputs": [
    {
     "data": {
      "text/html": [
       "<div>\n",
       "<style scoped>\n",
       "    .dataframe tbody tr th:only-of-type {\n",
       "        vertical-align: middle;\n",
       "    }\n",
       "\n",
       "    .dataframe tbody tr th {\n",
       "        vertical-align: top;\n",
       "    }\n",
       "\n",
       "    .dataframe thead th {\n",
       "        text-align: right;\n",
       "    }\n",
       "</style>\n",
       "<table border=\"1\" class=\"dataframe\">\n",
       "  <thead>\n",
       "    <tr style=\"text-align: right;\">\n",
       "      <th></th>\n",
       "      <th>Gender</th>\n",
       "      <th>Loan_Status</th>\n",
       "      <th>Loan_ID</th>\n",
       "    </tr>\n",
       "  </thead>\n",
       "  <tbody>\n",
       "    <tr>\n",
       "      <th>0</th>\n",
       "      <td>Female</td>\n",
       "      <td>N</td>\n",
       "      <td>37</td>\n",
       "    </tr>\n",
       "    <tr>\n",
       "      <th>1</th>\n",
       "      <td>Female</td>\n",
       "      <td>Y</td>\n",
       "      <td>75</td>\n",
       "    </tr>\n",
       "    <tr>\n",
       "      <th>2</th>\n",
       "      <td>Male</td>\n",
       "      <td>N</td>\n",
       "      <td>150</td>\n",
       "    </tr>\n",
       "    <tr>\n",
       "      <th>3</th>\n",
       "      <td>Male</td>\n",
       "      <td>Y</td>\n",
       "      <td>339</td>\n",
       "    </tr>\n",
       "  </tbody>\n",
       "</table>\n",
       "</div>"
      ],
      "text/plain": [
       "   Gender Loan_Status  Loan_ID\n",
       "0  Female           N       37\n",
       "1  Female           Y       75\n",
       "2    Male           N      150\n",
       "3    Male           Y      339"
      ]
     },
     "execution_count": 11,
     "metadata": {},
     "output_type": "execute_result"
    }
   ],
   "source": [
    "df_gender = df_train.groupby(['Gender', 'Loan_Status'], as_index=False)['Loan_ID'].count()\n",
    "df_gender"
   ]
  },
  {
   "cell_type": "code",
   "execution_count": 12,
   "metadata": {},
   "outputs": [
    {
     "data": {
      "text/plain": [
       "(2.027027027027027, 2.26)"
      ]
     },
     "execution_count": 12,
     "metadata": {},
     "output_type": "execute_result"
    }
   ],
   "source": [
    "75/37, 339/150"
   ]
  },
  {
   "cell_type": "code",
   "execution_count": 13,
   "metadata": {},
   "outputs": [
    {
     "data": {
      "text/html": [
       "<div>\n",
       "<style scoped>\n",
       "    .dataframe tbody tr th:only-of-type {\n",
       "        vertical-align: middle;\n",
       "    }\n",
       "\n",
       "    .dataframe tbody tr th {\n",
       "        vertical-align: top;\n",
       "    }\n",
       "\n",
       "    .dataframe thead th {\n",
       "        text-align: right;\n",
       "    }\n",
       "</style>\n",
       "<table border=\"1\" class=\"dataframe\">\n",
       "  <thead>\n",
       "    <tr style=\"text-align: right;\">\n",
       "      <th></th>\n",
       "      <th>Gender</th>\n",
       "      <th>Education</th>\n",
       "      <th>Loan_ID</th>\n",
       "    </tr>\n",
       "  </thead>\n",
       "  <tbody>\n",
       "    <tr>\n",
       "      <th>0</th>\n",
       "      <td>Female</td>\n",
       "      <td>Graduate</td>\n",
       "      <td>92</td>\n",
       "    </tr>\n",
       "    <tr>\n",
       "      <th>1</th>\n",
       "      <td>Female</td>\n",
       "      <td>Not Graduate</td>\n",
       "      <td>20</td>\n",
       "    </tr>\n",
       "    <tr>\n",
       "      <th>2</th>\n",
       "      <td>Male</td>\n",
       "      <td>Graduate</td>\n",
       "      <td>376</td>\n",
       "    </tr>\n",
       "    <tr>\n",
       "      <th>3</th>\n",
       "      <td>Male</td>\n",
       "      <td>Not Graduate</td>\n",
       "      <td>113</td>\n",
       "    </tr>\n",
       "  </tbody>\n",
       "</table>\n",
       "</div>"
      ],
      "text/plain": [
       "   Gender     Education  Loan_ID\n",
       "0  Female      Graduate       92\n",
       "1  Female  Not Graduate       20\n",
       "2    Male      Graduate      376\n",
       "3    Male  Not Graduate      113"
      ]
     },
     "execution_count": 13,
     "metadata": {},
     "output_type": "execute_result"
    }
   ],
   "source": [
    "df_gender = df_train.groupby(['Gender', 'Education'], as_index=False)['Loan_ID'].count()\n",
    "df_gender"
   ]
  },
  {
   "cell_type": "code",
   "execution_count": 14,
   "metadata": {},
   "outputs": [
    {
     "data": {
      "text/plain": [
       "(4.6, 3.327433628318584)"
      ]
     },
     "execution_count": 14,
     "metadata": {},
     "output_type": "execute_result"
    }
   ],
   "source": [
    "92/20, 376/113"
   ]
  },
  {
   "cell_type": "code",
   "execution_count": 15,
   "metadata": {},
   "outputs": [
    {
     "data": {
      "text/plain": [
       "0"
      ]
     },
     "execution_count": 15,
     "metadata": {},
     "output_type": "execute_result"
    }
   ],
   "source": [
    "df_train.loc[(df_train['Gender'].isnull()) & (df_train['Education'] == 'Graduate'), 'Gender'] = 'Female'\n",
    "df_train.loc[(df_train['Gender'].isnull()) & (df_train['Education'] == 'Not Graduate'), 'Gender'] = 'Male'\n",
    "\n",
    "df_train['Gender'].isnull().sum()"
   ]
  },
  {
   "cell_type": "code",
   "execution_count": 16,
   "metadata": {},
   "outputs": [],
   "source": [
    "del df_gender"
   ]
  },
  {
   "cell_type": "markdown",
   "metadata": {},
   "source": [
    "### 3.2) Married"
   ]
  },
  {
   "cell_type": "code",
   "execution_count": 17,
   "metadata": {},
   "outputs": [
    {
     "data": {
      "text/plain": [
       "Yes    398\n",
       "No     213\n",
       "Name: Married, dtype: int64"
      ]
     },
     "execution_count": 17,
     "metadata": {},
     "output_type": "execute_result"
    }
   ],
   "source": [
    "df_train['Married'].value_counts()"
   ]
  },
  {
   "cell_type": "code",
   "execution_count": 18,
   "metadata": {},
   "outputs": [
    {
     "data": {
      "text/plain": [
       "3"
      ]
     },
     "execution_count": 18,
     "metadata": {},
     "output_type": "execute_result"
    }
   ],
   "source": [
    "df_train['Married'].isnull().sum()"
   ]
  },
  {
   "cell_type": "code",
   "execution_count": 19,
   "metadata": {},
   "outputs": [
    {
     "data": {
      "text/html": [
       "<div>\n",
       "<style scoped>\n",
       "    .dataframe tbody tr th:only-of-type {\n",
       "        vertical-align: middle;\n",
       "    }\n",
       "\n",
       "    .dataframe tbody tr th {\n",
       "        vertical-align: top;\n",
       "    }\n",
       "\n",
       "    .dataframe thead th {\n",
       "        text-align: right;\n",
       "    }\n",
       "</style>\n",
       "<table border=\"1\" class=\"dataframe\">\n",
       "  <thead>\n",
       "    <tr style=\"text-align: right;\">\n",
       "      <th></th>\n",
       "      <th>Married</th>\n",
       "      <th>Loan_Status</th>\n",
       "      <th>Loan_ID</th>\n",
       "    </tr>\n",
       "  </thead>\n",
       "  <tbody>\n",
       "    <tr>\n",
       "      <th>0</th>\n",
       "      <td>No</td>\n",
       "      <td>N</td>\n",
       "      <td>79</td>\n",
       "    </tr>\n",
       "    <tr>\n",
       "      <th>1</th>\n",
       "      <td>No</td>\n",
       "      <td>Y</td>\n",
       "      <td>134</td>\n",
       "    </tr>\n",
       "    <tr>\n",
       "      <th>2</th>\n",
       "      <td>Yes</td>\n",
       "      <td>N</td>\n",
       "      <td>113</td>\n",
       "    </tr>\n",
       "    <tr>\n",
       "      <th>3</th>\n",
       "      <td>Yes</td>\n",
       "      <td>Y</td>\n",
       "      <td>285</td>\n",
       "    </tr>\n",
       "  </tbody>\n",
       "</table>\n",
       "</div>"
      ],
      "text/plain": [
       "  Married Loan_Status  Loan_ID\n",
       "0      No           N       79\n",
       "1      No           Y      134\n",
       "2     Yes           N      113\n",
       "3     Yes           Y      285"
      ]
     },
     "execution_count": 19,
     "metadata": {},
     "output_type": "execute_result"
    }
   ],
   "source": [
    "df_married = df_train.groupby(['Married', 'Loan_Status'], as_index=False)['Loan_ID'].count()\n",
    "df_married"
   ]
  },
  {
   "cell_type": "code",
   "execution_count": 20,
   "metadata": {},
   "outputs": [
    {
     "data": {
      "text/plain": [
       "(1.6962025316455696, 2.52212389380531)"
      ]
     },
     "execution_count": 20,
     "metadata": {},
     "output_type": "execute_result"
    }
   ],
   "source": [
    "134/79, 285/113"
   ]
  },
  {
   "cell_type": "code",
   "execution_count": 21,
   "metadata": {},
   "outputs": [
    {
     "data": {
      "text/plain": [
       "0"
      ]
     },
     "execution_count": 21,
     "metadata": {},
     "output_type": "execute_result"
    }
   ],
   "source": [
    "df_train.loc[(df_train['Married'].isnull()) & (df_train['Loan_Status'] == 'Y'), 'Married'] = 'Yes'\n",
    "df_train.loc[(df_train['Married'].isnull()) & (df_train['Loan_Status'] == 'N'), 'Married'] = 'No'\n",
    "\n",
    "df_train['Married'].isnull().sum()"
   ]
  },
  {
   "cell_type": "code",
   "execution_count": 22,
   "metadata": {},
   "outputs": [],
   "source": [
    "del df_married"
   ]
  },
  {
   "cell_type": "markdown",
   "metadata": {},
   "source": [
    "### 3.3) Dependents"
   ]
  },
  {
   "cell_type": "code",
   "execution_count": 23,
   "metadata": {},
   "outputs": [
    {
     "data": {
      "text/html": [
       "<div>\n",
       "<style scoped>\n",
       "    .dataframe tbody tr th:only-of-type {\n",
       "        vertical-align: middle;\n",
       "    }\n",
       "\n",
       "    .dataframe tbody tr th {\n",
       "        vertical-align: top;\n",
       "    }\n",
       "\n",
       "    .dataframe thead th {\n",
       "        text-align: right;\n",
       "    }\n",
       "</style>\n",
       "<table border=\"1\" class=\"dataframe\">\n",
       "  <thead>\n",
       "    <tr style=\"text-align: right;\">\n",
       "      <th></th>\n",
       "      <th>Loan_ID</th>\n",
       "      <th>Gender</th>\n",
       "      <th>Married</th>\n",
       "      <th>Dependents</th>\n",
       "      <th>Education</th>\n",
       "      <th>Self_Employed</th>\n",
       "      <th>ApplicantIncome</th>\n",
       "      <th>CoapplicantIncome</th>\n",
       "      <th>LoanAmount</th>\n",
       "      <th>Loan_Amount_Term</th>\n",
       "      <th>Credit_History</th>\n",
       "      <th>Property_Area</th>\n",
       "      <th>Loan_Status</th>\n",
       "    </tr>\n",
       "  </thead>\n",
       "  <tbody>\n",
       "    <tr>\n",
       "      <th>0</th>\n",
       "      <td>LP001002</td>\n",
       "      <td>Male</td>\n",
       "      <td>No</td>\n",
       "      <td>0</td>\n",
       "      <td>Graduate</td>\n",
       "      <td>No</td>\n",
       "      <td>5849</td>\n",
       "      <td>0.0</td>\n",
       "      <td>NaN</td>\n",
       "      <td>360.0</td>\n",
       "      <td>1.0</td>\n",
       "      <td>Urban</td>\n",
       "      <td>Y</td>\n",
       "    </tr>\n",
       "    <tr>\n",
       "      <th>1</th>\n",
       "      <td>LP001003</td>\n",
       "      <td>Male</td>\n",
       "      <td>Yes</td>\n",
       "      <td>1</td>\n",
       "      <td>Graduate</td>\n",
       "      <td>No</td>\n",
       "      <td>4583</td>\n",
       "      <td>1508.0</td>\n",
       "      <td>128.0</td>\n",
       "      <td>360.0</td>\n",
       "      <td>1.0</td>\n",
       "      <td>Rural</td>\n",
       "      <td>N</td>\n",
       "    </tr>\n",
       "    <tr>\n",
       "      <th>2</th>\n",
       "      <td>LP001005</td>\n",
       "      <td>Male</td>\n",
       "      <td>Yes</td>\n",
       "      <td>0</td>\n",
       "      <td>Graduate</td>\n",
       "      <td>Yes</td>\n",
       "      <td>3000</td>\n",
       "      <td>0.0</td>\n",
       "      <td>66.0</td>\n",
       "      <td>360.0</td>\n",
       "      <td>1.0</td>\n",
       "      <td>Urban</td>\n",
       "      <td>Y</td>\n",
       "    </tr>\n",
       "    <tr>\n",
       "      <th>3</th>\n",
       "      <td>LP001006</td>\n",
       "      <td>Male</td>\n",
       "      <td>Yes</td>\n",
       "      <td>0</td>\n",
       "      <td>Not Graduate</td>\n",
       "      <td>No</td>\n",
       "      <td>2583</td>\n",
       "      <td>2358.0</td>\n",
       "      <td>120.0</td>\n",
       "      <td>360.0</td>\n",
       "      <td>1.0</td>\n",
       "      <td>Urban</td>\n",
       "      <td>Y</td>\n",
       "    </tr>\n",
       "    <tr>\n",
       "      <th>4</th>\n",
       "      <td>LP001008</td>\n",
       "      <td>Male</td>\n",
       "      <td>No</td>\n",
       "      <td>0</td>\n",
       "      <td>Graduate</td>\n",
       "      <td>No</td>\n",
       "      <td>6000</td>\n",
       "      <td>0.0</td>\n",
       "      <td>141.0</td>\n",
       "      <td>360.0</td>\n",
       "      <td>1.0</td>\n",
       "      <td>Urban</td>\n",
       "      <td>Y</td>\n",
       "    </tr>\n",
       "  </tbody>\n",
       "</table>\n",
       "</div>"
      ],
      "text/plain": [
       "    Loan_ID Gender Married Dependents     Education Self_Employed  \\\n",
       "0  LP001002   Male      No          0      Graduate            No   \n",
       "1  LP001003   Male     Yes          1      Graduate            No   \n",
       "2  LP001005   Male     Yes          0      Graduate           Yes   \n",
       "3  LP001006   Male     Yes          0  Not Graduate            No   \n",
       "4  LP001008   Male      No          0      Graduate            No   \n",
       "\n",
       "   ApplicantIncome  CoapplicantIncome  LoanAmount  Loan_Amount_Term  \\\n",
       "0             5849                0.0         NaN             360.0   \n",
       "1             4583             1508.0       128.0             360.0   \n",
       "2             3000                0.0        66.0             360.0   \n",
       "3             2583             2358.0       120.0             360.0   \n",
       "4             6000                0.0       141.0             360.0   \n",
       "\n",
       "   Credit_History Property_Area Loan_Status  \n",
       "0             1.0         Urban           Y  \n",
       "1             1.0         Rural           N  \n",
       "2             1.0         Urban           Y  \n",
       "3             1.0         Urban           Y  \n",
       "4             1.0         Urban           Y  "
      ]
     },
     "execution_count": 23,
     "metadata": {},
     "output_type": "execute_result"
    }
   ],
   "source": [
    "df_train.head()"
   ]
  },
  {
   "cell_type": "code",
   "execution_count": 24,
   "metadata": {},
   "outputs": [
    {
     "data": {
      "text/plain": [
       "0     345\n",
       "1     102\n",
       "2     101\n",
       "3+     51\n",
       "Name: Dependents, dtype: int64"
      ]
     },
     "execution_count": 24,
     "metadata": {},
     "output_type": "execute_result"
    }
   ],
   "source": [
    "df_train['Dependents'].value_counts()"
   ]
  },
  {
   "cell_type": "code",
   "execution_count": 25,
   "metadata": {},
   "outputs": [
    {
     "data": {
      "text/plain": [
       "15"
      ]
     },
     "execution_count": 25,
     "metadata": {},
     "output_type": "execute_result"
    }
   ],
   "source": [
    "df_train['Dependents'].isnull().sum()"
   ]
  },
  {
   "cell_type": "code",
   "execution_count": 26,
   "metadata": {},
   "outputs": [
    {
     "data": {
      "text/plain": [
       "0     345\n",
       "1     102\n",
       "2     101\n",
       "3+     51\n",
       "0      15\n",
       "Name: Dependents, dtype: int64"
      ]
     },
     "execution_count": 26,
     "metadata": {},
     "output_type": "execute_result"
    }
   ],
   "source": [
    "df_train['Dependents'].fillna(0, inplace=True)\n",
    "df_train['Dependents'].value_counts()"
   ]
  },
  {
   "cell_type": "code",
   "execution_count": 27,
   "metadata": {},
   "outputs": [],
   "source": [
    "# Converter valores string para float.\n",
    "def converterStrToInt(x):\n",
    "    x = str(x)\n",
    "    x = x.replace('+', '')\n",
    "    x = int(x)\n",
    "\n",
    "    return x\n",
    "\n",
    "df_train['Dependents'] = df_train['Dependents'].apply(converterStrToInt)"
   ]
  },
  {
   "cell_type": "markdown",
   "metadata": {},
   "source": [
    "### 3.4) Education"
   ]
  },
  {
   "cell_type": "code",
   "execution_count": 28,
   "metadata": {},
   "outputs": [
    {
     "data": {
      "text/html": [
       "<div>\n",
       "<style scoped>\n",
       "    .dataframe tbody tr th:only-of-type {\n",
       "        vertical-align: middle;\n",
       "    }\n",
       "\n",
       "    .dataframe tbody tr th {\n",
       "        vertical-align: top;\n",
       "    }\n",
       "\n",
       "    .dataframe thead th {\n",
       "        text-align: right;\n",
       "    }\n",
       "</style>\n",
       "<table border=\"1\" class=\"dataframe\">\n",
       "  <thead>\n",
       "    <tr style=\"text-align: right;\">\n",
       "      <th></th>\n",
       "      <th>Loan_ID</th>\n",
       "      <th>Gender</th>\n",
       "      <th>Married</th>\n",
       "      <th>Dependents</th>\n",
       "      <th>Education</th>\n",
       "      <th>Self_Employed</th>\n",
       "      <th>ApplicantIncome</th>\n",
       "      <th>CoapplicantIncome</th>\n",
       "      <th>LoanAmount</th>\n",
       "      <th>Loan_Amount_Term</th>\n",
       "      <th>Credit_History</th>\n",
       "      <th>Property_Area</th>\n",
       "      <th>Loan_Status</th>\n",
       "    </tr>\n",
       "  </thead>\n",
       "  <tbody>\n",
       "    <tr>\n",
       "      <th>0</th>\n",
       "      <td>LP001002</td>\n",
       "      <td>Male</td>\n",
       "      <td>No</td>\n",
       "      <td>0</td>\n",
       "      <td>Graduate</td>\n",
       "      <td>No</td>\n",
       "      <td>5849</td>\n",
       "      <td>0.0</td>\n",
       "      <td>NaN</td>\n",
       "      <td>360.0</td>\n",
       "      <td>1.0</td>\n",
       "      <td>Urban</td>\n",
       "      <td>Y</td>\n",
       "    </tr>\n",
       "    <tr>\n",
       "      <th>1</th>\n",
       "      <td>LP001003</td>\n",
       "      <td>Male</td>\n",
       "      <td>Yes</td>\n",
       "      <td>1</td>\n",
       "      <td>Graduate</td>\n",
       "      <td>No</td>\n",
       "      <td>4583</td>\n",
       "      <td>1508.0</td>\n",
       "      <td>128.0</td>\n",
       "      <td>360.0</td>\n",
       "      <td>1.0</td>\n",
       "      <td>Rural</td>\n",
       "      <td>N</td>\n",
       "    </tr>\n",
       "    <tr>\n",
       "      <th>2</th>\n",
       "      <td>LP001005</td>\n",
       "      <td>Male</td>\n",
       "      <td>Yes</td>\n",
       "      <td>0</td>\n",
       "      <td>Graduate</td>\n",
       "      <td>Yes</td>\n",
       "      <td>3000</td>\n",
       "      <td>0.0</td>\n",
       "      <td>66.0</td>\n",
       "      <td>360.0</td>\n",
       "      <td>1.0</td>\n",
       "      <td>Urban</td>\n",
       "      <td>Y</td>\n",
       "    </tr>\n",
       "    <tr>\n",
       "      <th>3</th>\n",
       "      <td>LP001006</td>\n",
       "      <td>Male</td>\n",
       "      <td>Yes</td>\n",
       "      <td>0</td>\n",
       "      <td>Not Graduate</td>\n",
       "      <td>No</td>\n",
       "      <td>2583</td>\n",
       "      <td>2358.0</td>\n",
       "      <td>120.0</td>\n",
       "      <td>360.0</td>\n",
       "      <td>1.0</td>\n",
       "      <td>Urban</td>\n",
       "      <td>Y</td>\n",
       "    </tr>\n",
       "    <tr>\n",
       "      <th>4</th>\n",
       "      <td>LP001008</td>\n",
       "      <td>Male</td>\n",
       "      <td>No</td>\n",
       "      <td>0</td>\n",
       "      <td>Graduate</td>\n",
       "      <td>No</td>\n",
       "      <td>6000</td>\n",
       "      <td>0.0</td>\n",
       "      <td>141.0</td>\n",
       "      <td>360.0</td>\n",
       "      <td>1.0</td>\n",
       "      <td>Urban</td>\n",
       "      <td>Y</td>\n",
       "    </tr>\n",
       "  </tbody>\n",
       "</table>\n",
       "</div>"
      ],
      "text/plain": [
       "    Loan_ID Gender Married  Dependents     Education Self_Employed  \\\n",
       "0  LP001002   Male      No           0      Graduate            No   \n",
       "1  LP001003   Male     Yes           1      Graduate            No   \n",
       "2  LP001005   Male     Yes           0      Graduate           Yes   \n",
       "3  LP001006   Male     Yes           0  Not Graduate            No   \n",
       "4  LP001008   Male      No           0      Graduate            No   \n",
       "\n",
       "   ApplicantIncome  CoapplicantIncome  LoanAmount  Loan_Amount_Term  \\\n",
       "0             5849                0.0         NaN             360.0   \n",
       "1             4583             1508.0       128.0             360.0   \n",
       "2             3000                0.0        66.0             360.0   \n",
       "3             2583             2358.0       120.0             360.0   \n",
       "4             6000                0.0       141.0             360.0   \n",
       "\n",
       "   Credit_History Property_Area Loan_Status  \n",
       "0             1.0         Urban           Y  \n",
       "1             1.0         Rural           N  \n",
       "2             1.0         Urban           Y  \n",
       "3             1.0         Urban           Y  \n",
       "4             1.0         Urban           Y  "
      ]
     },
     "execution_count": 28,
     "metadata": {},
     "output_type": "execute_result"
    }
   ],
   "source": [
    "df_train.head()"
   ]
  },
  {
   "cell_type": "code",
   "execution_count": 29,
   "metadata": {},
   "outputs": [
    {
     "data": {
      "text/plain": [
       "Graduate        480\n",
       "Not Graduate    134\n",
       "Name: Education, dtype: int64"
      ]
     },
     "execution_count": 29,
     "metadata": {},
     "output_type": "execute_result"
    }
   ],
   "source": [
    "df_train['Education'].value_counts()"
   ]
  },
  {
   "cell_type": "code",
   "execution_count": 30,
   "metadata": {},
   "outputs": [
    {
     "data": {
      "text/plain": [
       "0"
      ]
     },
     "execution_count": 30,
     "metadata": {},
     "output_type": "execute_result"
    }
   ],
   "source": [
    "df_train['Education'].isnull().sum()"
   ]
  },
  {
   "cell_type": "markdown",
   "metadata": {},
   "source": [
    "### 3.5) Self_Employed"
   ]
  },
  {
   "cell_type": "code",
   "execution_count": 31,
   "metadata": {},
   "outputs": [
    {
     "data": {
      "text/html": [
       "<div>\n",
       "<style scoped>\n",
       "    .dataframe tbody tr th:only-of-type {\n",
       "        vertical-align: middle;\n",
       "    }\n",
       "\n",
       "    .dataframe tbody tr th {\n",
       "        vertical-align: top;\n",
       "    }\n",
       "\n",
       "    .dataframe thead th {\n",
       "        text-align: right;\n",
       "    }\n",
       "</style>\n",
       "<table border=\"1\" class=\"dataframe\">\n",
       "  <thead>\n",
       "    <tr style=\"text-align: right;\">\n",
       "      <th></th>\n",
       "      <th>Loan_ID</th>\n",
       "      <th>Gender</th>\n",
       "      <th>Married</th>\n",
       "      <th>Dependents</th>\n",
       "      <th>Education</th>\n",
       "      <th>Self_Employed</th>\n",
       "      <th>ApplicantIncome</th>\n",
       "      <th>CoapplicantIncome</th>\n",
       "      <th>LoanAmount</th>\n",
       "      <th>Loan_Amount_Term</th>\n",
       "      <th>Credit_History</th>\n",
       "      <th>Property_Area</th>\n",
       "      <th>Loan_Status</th>\n",
       "    </tr>\n",
       "  </thead>\n",
       "  <tbody>\n",
       "    <tr>\n",
       "      <th>0</th>\n",
       "      <td>LP001002</td>\n",
       "      <td>Male</td>\n",
       "      <td>No</td>\n",
       "      <td>0</td>\n",
       "      <td>Graduate</td>\n",
       "      <td>No</td>\n",
       "      <td>5849</td>\n",
       "      <td>0.0</td>\n",
       "      <td>NaN</td>\n",
       "      <td>360.0</td>\n",
       "      <td>1.0</td>\n",
       "      <td>Urban</td>\n",
       "      <td>Y</td>\n",
       "    </tr>\n",
       "    <tr>\n",
       "      <th>1</th>\n",
       "      <td>LP001003</td>\n",
       "      <td>Male</td>\n",
       "      <td>Yes</td>\n",
       "      <td>1</td>\n",
       "      <td>Graduate</td>\n",
       "      <td>No</td>\n",
       "      <td>4583</td>\n",
       "      <td>1508.0</td>\n",
       "      <td>128.0</td>\n",
       "      <td>360.0</td>\n",
       "      <td>1.0</td>\n",
       "      <td>Rural</td>\n",
       "      <td>N</td>\n",
       "    </tr>\n",
       "    <tr>\n",
       "      <th>2</th>\n",
       "      <td>LP001005</td>\n",
       "      <td>Male</td>\n",
       "      <td>Yes</td>\n",
       "      <td>0</td>\n",
       "      <td>Graduate</td>\n",
       "      <td>Yes</td>\n",
       "      <td>3000</td>\n",
       "      <td>0.0</td>\n",
       "      <td>66.0</td>\n",
       "      <td>360.0</td>\n",
       "      <td>1.0</td>\n",
       "      <td>Urban</td>\n",
       "      <td>Y</td>\n",
       "    </tr>\n",
       "    <tr>\n",
       "      <th>3</th>\n",
       "      <td>LP001006</td>\n",
       "      <td>Male</td>\n",
       "      <td>Yes</td>\n",
       "      <td>0</td>\n",
       "      <td>Not Graduate</td>\n",
       "      <td>No</td>\n",
       "      <td>2583</td>\n",
       "      <td>2358.0</td>\n",
       "      <td>120.0</td>\n",
       "      <td>360.0</td>\n",
       "      <td>1.0</td>\n",
       "      <td>Urban</td>\n",
       "      <td>Y</td>\n",
       "    </tr>\n",
       "    <tr>\n",
       "      <th>4</th>\n",
       "      <td>LP001008</td>\n",
       "      <td>Male</td>\n",
       "      <td>No</td>\n",
       "      <td>0</td>\n",
       "      <td>Graduate</td>\n",
       "      <td>No</td>\n",
       "      <td>6000</td>\n",
       "      <td>0.0</td>\n",
       "      <td>141.0</td>\n",
       "      <td>360.0</td>\n",
       "      <td>1.0</td>\n",
       "      <td>Urban</td>\n",
       "      <td>Y</td>\n",
       "    </tr>\n",
       "  </tbody>\n",
       "</table>\n",
       "</div>"
      ],
      "text/plain": [
       "    Loan_ID Gender Married  Dependents     Education Self_Employed  \\\n",
       "0  LP001002   Male      No           0      Graduate            No   \n",
       "1  LP001003   Male     Yes           1      Graduate            No   \n",
       "2  LP001005   Male     Yes           0      Graduate           Yes   \n",
       "3  LP001006   Male     Yes           0  Not Graduate            No   \n",
       "4  LP001008   Male      No           0      Graduate            No   \n",
       "\n",
       "   ApplicantIncome  CoapplicantIncome  LoanAmount  Loan_Amount_Term  \\\n",
       "0             5849                0.0         NaN             360.0   \n",
       "1             4583             1508.0       128.0             360.0   \n",
       "2             3000                0.0        66.0             360.0   \n",
       "3             2583             2358.0       120.0             360.0   \n",
       "4             6000                0.0       141.0             360.0   \n",
       "\n",
       "   Credit_History Property_Area Loan_Status  \n",
       "0             1.0         Urban           Y  \n",
       "1             1.0         Rural           N  \n",
       "2             1.0         Urban           Y  \n",
       "3             1.0         Urban           Y  \n",
       "4             1.0         Urban           Y  "
      ]
     },
     "execution_count": 31,
     "metadata": {},
     "output_type": "execute_result"
    }
   ],
   "source": [
    "df_train.head()"
   ]
  },
  {
   "cell_type": "code",
   "execution_count": 32,
   "metadata": {},
   "outputs": [
    {
     "data": {
      "text/plain": [
       "No     500\n",
       "Yes     82\n",
       "Name: Self_Employed, dtype: int64"
      ]
     },
     "execution_count": 32,
     "metadata": {},
     "output_type": "execute_result"
    }
   ],
   "source": [
    "df_train['Self_Employed'].value_counts()"
   ]
  },
  {
   "cell_type": "code",
   "execution_count": 33,
   "metadata": {},
   "outputs": [
    {
     "data": {
      "text/plain": [
       "32"
      ]
     },
     "execution_count": 33,
     "metadata": {},
     "output_type": "execute_result"
    }
   ],
   "source": [
    "df_train['Self_Employed'].isnull().sum()"
   ]
  },
  {
   "cell_type": "code",
   "execution_count": 34,
   "metadata": {},
   "outputs": [
    {
     "data": {
      "text/html": [
       "<div>\n",
       "<style scoped>\n",
       "    .dataframe tbody tr th:only-of-type {\n",
       "        vertical-align: middle;\n",
       "    }\n",
       "\n",
       "    .dataframe tbody tr th {\n",
       "        vertical-align: top;\n",
       "    }\n",
       "\n",
       "    .dataframe thead th {\n",
       "        text-align: right;\n",
       "    }\n",
       "</style>\n",
       "<table border=\"1\" class=\"dataframe\">\n",
       "  <thead>\n",
       "    <tr style=\"text-align: right;\">\n",
       "      <th></th>\n",
       "      <th>Self_Employed</th>\n",
       "      <th>Loan_Status</th>\n",
       "      <th>Loan_ID</th>\n",
       "    </tr>\n",
       "  </thead>\n",
       "  <tbody>\n",
       "    <tr>\n",
       "      <th>0</th>\n",
       "      <td>No</td>\n",
       "      <td>N</td>\n",
       "      <td>157</td>\n",
       "    </tr>\n",
       "    <tr>\n",
       "      <th>1</th>\n",
       "      <td>No</td>\n",
       "      <td>Y</td>\n",
       "      <td>343</td>\n",
       "    </tr>\n",
       "    <tr>\n",
       "      <th>2</th>\n",
       "      <td>Yes</td>\n",
       "      <td>N</td>\n",
       "      <td>26</td>\n",
       "    </tr>\n",
       "    <tr>\n",
       "      <th>3</th>\n",
       "      <td>Yes</td>\n",
       "      <td>Y</td>\n",
       "      <td>56</td>\n",
       "    </tr>\n",
       "  </tbody>\n",
       "</table>\n",
       "</div>"
      ],
      "text/plain": [
       "  Self_Employed Loan_Status  Loan_ID\n",
       "0            No           N      157\n",
       "1            No           Y      343\n",
       "2           Yes           N       26\n",
       "3           Yes           Y       56"
      ]
     },
     "execution_count": 34,
     "metadata": {},
     "output_type": "execute_result"
    }
   ],
   "source": [
    "df_employed = df_train.groupby(['Self_Employed', 'Loan_Status'], as_index=False)['Loan_ID'].count()\n",
    "df_employed"
   ]
  },
  {
   "cell_type": "code",
   "execution_count": 35,
   "metadata": {},
   "outputs": [],
   "source": [
    "df_train['Self_Employed'].fillna('No', inplace=True)"
   ]
  },
  {
   "cell_type": "code",
   "execution_count": 36,
   "metadata": {},
   "outputs": [],
   "source": [
    "del df_employed"
   ]
  },
  {
   "cell_type": "markdown",
   "metadata": {},
   "source": [
    "### 3.6) CoapplicantIncome"
   ]
  },
  {
   "cell_type": "code",
   "execution_count": 37,
   "metadata": {},
   "outputs": [
    {
     "data": {
      "text/plain": [
       "0"
      ]
     },
     "execution_count": 37,
     "metadata": {},
     "output_type": "execute_result"
    }
   ],
   "source": [
    "df_train['CoapplicantIncome'].isnull().sum()"
   ]
  },
  {
   "cell_type": "code",
   "execution_count": 38,
   "metadata": {},
   "outputs": [
    {
     "data": {
      "text/plain": [
       "count      614.000000\n",
       "mean      1621.245798\n",
       "std       2926.248369\n",
       "min          0.000000\n",
       "25%          0.000000\n",
       "50%       1188.500000\n",
       "75%       2297.250000\n",
       "max      41667.000000\n",
       "Name: CoapplicantIncome, dtype: float64"
      ]
     },
     "execution_count": 38,
     "metadata": {},
     "output_type": "execute_result"
    }
   ],
   "source": [
    "df_train['CoapplicantIncome'].describe()"
   ]
  },
  {
   "cell_type": "code",
   "execution_count": 39,
   "metadata": {},
   "outputs": [
    {
     "data": {
      "application/vnd.plotly.v1+json": {
       "config": {
        "plotlyServerURL": "https://plot.ly"
       },
       "data": [
        {
         "alignmentgroup": "True",
         "hovertemplate": "variable=%{x}<br>value=%{y}<extra></extra>",
         "legendgroup": "",
         "marker": {
          "color": "#636efa"
         },
         "name": "",
         "notched": false,
         "offsetgroup": "",
         "orientation": "v",
         "showlegend": false,
         "type": "box",
         "x": [
          "CoapplicantIncome",
          "CoapplicantIncome",
          "CoapplicantIncome",
          "CoapplicantIncome",
          "CoapplicantIncome",
          "CoapplicantIncome",
          "CoapplicantIncome",
          "CoapplicantIncome",
          "CoapplicantIncome",
          "CoapplicantIncome",
          "CoapplicantIncome",
          "CoapplicantIncome",
          "CoapplicantIncome",
          "CoapplicantIncome",
          "CoapplicantIncome",
          "CoapplicantIncome",
          "CoapplicantIncome",
          "CoapplicantIncome",
          "CoapplicantIncome",
          "CoapplicantIncome",
          "CoapplicantIncome",
          "CoapplicantIncome",
          "CoapplicantIncome",
          "CoapplicantIncome",
          "CoapplicantIncome",
          "CoapplicantIncome",
          "CoapplicantIncome",
          "CoapplicantIncome",
          "CoapplicantIncome",
          "CoapplicantIncome",
          "CoapplicantIncome",
          "CoapplicantIncome",
          "CoapplicantIncome",
          "CoapplicantIncome",
          "CoapplicantIncome",
          "CoapplicantIncome",
          "CoapplicantIncome",
          "CoapplicantIncome",
          "CoapplicantIncome",
          "CoapplicantIncome",
          "CoapplicantIncome",
          "CoapplicantIncome",
          "CoapplicantIncome",
          "CoapplicantIncome",
          "CoapplicantIncome",
          "CoapplicantIncome",
          "CoapplicantIncome",
          "CoapplicantIncome",
          "CoapplicantIncome",
          "CoapplicantIncome",
          "CoapplicantIncome",
          "CoapplicantIncome",
          "CoapplicantIncome",
          "CoapplicantIncome",
          "CoapplicantIncome",
          "CoapplicantIncome",
          "CoapplicantIncome",
          "CoapplicantIncome",
          "CoapplicantIncome",
          "CoapplicantIncome",
          "CoapplicantIncome",
          "CoapplicantIncome",
          "CoapplicantIncome",
          "CoapplicantIncome",
          "CoapplicantIncome",
          "CoapplicantIncome",
          "CoapplicantIncome",
          "CoapplicantIncome",
          "CoapplicantIncome",
          "CoapplicantIncome",
          "CoapplicantIncome",
          "CoapplicantIncome",
          "CoapplicantIncome",
          "CoapplicantIncome",
          "CoapplicantIncome",
          "CoapplicantIncome",
          "CoapplicantIncome",
          "CoapplicantIncome",
          "CoapplicantIncome",
          "CoapplicantIncome",
          "CoapplicantIncome",
          "CoapplicantIncome",
          "CoapplicantIncome",
          "CoapplicantIncome",
          "CoapplicantIncome",
          "CoapplicantIncome",
          "CoapplicantIncome",
          "CoapplicantIncome",
          "CoapplicantIncome",
          "CoapplicantIncome",
          "CoapplicantIncome",
          "CoapplicantIncome",
          "CoapplicantIncome",
          "CoapplicantIncome",
          "CoapplicantIncome",
          "CoapplicantIncome",
          "CoapplicantIncome",
          "CoapplicantIncome",
          "CoapplicantIncome",
          "CoapplicantIncome",
          "CoapplicantIncome",
          "CoapplicantIncome",
          "CoapplicantIncome",
          "CoapplicantIncome",
          "CoapplicantIncome",
          "CoapplicantIncome",
          "CoapplicantIncome",
          "CoapplicantIncome",
          "CoapplicantIncome",
          "CoapplicantIncome",
          "CoapplicantIncome",
          "CoapplicantIncome",
          "CoapplicantIncome",
          "CoapplicantIncome",
          "CoapplicantIncome",
          "CoapplicantIncome",
          "CoapplicantIncome",
          "CoapplicantIncome",
          "CoapplicantIncome",
          "CoapplicantIncome",
          "CoapplicantIncome",
          "CoapplicantIncome",
          "CoapplicantIncome",
          "CoapplicantIncome",
          "CoapplicantIncome",
          "CoapplicantIncome",
          "CoapplicantIncome",
          "CoapplicantIncome",
          "CoapplicantIncome",
          "CoapplicantIncome",
          "CoapplicantIncome",
          "CoapplicantIncome",
          "CoapplicantIncome",
          "CoapplicantIncome",
          "CoapplicantIncome",
          "CoapplicantIncome",
          "CoapplicantIncome",
          "CoapplicantIncome",
          "CoapplicantIncome",
          "CoapplicantIncome",
          "CoapplicantIncome",
          "CoapplicantIncome",
          "CoapplicantIncome",
          "CoapplicantIncome",
          "CoapplicantIncome",
          "CoapplicantIncome",
          "CoapplicantIncome",
          "CoapplicantIncome",
          "CoapplicantIncome",
          "CoapplicantIncome",
          "CoapplicantIncome",
          "CoapplicantIncome",
          "CoapplicantIncome",
          "CoapplicantIncome",
          "CoapplicantIncome",
          "CoapplicantIncome",
          "CoapplicantIncome",
          "CoapplicantIncome",
          "CoapplicantIncome",
          "CoapplicantIncome",
          "CoapplicantIncome",
          "CoapplicantIncome",
          "CoapplicantIncome",
          "CoapplicantIncome",
          "CoapplicantIncome",
          "CoapplicantIncome",
          "CoapplicantIncome",
          "CoapplicantIncome",
          "CoapplicantIncome",
          "CoapplicantIncome",
          "CoapplicantIncome",
          "CoapplicantIncome",
          "CoapplicantIncome",
          "CoapplicantIncome",
          "CoapplicantIncome",
          "CoapplicantIncome",
          "CoapplicantIncome",
          "CoapplicantIncome",
          "CoapplicantIncome",
          "CoapplicantIncome",
          "CoapplicantIncome",
          "CoapplicantIncome",
          "CoapplicantIncome",
          "CoapplicantIncome",
          "CoapplicantIncome",
          "CoapplicantIncome",
          "CoapplicantIncome",
          "CoapplicantIncome",
          "CoapplicantIncome",
          "CoapplicantIncome",
          "CoapplicantIncome",
          "CoapplicantIncome",
          "CoapplicantIncome",
          "CoapplicantIncome",
          "CoapplicantIncome",
          "CoapplicantIncome",
          "CoapplicantIncome",
          "CoapplicantIncome",
          "CoapplicantIncome",
          "CoapplicantIncome",
          "CoapplicantIncome",
          "CoapplicantIncome",
          "CoapplicantIncome",
          "CoapplicantIncome",
          "CoapplicantIncome",
          "CoapplicantIncome",
          "CoapplicantIncome",
          "CoapplicantIncome",
          "CoapplicantIncome",
          "CoapplicantIncome",
          "CoapplicantIncome",
          "CoapplicantIncome",
          "CoapplicantIncome",
          "CoapplicantIncome",
          "CoapplicantIncome",
          "CoapplicantIncome",
          "CoapplicantIncome",
          "CoapplicantIncome",
          "CoapplicantIncome",
          "CoapplicantIncome",
          "CoapplicantIncome",
          "CoapplicantIncome",
          "CoapplicantIncome",
          "CoapplicantIncome",
          "CoapplicantIncome",
          "CoapplicantIncome",
          "CoapplicantIncome",
          "CoapplicantIncome",
          "CoapplicantIncome",
          "CoapplicantIncome",
          "CoapplicantIncome",
          "CoapplicantIncome",
          "CoapplicantIncome",
          "CoapplicantIncome",
          "CoapplicantIncome",
          "CoapplicantIncome",
          "CoapplicantIncome",
          "CoapplicantIncome",
          "CoapplicantIncome",
          "CoapplicantIncome",
          "CoapplicantIncome",
          "CoapplicantIncome",
          "CoapplicantIncome",
          "CoapplicantIncome",
          "CoapplicantIncome",
          "CoapplicantIncome",
          "CoapplicantIncome",
          "CoapplicantIncome",
          "CoapplicantIncome",
          "CoapplicantIncome",
          "CoapplicantIncome",
          "CoapplicantIncome",
          "CoapplicantIncome",
          "CoapplicantIncome",
          "CoapplicantIncome",
          "CoapplicantIncome",
          "CoapplicantIncome",
          "CoapplicantIncome",
          "CoapplicantIncome",
          "CoapplicantIncome",
          "CoapplicantIncome",
          "CoapplicantIncome",
          "CoapplicantIncome",
          "CoapplicantIncome",
          "CoapplicantIncome",
          "CoapplicantIncome",
          "CoapplicantIncome",
          "CoapplicantIncome",
          "CoapplicantIncome",
          "CoapplicantIncome",
          "CoapplicantIncome",
          "CoapplicantIncome",
          "CoapplicantIncome",
          "CoapplicantIncome",
          "CoapplicantIncome",
          "CoapplicantIncome",
          "CoapplicantIncome",
          "CoapplicantIncome",
          "CoapplicantIncome",
          "CoapplicantIncome",
          "CoapplicantIncome",
          "CoapplicantIncome",
          "CoapplicantIncome",
          "CoapplicantIncome",
          "CoapplicantIncome",
          "CoapplicantIncome",
          "CoapplicantIncome",
          "CoapplicantIncome",
          "CoapplicantIncome",
          "CoapplicantIncome",
          "CoapplicantIncome",
          "CoapplicantIncome",
          "CoapplicantIncome",
          "CoapplicantIncome",
          "CoapplicantIncome",
          "CoapplicantIncome",
          "CoapplicantIncome",
          "CoapplicantIncome",
          "CoapplicantIncome",
          "CoapplicantIncome",
          "CoapplicantIncome",
          "CoapplicantIncome",
          "CoapplicantIncome",
          "CoapplicantIncome",
          "CoapplicantIncome",
          "CoapplicantIncome",
          "CoapplicantIncome",
          "CoapplicantIncome",
          "CoapplicantIncome",
          "CoapplicantIncome",
          "CoapplicantIncome",
          "CoapplicantIncome",
          "CoapplicantIncome",
          "CoapplicantIncome",
          "CoapplicantIncome",
          "CoapplicantIncome",
          "CoapplicantIncome",
          "CoapplicantIncome",
          "CoapplicantIncome",
          "CoapplicantIncome",
          "CoapplicantIncome",
          "CoapplicantIncome",
          "CoapplicantIncome",
          "CoapplicantIncome",
          "CoapplicantIncome",
          "CoapplicantIncome",
          "CoapplicantIncome",
          "CoapplicantIncome",
          "CoapplicantIncome",
          "CoapplicantIncome",
          "CoapplicantIncome",
          "CoapplicantIncome",
          "CoapplicantIncome",
          "CoapplicantIncome",
          "CoapplicantIncome",
          "CoapplicantIncome",
          "CoapplicantIncome",
          "CoapplicantIncome",
          "CoapplicantIncome",
          "CoapplicantIncome",
          "CoapplicantIncome",
          "CoapplicantIncome",
          "CoapplicantIncome",
          "CoapplicantIncome",
          "CoapplicantIncome",
          "CoapplicantIncome",
          "CoapplicantIncome",
          "CoapplicantIncome",
          "CoapplicantIncome",
          "CoapplicantIncome",
          "CoapplicantIncome",
          "CoapplicantIncome",
          "CoapplicantIncome",
          "CoapplicantIncome",
          "CoapplicantIncome",
          "CoapplicantIncome",
          "CoapplicantIncome",
          "CoapplicantIncome",
          "CoapplicantIncome",
          "CoapplicantIncome",
          "CoapplicantIncome",
          "CoapplicantIncome",
          "CoapplicantIncome",
          "CoapplicantIncome",
          "CoapplicantIncome",
          "CoapplicantIncome",
          "CoapplicantIncome",
          "CoapplicantIncome",
          "CoapplicantIncome",
          "CoapplicantIncome",
          "CoapplicantIncome",
          "CoapplicantIncome",
          "CoapplicantIncome",
          "CoapplicantIncome",
          "CoapplicantIncome",
          "CoapplicantIncome",
          "CoapplicantIncome",
          "CoapplicantIncome",
          "CoapplicantIncome",
          "CoapplicantIncome",
          "CoapplicantIncome",
          "CoapplicantIncome",
          "CoapplicantIncome",
          "CoapplicantIncome",
          "CoapplicantIncome",
          "CoapplicantIncome",
          "CoapplicantIncome",
          "CoapplicantIncome",
          "CoapplicantIncome",
          "CoapplicantIncome",
          "CoapplicantIncome",
          "CoapplicantIncome",
          "CoapplicantIncome",
          "CoapplicantIncome",
          "CoapplicantIncome",
          "CoapplicantIncome",
          "CoapplicantIncome",
          "CoapplicantIncome",
          "CoapplicantIncome",
          "CoapplicantIncome",
          "CoapplicantIncome",
          "CoapplicantIncome",
          "CoapplicantIncome",
          "CoapplicantIncome",
          "CoapplicantIncome",
          "CoapplicantIncome",
          "CoapplicantIncome",
          "CoapplicantIncome",
          "CoapplicantIncome",
          "CoapplicantIncome",
          "CoapplicantIncome",
          "CoapplicantIncome",
          "CoapplicantIncome",
          "CoapplicantIncome",
          "CoapplicantIncome",
          "CoapplicantIncome",
          "CoapplicantIncome",
          "CoapplicantIncome",
          "CoapplicantIncome",
          "CoapplicantIncome",
          "CoapplicantIncome",
          "CoapplicantIncome",
          "CoapplicantIncome",
          "CoapplicantIncome",
          "CoapplicantIncome",
          "CoapplicantIncome",
          "CoapplicantIncome",
          "CoapplicantIncome",
          "CoapplicantIncome",
          "CoapplicantIncome",
          "CoapplicantIncome",
          "CoapplicantIncome",
          "CoapplicantIncome",
          "CoapplicantIncome",
          "CoapplicantIncome",
          "CoapplicantIncome",
          "CoapplicantIncome",
          "CoapplicantIncome",
          "CoapplicantIncome",
          "CoapplicantIncome",
          "CoapplicantIncome",
          "CoapplicantIncome",
          "CoapplicantIncome",
          "CoapplicantIncome",
          "CoapplicantIncome",
          "CoapplicantIncome",
          "CoapplicantIncome",
          "CoapplicantIncome",
          "CoapplicantIncome",
          "CoapplicantIncome",
          "CoapplicantIncome",
          "CoapplicantIncome",
          "CoapplicantIncome",
          "CoapplicantIncome",
          "CoapplicantIncome",
          "CoapplicantIncome",
          "CoapplicantIncome",
          "CoapplicantIncome",
          "CoapplicantIncome",
          "CoapplicantIncome",
          "CoapplicantIncome",
          "CoapplicantIncome",
          "CoapplicantIncome",
          "CoapplicantIncome",
          "CoapplicantIncome",
          "CoapplicantIncome",
          "CoapplicantIncome",
          "CoapplicantIncome",
          "CoapplicantIncome",
          "CoapplicantIncome",
          "CoapplicantIncome",
          "CoapplicantIncome",
          "CoapplicantIncome",
          "CoapplicantIncome",
          "CoapplicantIncome",
          "CoapplicantIncome",
          "CoapplicantIncome",
          "CoapplicantIncome",
          "CoapplicantIncome",
          "CoapplicantIncome",
          "CoapplicantIncome",
          "CoapplicantIncome",
          "CoapplicantIncome",
          "CoapplicantIncome",
          "CoapplicantIncome",
          "CoapplicantIncome",
          "CoapplicantIncome",
          "CoapplicantIncome",
          "CoapplicantIncome",
          "CoapplicantIncome",
          "CoapplicantIncome",
          "CoapplicantIncome",
          "CoapplicantIncome",
          "CoapplicantIncome",
          "CoapplicantIncome",
          "CoapplicantIncome",
          "CoapplicantIncome",
          "CoapplicantIncome",
          "CoapplicantIncome",
          "CoapplicantIncome",
          "CoapplicantIncome",
          "CoapplicantIncome",
          "CoapplicantIncome",
          "CoapplicantIncome",
          "CoapplicantIncome",
          "CoapplicantIncome",
          "CoapplicantIncome",
          "CoapplicantIncome",
          "CoapplicantIncome",
          "CoapplicantIncome",
          "CoapplicantIncome",
          "CoapplicantIncome",
          "CoapplicantIncome",
          "CoapplicantIncome",
          "CoapplicantIncome",
          "CoapplicantIncome",
          "CoapplicantIncome",
          "CoapplicantIncome",
          "CoapplicantIncome",
          "CoapplicantIncome",
          "CoapplicantIncome",
          "CoapplicantIncome",
          "CoapplicantIncome",
          "CoapplicantIncome",
          "CoapplicantIncome",
          "CoapplicantIncome",
          "CoapplicantIncome",
          "CoapplicantIncome",
          "CoapplicantIncome",
          "CoapplicantIncome",
          "CoapplicantIncome",
          "CoapplicantIncome",
          "CoapplicantIncome",
          "CoapplicantIncome",
          "CoapplicantIncome",
          "CoapplicantIncome",
          "CoapplicantIncome",
          "CoapplicantIncome",
          "CoapplicantIncome",
          "CoapplicantIncome",
          "CoapplicantIncome",
          "CoapplicantIncome",
          "CoapplicantIncome",
          "CoapplicantIncome",
          "CoapplicantIncome",
          "CoapplicantIncome",
          "CoapplicantIncome",
          "CoapplicantIncome",
          "CoapplicantIncome",
          "CoapplicantIncome",
          "CoapplicantIncome",
          "CoapplicantIncome",
          "CoapplicantIncome",
          "CoapplicantIncome",
          "CoapplicantIncome",
          "CoapplicantIncome",
          "CoapplicantIncome",
          "CoapplicantIncome",
          "CoapplicantIncome",
          "CoapplicantIncome",
          "CoapplicantIncome",
          "CoapplicantIncome",
          "CoapplicantIncome",
          "CoapplicantIncome",
          "CoapplicantIncome",
          "CoapplicantIncome",
          "CoapplicantIncome",
          "CoapplicantIncome",
          "CoapplicantIncome",
          "CoapplicantIncome",
          "CoapplicantIncome",
          "CoapplicantIncome",
          "CoapplicantIncome",
          "CoapplicantIncome",
          "CoapplicantIncome",
          "CoapplicantIncome",
          "CoapplicantIncome",
          "CoapplicantIncome",
          "CoapplicantIncome",
          "CoapplicantIncome",
          "CoapplicantIncome",
          "CoapplicantIncome",
          "CoapplicantIncome",
          "CoapplicantIncome",
          "CoapplicantIncome",
          "CoapplicantIncome",
          "CoapplicantIncome",
          "CoapplicantIncome",
          "CoapplicantIncome",
          "CoapplicantIncome",
          "CoapplicantIncome",
          "CoapplicantIncome",
          "CoapplicantIncome",
          "CoapplicantIncome",
          "CoapplicantIncome",
          "CoapplicantIncome",
          "CoapplicantIncome",
          "CoapplicantIncome",
          "CoapplicantIncome",
          "CoapplicantIncome",
          "CoapplicantIncome",
          "CoapplicantIncome",
          "CoapplicantIncome",
          "CoapplicantIncome",
          "CoapplicantIncome",
          "CoapplicantIncome",
          "CoapplicantIncome",
          "CoapplicantIncome",
          "CoapplicantIncome",
          "CoapplicantIncome",
          "CoapplicantIncome",
          "CoapplicantIncome",
          "CoapplicantIncome",
          "CoapplicantIncome"
         ],
         "x0": " ",
         "xaxis": "x",
         "y": [
          0,
          1508,
          0,
          2358,
          0,
          4196,
          1516,
          2504,
          1526,
          10968,
          700,
          1840,
          8106,
          2840,
          1086,
          0,
          0,
          0,
          0,
          3500,
          0,
          5625,
          1911,
          1917,
          2925,
          0,
          2253,
          1040,
          0,
          2083,
          3369,
          0,
          0,
          1667,
          3000,
          2067,
          1330,
          1459,
          7210,
          1668,
          0,
          1213,
          0,
          2336,
          0,
          0,
          0,
          0,
          3440,
          2275,
          1644,
          0,
          0,
          0,
          0,
          1167,
          1591,
          2200,
          2250,
          2859,
          3796,
          0,
          3449,
          0,
          0,
          4595,
          2254,
          0,
          0,
          0,
          3066,
          1875,
          0,
          0,
          1774,
          0,
          4750,
          3022,
          4000,
          2166,
          0,
          0,
          1881,
          2250,
          0,
          2531,
          2000,
          2118,
          0,
          4167,
          2900,
          5654,
          1820,
          0,
          0,
          0,
          2302,
          997,
          0,
          3541,
          3263,
          3806,
          0,
          3583,
          754,
          1030,
          1126,
          0,
          3600,
          754,
          0,
          2333,
          4114,
          0,
          0,
          0,
          2283,
          1398,
          2142,
          0,
          2667,
          0,
          8980,
          0,
          2014,
          0,
          0,
          1640,
          3850,
          2569,
          0,
          1929,
          0,
          0,
          0,
          7750,
          0,
          3500,
          0,
          1430,
          2083,
          0,
          0,
          2034,
          0,
          4486,
          0,
          1425,
          1666,
          830,
          0,
          3750,
          0,
          0,
          0,
          0,
          0,
          0,
          2083,
          5625,
          1041,
          0,
          1280,
          1447,
          0,
          3166,
          0,
          3333,
          0,
          0,
          1769,
          0,
          0,
          5625,
          736,
          1964,
          1619,
          11300,
          0,
          1451,
          7250,
          5063,
          0,
          0,
          0,
          4750,
          0,
          2138,
          5296,
          0,
          0,
          0,
          0,
          0,
          0,
          2583,
          3750,
          2365,
          2816,
          0,
          2500,
          0,
          0,
          1083,
          0,
          0,
          0,
          2531,
          0,
          0,
          0,
          1250,
          0,
          0,
          3021,
          983,
          1800,
          1775,
          0,
          2383,
          0,
          1717,
          2791,
          1010,
          0,
          0,
          0,
          1695,
          0,
          0,
          2054,
          0,
          2598,
          0,
          1779,
          1260,
          0,
          0,
          0,
          0,
          5000,
          1983,
          5701,
          1300,
          4417,
          4333,
          0,
          0,
          1843,
          1868,
          3890,
          0,
          2167,
          7101,
          0,
          0,
          0,
          0,
          2100,
          0,
          4250,
          2209,
          0,
          0,
          0,
          3447,
          1387,
          1811,
          0,
          1560,
          0,
          0,
          1857,
          2223,
          0,
          1842,
          3274,
          1300,
          0,
          0,
          2426,
          800,
          985.7999878,
          1666,
          0,
          3053,
          1717,
          2000,
          0,
          0,
          2416,
          0,
          1560,
          0,
          3334,
          1250,
          0,
          0,
          2541,
          2925,
          2934,
          1750,
          0,
          1803,
          2500,
          0,
          1666,
          1863,
          0,
          0,
          0,
          2405,
          0,
          0,
          1843,
          1640,
          0,
          2134,
          0,
          0,
          2167,
          189,
          1590,
          2985,
          0,
          4983,
          0,
          2160,
          2451,
          0,
          1793,
          0,
          0,
          0,
          1833,
          4490,
          688,
          4600,
          0,
          0,
          1587,
          0,
          1229,
          0,
          2330,
          2458,
          3230,
          2168,
          4583,
          6250,
          0,
          4167,
          2083,
          0,
          505,
          0,
          3167,
          0,
          1666,
          3167,
          0,
          3667,
          2333,
          3033,
          0,
          0,
          0,
          0,
          0,
          5266,
          0,
          0,
          7873,
          1987,
          1459,
          923,
          4996,
          0,
          0,
          0,
          2500,
          4232,
          0,
          0,
          0,
          0,
          1600,
          3136,
          2417,
          0,
          0,
          0,
          2115,
          1625,
          1400,
          484,
          0,
          1459,
          1666,
          1800,
          0,
          0,
          20000,
          0,
          0,
          0,
          2400,
          0,
          0,
          0,
          0,
          0,
          0,
          2033,
          3237,
          0,
          0,
          20000,
          2773,
          1417,
          0,
          0,
          1719,
          1667,
          0,
          4300,
          0,
          0,
          16.12000084,
          0,
          0,
          0,
          0,
          2340,
          0,
          0,
          1851,
          1125,
          0,
          0,
          5064,
          1833,
          1993,
          0,
          8333,
          1210,
          0,
          1376,
          1710,
          1542,
          1255,
          1456,
          1733,
          2466,
          0,
          0,
          0,
          2569,
          0,
          0,
          4083,
          0,
          2188,
          0,
          0,
          0,
          1664,
          0,
          2917,
          2451,
          2079,
          1500,
          0,
          0,
          4648,
          1014,
          1750,
          1872,
          2250,
          1603,
          0,
          0,
          3150,
          0,
          0,
          2436,
          0,
          0,
          2083,
          0,
          2785,
          1131,
          0,
          0,
          2157,
          913,
          1700,
          2857,
          0,
          4416,
          3683,
          0,
          5624,
          5302,
          1483,
          4416,
          6667,
          0,
          3013,
          0,
          1287,
          2004,
          2035,
          6666,
          3666,
          3428,
          1632,
          1800,
          1915,
          0,
          1742,
          0,
          1424,
          7166,
          2087,
          0,
          0,
          1430,
          1302,
          0,
          5500,
          0,
          0,
          0,
          0,
          2042,
          3906,
          0,
          536,
          0,
          2845,
          0,
          0,
          2524,
          663,
          1950,
          0,
          1783,
          0,
          2016,
          0,
          2375,
          3250,
          2333,
          4266,
          1032,
          1625,
          0,
          2669,
          2306,
          242,
          0,
          2054,
          0,
          0,
          0,
          0,
          2500,
          0,
          2064,
          1750,
          1451,
          0,
          1625,
          0,
          461,
          2210,
          2739,
          2232,
          2917,
          0,
          33837,
          0,
          0,
          1917,
          3000,
          1522,
          0,
          0,
          0,
          3416,
          0,
          0,
          3300,
          0,
          0,
          1000,
          0,
          0,
          0,
          41667,
          2792,
          0,
          4301,
          0,
          3800,
          2500,
          1411,
          1950,
          0,
          0,
          240,
          0,
          0
         ],
         "y0": " ",
         "yaxis": "y"
        }
       ],
       "layout": {
        "boxmode": "group",
        "legend": {
         "tracegroupgap": 0
        },
        "margin": {
         "t": 60
        },
        "template": {
         "data": {
          "bar": [
           {
            "error_x": {
             "color": "#2a3f5f"
            },
            "error_y": {
             "color": "#2a3f5f"
            },
            "marker": {
             "line": {
              "color": "#E5ECF6",
              "width": 0.5
             },
             "pattern": {
              "fillmode": "overlay",
              "size": 10,
              "solidity": 0.2
             }
            },
            "type": "bar"
           }
          ],
          "barpolar": [
           {
            "marker": {
             "line": {
              "color": "#E5ECF6",
              "width": 0.5
             },
             "pattern": {
              "fillmode": "overlay",
              "size": 10,
              "solidity": 0.2
             }
            },
            "type": "barpolar"
           }
          ],
          "carpet": [
           {
            "aaxis": {
             "endlinecolor": "#2a3f5f",
             "gridcolor": "white",
             "linecolor": "white",
             "minorgridcolor": "white",
             "startlinecolor": "#2a3f5f"
            },
            "baxis": {
             "endlinecolor": "#2a3f5f",
             "gridcolor": "white",
             "linecolor": "white",
             "minorgridcolor": "white",
             "startlinecolor": "#2a3f5f"
            },
            "type": "carpet"
           }
          ],
          "choropleth": [
           {
            "colorbar": {
             "outlinewidth": 0,
             "ticks": ""
            },
            "type": "choropleth"
           }
          ],
          "contour": [
           {
            "colorbar": {
             "outlinewidth": 0,
             "ticks": ""
            },
            "colorscale": [
             [
              0,
              "#0d0887"
             ],
             [
              0.1111111111111111,
              "#46039f"
             ],
             [
              0.2222222222222222,
              "#7201a8"
             ],
             [
              0.3333333333333333,
              "#9c179e"
             ],
             [
              0.4444444444444444,
              "#bd3786"
             ],
             [
              0.5555555555555556,
              "#d8576b"
             ],
             [
              0.6666666666666666,
              "#ed7953"
             ],
             [
              0.7777777777777778,
              "#fb9f3a"
             ],
             [
              0.8888888888888888,
              "#fdca26"
             ],
             [
              1,
              "#f0f921"
             ]
            ],
            "type": "contour"
           }
          ],
          "contourcarpet": [
           {
            "colorbar": {
             "outlinewidth": 0,
             "ticks": ""
            },
            "type": "contourcarpet"
           }
          ],
          "heatmap": [
           {
            "colorbar": {
             "outlinewidth": 0,
             "ticks": ""
            },
            "colorscale": [
             [
              0,
              "#0d0887"
             ],
             [
              0.1111111111111111,
              "#46039f"
             ],
             [
              0.2222222222222222,
              "#7201a8"
             ],
             [
              0.3333333333333333,
              "#9c179e"
             ],
             [
              0.4444444444444444,
              "#bd3786"
             ],
             [
              0.5555555555555556,
              "#d8576b"
             ],
             [
              0.6666666666666666,
              "#ed7953"
             ],
             [
              0.7777777777777778,
              "#fb9f3a"
             ],
             [
              0.8888888888888888,
              "#fdca26"
             ],
             [
              1,
              "#f0f921"
             ]
            ],
            "type": "heatmap"
           }
          ],
          "heatmapgl": [
           {
            "colorbar": {
             "outlinewidth": 0,
             "ticks": ""
            },
            "colorscale": [
             [
              0,
              "#0d0887"
             ],
             [
              0.1111111111111111,
              "#46039f"
             ],
             [
              0.2222222222222222,
              "#7201a8"
             ],
             [
              0.3333333333333333,
              "#9c179e"
             ],
             [
              0.4444444444444444,
              "#bd3786"
             ],
             [
              0.5555555555555556,
              "#d8576b"
             ],
             [
              0.6666666666666666,
              "#ed7953"
             ],
             [
              0.7777777777777778,
              "#fb9f3a"
             ],
             [
              0.8888888888888888,
              "#fdca26"
             ],
             [
              1,
              "#f0f921"
             ]
            ],
            "type": "heatmapgl"
           }
          ],
          "histogram": [
           {
            "marker": {
             "pattern": {
              "fillmode": "overlay",
              "size": 10,
              "solidity": 0.2
             }
            },
            "type": "histogram"
           }
          ],
          "histogram2d": [
           {
            "colorbar": {
             "outlinewidth": 0,
             "ticks": ""
            },
            "colorscale": [
             [
              0,
              "#0d0887"
             ],
             [
              0.1111111111111111,
              "#46039f"
             ],
             [
              0.2222222222222222,
              "#7201a8"
             ],
             [
              0.3333333333333333,
              "#9c179e"
             ],
             [
              0.4444444444444444,
              "#bd3786"
             ],
             [
              0.5555555555555556,
              "#d8576b"
             ],
             [
              0.6666666666666666,
              "#ed7953"
             ],
             [
              0.7777777777777778,
              "#fb9f3a"
             ],
             [
              0.8888888888888888,
              "#fdca26"
             ],
             [
              1,
              "#f0f921"
             ]
            ],
            "type": "histogram2d"
           }
          ],
          "histogram2dcontour": [
           {
            "colorbar": {
             "outlinewidth": 0,
             "ticks": ""
            },
            "colorscale": [
             [
              0,
              "#0d0887"
             ],
             [
              0.1111111111111111,
              "#46039f"
             ],
             [
              0.2222222222222222,
              "#7201a8"
             ],
             [
              0.3333333333333333,
              "#9c179e"
             ],
             [
              0.4444444444444444,
              "#bd3786"
             ],
             [
              0.5555555555555556,
              "#d8576b"
             ],
             [
              0.6666666666666666,
              "#ed7953"
             ],
             [
              0.7777777777777778,
              "#fb9f3a"
             ],
             [
              0.8888888888888888,
              "#fdca26"
             ],
             [
              1,
              "#f0f921"
             ]
            ],
            "type": "histogram2dcontour"
           }
          ],
          "mesh3d": [
           {
            "colorbar": {
             "outlinewidth": 0,
             "ticks": ""
            },
            "type": "mesh3d"
           }
          ],
          "parcoords": [
           {
            "line": {
             "colorbar": {
              "outlinewidth": 0,
              "ticks": ""
             }
            },
            "type": "parcoords"
           }
          ],
          "pie": [
           {
            "automargin": true,
            "type": "pie"
           }
          ],
          "scatter": [
           {
            "fillpattern": {
             "fillmode": "overlay",
             "size": 10,
             "solidity": 0.2
            },
            "type": "scatter"
           }
          ],
          "scatter3d": [
           {
            "line": {
             "colorbar": {
              "outlinewidth": 0,
              "ticks": ""
             }
            },
            "marker": {
             "colorbar": {
              "outlinewidth": 0,
              "ticks": ""
             }
            },
            "type": "scatter3d"
           }
          ],
          "scattercarpet": [
           {
            "marker": {
             "colorbar": {
              "outlinewidth": 0,
              "ticks": ""
             }
            },
            "type": "scattercarpet"
           }
          ],
          "scattergeo": [
           {
            "marker": {
             "colorbar": {
              "outlinewidth": 0,
              "ticks": ""
             }
            },
            "type": "scattergeo"
           }
          ],
          "scattergl": [
           {
            "marker": {
             "colorbar": {
              "outlinewidth": 0,
              "ticks": ""
             }
            },
            "type": "scattergl"
           }
          ],
          "scattermapbox": [
           {
            "marker": {
             "colorbar": {
              "outlinewidth": 0,
              "ticks": ""
             }
            },
            "type": "scattermapbox"
           }
          ],
          "scatterpolar": [
           {
            "marker": {
             "colorbar": {
              "outlinewidth": 0,
              "ticks": ""
             }
            },
            "type": "scatterpolar"
           }
          ],
          "scatterpolargl": [
           {
            "marker": {
             "colorbar": {
              "outlinewidth": 0,
              "ticks": ""
             }
            },
            "type": "scatterpolargl"
           }
          ],
          "scatterternary": [
           {
            "marker": {
             "colorbar": {
              "outlinewidth": 0,
              "ticks": ""
             }
            },
            "type": "scatterternary"
           }
          ],
          "surface": [
           {
            "colorbar": {
             "outlinewidth": 0,
             "ticks": ""
            },
            "colorscale": [
             [
              0,
              "#0d0887"
             ],
             [
              0.1111111111111111,
              "#46039f"
             ],
             [
              0.2222222222222222,
              "#7201a8"
             ],
             [
              0.3333333333333333,
              "#9c179e"
             ],
             [
              0.4444444444444444,
              "#bd3786"
             ],
             [
              0.5555555555555556,
              "#d8576b"
             ],
             [
              0.6666666666666666,
              "#ed7953"
             ],
             [
              0.7777777777777778,
              "#fb9f3a"
             ],
             [
              0.8888888888888888,
              "#fdca26"
             ],
             [
              1,
              "#f0f921"
             ]
            ],
            "type": "surface"
           }
          ],
          "table": [
           {
            "cells": {
             "fill": {
              "color": "#EBF0F8"
             },
             "line": {
              "color": "white"
             }
            },
            "header": {
             "fill": {
              "color": "#C8D4E3"
             },
             "line": {
              "color": "white"
             }
            },
            "type": "table"
           }
          ]
         },
         "layout": {
          "annotationdefaults": {
           "arrowcolor": "#2a3f5f",
           "arrowhead": 0,
           "arrowwidth": 1
          },
          "autotypenumbers": "strict",
          "coloraxis": {
           "colorbar": {
            "outlinewidth": 0,
            "ticks": ""
           }
          },
          "colorscale": {
           "diverging": [
            [
             0,
             "#8e0152"
            ],
            [
             0.1,
             "#c51b7d"
            ],
            [
             0.2,
             "#de77ae"
            ],
            [
             0.3,
             "#f1b6da"
            ],
            [
             0.4,
             "#fde0ef"
            ],
            [
             0.5,
             "#f7f7f7"
            ],
            [
             0.6,
             "#e6f5d0"
            ],
            [
             0.7,
             "#b8e186"
            ],
            [
             0.8,
             "#7fbc41"
            ],
            [
             0.9,
             "#4d9221"
            ],
            [
             1,
             "#276419"
            ]
           ],
           "sequential": [
            [
             0,
             "#0d0887"
            ],
            [
             0.1111111111111111,
             "#46039f"
            ],
            [
             0.2222222222222222,
             "#7201a8"
            ],
            [
             0.3333333333333333,
             "#9c179e"
            ],
            [
             0.4444444444444444,
             "#bd3786"
            ],
            [
             0.5555555555555556,
             "#d8576b"
            ],
            [
             0.6666666666666666,
             "#ed7953"
            ],
            [
             0.7777777777777778,
             "#fb9f3a"
            ],
            [
             0.8888888888888888,
             "#fdca26"
            ],
            [
             1,
             "#f0f921"
            ]
           ],
           "sequentialminus": [
            [
             0,
             "#0d0887"
            ],
            [
             0.1111111111111111,
             "#46039f"
            ],
            [
             0.2222222222222222,
             "#7201a8"
            ],
            [
             0.3333333333333333,
             "#9c179e"
            ],
            [
             0.4444444444444444,
             "#bd3786"
            ],
            [
             0.5555555555555556,
             "#d8576b"
            ],
            [
             0.6666666666666666,
             "#ed7953"
            ],
            [
             0.7777777777777778,
             "#fb9f3a"
            ],
            [
             0.8888888888888888,
             "#fdca26"
            ],
            [
             1,
             "#f0f921"
            ]
           ]
          },
          "colorway": [
           "#636efa",
           "#EF553B",
           "#00cc96",
           "#ab63fa",
           "#FFA15A",
           "#19d3f3",
           "#FF6692",
           "#B6E880",
           "#FF97FF",
           "#FECB52"
          ],
          "font": {
           "color": "#2a3f5f"
          },
          "geo": {
           "bgcolor": "white",
           "lakecolor": "white",
           "landcolor": "#E5ECF6",
           "showlakes": true,
           "showland": true,
           "subunitcolor": "white"
          },
          "hoverlabel": {
           "align": "left"
          },
          "hovermode": "closest",
          "mapbox": {
           "style": "light"
          },
          "paper_bgcolor": "white",
          "plot_bgcolor": "#E5ECF6",
          "polar": {
           "angularaxis": {
            "gridcolor": "white",
            "linecolor": "white",
            "ticks": ""
           },
           "bgcolor": "#E5ECF6",
           "radialaxis": {
            "gridcolor": "white",
            "linecolor": "white",
            "ticks": ""
           }
          },
          "scene": {
           "xaxis": {
            "backgroundcolor": "#E5ECF6",
            "gridcolor": "white",
            "gridwidth": 2,
            "linecolor": "white",
            "showbackground": true,
            "ticks": "",
            "zerolinecolor": "white"
           },
           "yaxis": {
            "backgroundcolor": "#E5ECF6",
            "gridcolor": "white",
            "gridwidth": 2,
            "linecolor": "white",
            "showbackground": true,
            "ticks": "",
            "zerolinecolor": "white"
           },
           "zaxis": {
            "backgroundcolor": "#E5ECF6",
            "gridcolor": "white",
            "gridwidth": 2,
            "linecolor": "white",
            "showbackground": true,
            "ticks": "",
            "zerolinecolor": "white"
           }
          },
          "shapedefaults": {
           "line": {
            "color": "#2a3f5f"
           }
          },
          "ternary": {
           "aaxis": {
            "gridcolor": "white",
            "linecolor": "white",
            "ticks": ""
           },
           "baxis": {
            "gridcolor": "white",
            "linecolor": "white",
            "ticks": ""
           },
           "bgcolor": "#E5ECF6",
           "caxis": {
            "gridcolor": "white",
            "linecolor": "white",
            "ticks": ""
           }
          },
          "title": {
           "x": 0.05
          },
          "xaxis": {
           "automargin": true,
           "gridcolor": "white",
           "linecolor": "white",
           "ticks": "",
           "title": {
            "standoff": 15
           },
           "zerolinecolor": "white",
           "zerolinewidth": 2
          },
          "yaxis": {
           "automargin": true,
           "gridcolor": "white",
           "linecolor": "white",
           "ticks": "",
           "title": {
            "standoff": 15
           },
           "zerolinecolor": "white",
           "zerolinewidth": 2
          }
         }
        },
        "xaxis": {
         "anchor": "y",
         "domain": [
          0,
          1
         ],
         "title": {
          "text": "variable"
         }
        },
        "yaxis": {
         "anchor": "x",
         "domain": [
          0,
          1
         ],
         "title": {
          "text": "value"
         }
        }
       }
      }
     },
     "metadata": {},
     "output_type": "display_data"
    }
   ],
   "source": [
    "px.box(df_train['CoapplicantIncome'])"
   ]
  },
  {
   "cell_type": "code",
   "execution_count": 40,
   "metadata": {},
   "outputs": [
    {
     "data": {
      "text/html": [
       "<div>\n",
       "<style scoped>\n",
       "    .dataframe tbody tr th:only-of-type {\n",
       "        vertical-align: middle;\n",
       "    }\n",
       "\n",
       "    .dataframe tbody tr th {\n",
       "        vertical-align: top;\n",
       "    }\n",
       "\n",
       "    .dataframe thead th {\n",
       "        text-align: right;\n",
       "    }\n",
       "</style>\n",
       "<table border=\"1\" class=\"dataframe\">\n",
       "  <thead>\n",
       "    <tr style=\"text-align: right;\">\n",
       "      <th></th>\n",
       "      <th>CoapplicantIncome</th>\n",
       "      <th>Loan_Status</th>\n",
       "    </tr>\n",
       "  </thead>\n",
       "  <tbody>\n",
       "    <tr>\n",
       "      <th>513</th>\n",
       "      <td>6666.0</td>\n",
       "      <td>N</td>\n",
       "    </tr>\n",
       "    <tr>\n",
       "      <th>180</th>\n",
       "      <td>7250.0</td>\n",
       "      <td>N</td>\n",
       "    </tr>\n",
       "    <tr>\n",
       "      <th>135</th>\n",
       "      <td>7750.0</td>\n",
       "      <td>N</td>\n",
       "    </tr>\n",
       "    <tr>\n",
       "      <th>9</th>\n",
       "      <td>10968.0</td>\n",
       "      <td>N</td>\n",
       "    </tr>\n",
       "    <tr>\n",
       "      <th>177</th>\n",
       "      <td>11300.0</td>\n",
       "      <td>N</td>\n",
       "    </tr>\n",
       "    <tr>\n",
       "      <th>417</th>\n",
       "      <td>20000.0</td>\n",
       "      <td>N</td>\n",
       "    </tr>\n",
       "    <tr>\n",
       "      <th>581</th>\n",
       "      <td>33837.0</td>\n",
       "      <td>N</td>\n",
       "    </tr>\n",
       "    <tr>\n",
       "      <th>600</th>\n",
       "      <td>41667.0</td>\n",
       "      <td>N</td>\n",
       "    </tr>\n",
       "    <tr>\n",
       "      <th>349</th>\n",
       "      <td>6250.0</td>\n",
       "      <td>Y</td>\n",
       "    </tr>\n",
       "    <tr>\n",
       "      <th>506</th>\n",
       "      <td>6667.0</td>\n",
       "      <td>Y</td>\n",
       "    </tr>\n",
       "    <tr>\n",
       "      <th>253</th>\n",
       "      <td>7101.0</td>\n",
       "      <td>Y</td>\n",
       "    </tr>\n",
       "    <tr>\n",
       "      <th>523</th>\n",
       "      <td>7166.0</td>\n",
       "      <td>Y</td>\n",
       "    </tr>\n",
       "    <tr>\n",
       "      <th>38</th>\n",
       "      <td>7210.0</td>\n",
       "      <td>Y</td>\n",
       "    </tr>\n",
       "    <tr>\n",
       "      <th>372</th>\n",
       "      <td>7873.0</td>\n",
       "      <td>Y</td>\n",
       "    </tr>\n",
       "    <tr>\n",
       "      <th>12</th>\n",
       "      <td>8106.0</td>\n",
       "      <td>Y</td>\n",
       "    </tr>\n",
       "    <tr>\n",
       "      <th>444</th>\n",
       "      <td>8333.0</td>\n",
       "      <td>Y</td>\n",
       "    </tr>\n",
       "    <tr>\n",
       "      <th>122</th>\n",
       "      <td>8980.0</td>\n",
       "      <td>Y</td>\n",
       "    </tr>\n",
       "    <tr>\n",
       "      <th>402</th>\n",
       "      <td>20000.0</td>\n",
       "      <td>Y</td>\n",
       "    </tr>\n",
       "  </tbody>\n",
       "</table>\n",
       "</div>"
      ],
      "text/plain": [
       "     CoapplicantIncome Loan_Status\n",
       "513             6666.0           N\n",
       "180             7250.0           N\n",
       "135             7750.0           N\n",
       "9              10968.0           N\n",
       "177            11300.0           N\n",
       "417            20000.0           N\n",
       "581            33837.0           N\n",
       "600            41667.0           N\n",
       "349             6250.0           Y\n",
       "506             6667.0           Y\n",
       "253             7101.0           Y\n",
       "523             7166.0           Y\n",
       "38              7210.0           Y\n",
       "372             7873.0           Y\n",
       "12              8106.0           Y\n",
       "444             8333.0           Y\n",
       "122             8980.0           Y\n",
       "402            20000.0           Y"
      ]
     },
     "execution_count": 40,
     "metadata": {},
     "output_type": "execute_result"
    }
   ],
   "source": [
    "df_train.loc[df_train['CoapplicantIncome'] > 6000, ['CoapplicantIncome', 'Loan_Status']].sort_values(by=['Loan_Status', 'CoapplicantIncome'])"
   ]
  },
  {
   "cell_type": "markdown",
   "metadata": {},
   "source": [
    "\n",
    "### 3.7) LoanAmount"
   ]
  },
  {
   "cell_type": "code",
   "execution_count": 41,
   "metadata": {},
   "outputs": [
    {
     "data": {
      "text/plain": [
       "22"
      ]
     },
     "execution_count": 41,
     "metadata": {},
     "output_type": "execute_result"
    }
   ],
   "source": [
    "df_train['LoanAmount'].isnull().sum()"
   ]
  },
  {
   "cell_type": "code",
   "execution_count": 42,
   "metadata": {},
   "outputs": [
    {
     "data": {
      "application/vnd.plotly.v1+json": {
       "config": {
        "plotlyServerURL": "https://plot.ly"
       },
       "data": [
        {
         "alignmentgroup": "True",
         "hovertemplate": "variable=%{x}<br>value=%{y}<extra></extra>",
         "legendgroup": "",
         "marker": {
          "color": "#636efa"
         },
         "name": "",
         "notched": false,
         "offsetgroup": "",
         "orientation": "v",
         "showlegend": false,
         "type": "box",
         "x": [
          "LoanAmount",
          "LoanAmount",
          "LoanAmount",
          "LoanAmount",
          "LoanAmount",
          "LoanAmount",
          "LoanAmount",
          "LoanAmount",
          "LoanAmount",
          "LoanAmount",
          "LoanAmount",
          "LoanAmount",
          "LoanAmount",
          "LoanAmount",
          "LoanAmount",
          "LoanAmount",
          "LoanAmount",
          "LoanAmount",
          "LoanAmount",
          "LoanAmount",
          "LoanAmount",
          "LoanAmount",
          "LoanAmount",
          "LoanAmount",
          "LoanAmount",
          "LoanAmount",
          "LoanAmount",
          "LoanAmount",
          "LoanAmount",
          "LoanAmount",
          "LoanAmount",
          "LoanAmount",
          "LoanAmount",
          "LoanAmount",
          "LoanAmount",
          "LoanAmount",
          "LoanAmount",
          "LoanAmount",
          "LoanAmount",
          "LoanAmount",
          "LoanAmount",
          "LoanAmount",
          "LoanAmount",
          "LoanAmount",
          "LoanAmount",
          "LoanAmount",
          "LoanAmount",
          "LoanAmount",
          "LoanAmount",
          "LoanAmount",
          "LoanAmount",
          "LoanAmount",
          "LoanAmount",
          "LoanAmount",
          "LoanAmount",
          "LoanAmount",
          "LoanAmount",
          "LoanAmount",
          "LoanAmount",
          "LoanAmount",
          "LoanAmount",
          "LoanAmount",
          "LoanAmount",
          "LoanAmount",
          "LoanAmount",
          "LoanAmount",
          "LoanAmount",
          "LoanAmount",
          "LoanAmount",
          "LoanAmount",
          "LoanAmount",
          "LoanAmount",
          "LoanAmount",
          "LoanAmount",
          "LoanAmount",
          "LoanAmount",
          "LoanAmount",
          "LoanAmount",
          "LoanAmount",
          "LoanAmount",
          "LoanAmount",
          "LoanAmount",
          "LoanAmount",
          "LoanAmount",
          "LoanAmount",
          "LoanAmount",
          "LoanAmount",
          "LoanAmount",
          "LoanAmount",
          "LoanAmount",
          "LoanAmount",
          "LoanAmount",
          "LoanAmount",
          "LoanAmount",
          "LoanAmount",
          "LoanAmount",
          "LoanAmount",
          "LoanAmount",
          "LoanAmount",
          "LoanAmount",
          "LoanAmount",
          "LoanAmount",
          "LoanAmount",
          "LoanAmount",
          "LoanAmount",
          "LoanAmount",
          "LoanAmount",
          "LoanAmount",
          "LoanAmount",
          "LoanAmount",
          "LoanAmount",
          "LoanAmount",
          "LoanAmount",
          "LoanAmount",
          "LoanAmount",
          "LoanAmount",
          "LoanAmount",
          "LoanAmount",
          "LoanAmount",
          "LoanAmount",
          "LoanAmount",
          "LoanAmount",
          "LoanAmount",
          "LoanAmount",
          "LoanAmount",
          "LoanAmount",
          "LoanAmount",
          "LoanAmount",
          "LoanAmount",
          "LoanAmount",
          "LoanAmount",
          "LoanAmount",
          "LoanAmount",
          "LoanAmount",
          "LoanAmount",
          "LoanAmount",
          "LoanAmount",
          "LoanAmount",
          "LoanAmount",
          "LoanAmount",
          "LoanAmount",
          "LoanAmount",
          "LoanAmount",
          "LoanAmount",
          "LoanAmount",
          "LoanAmount",
          "LoanAmount",
          "LoanAmount",
          "LoanAmount",
          "LoanAmount",
          "LoanAmount",
          "LoanAmount",
          "LoanAmount",
          "LoanAmount",
          "LoanAmount",
          "LoanAmount",
          "LoanAmount",
          "LoanAmount",
          "LoanAmount",
          "LoanAmount",
          "LoanAmount",
          "LoanAmount",
          "LoanAmount",
          "LoanAmount",
          "LoanAmount",
          "LoanAmount",
          "LoanAmount",
          "LoanAmount",
          "LoanAmount",
          "LoanAmount",
          "LoanAmount",
          "LoanAmount",
          "LoanAmount",
          "LoanAmount",
          "LoanAmount",
          "LoanAmount",
          "LoanAmount",
          "LoanAmount",
          "LoanAmount",
          "LoanAmount",
          "LoanAmount",
          "LoanAmount",
          "LoanAmount",
          "LoanAmount",
          "LoanAmount",
          "LoanAmount",
          "LoanAmount",
          "LoanAmount",
          "LoanAmount",
          "LoanAmount",
          "LoanAmount",
          "LoanAmount",
          "LoanAmount",
          "LoanAmount",
          "LoanAmount",
          "LoanAmount",
          "LoanAmount",
          "LoanAmount",
          "LoanAmount",
          "LoanAmount",
          "LoanAmount",
          "LoanAmount",
          "LoanAmount",
          "LoanAmount",
          "LoanAmount",
          "LoanAmount",
          "LoanAmount",
          "LoanAmount",
          "LoanAmount",
          "LoanAmount",
          "LoanAmount",
          "LoanAmount",
          "LoanAmount",
          "LoanAmount",
          "LoanAmount",
          "LoanAmount",
          "LoanAmount",
          "LoanAmount",
          "LoanAmount",
          "LoanAmount",
          "LoanAmount",
          "LoanAmount",
          "LoanAmount",
          "LoanAmount",
          "LoanAmount",
          "LoanAmount",
          "LoanAmount",
          "LoanAmount",
          "LoanAmount",
          "LoanAmount",
          "LoanAmount",
          "LoanAmount",
          "LoanAmount",
          "LoanAmount",
          "LoanAmount",
          "LoanAmount",
          "LoanAmount",
          "LoanAmount",
          "LoanAmount",
          "LoanAmount",
          "LoanAmount",
          "LoanAmount",
          "LoanAmount",
          "LoanAmount",
          "LoanAmount",
          "LoanAmount",
          "LoanAmount",
          "LoanAmount",
          "LoanAmount",
          "LoanAmount",
          "LoanAmount",
          "LoanAmount",
          "LoanAmount",
          "LoanAmount",
          "LoanAmount",
          "LoanAmount",
          "LoanAmount",
          "LoanAmount",
          "LoanAmount",
          "LoanAmount",
          "LoanAmount",
          "LoanAmount",
          "LoanAmount",
          "LoanAmount",
          "LoanAmount",
          "LoanAmount",
          "LoanAmount",
          "LoanAmount",
          "LoanAmount",
          "LoanAmount",
          "LoanAmount",
          "LoanAmount",
          "LoanAmount",
          "LoanAmount",
          "LoanAmount",
          "LoanAmount",
          "LoanAmount",
          "LoanAmount",
          "LoanAmount",
          "LoanAmount",
          "LoanAmount",
          "LoanAmount",
          "LoanAmount",
          "LoanAmount",
          "LoanAmount",
          "LoanAmount",
          "LoanAmount",
          "LoanAmount",
          "LoanAmount",
          "LoanAmount",
          "LoanAmount",
          "LoanAmount",
          "LoanAmount",
          "LoanAmount",
          "LoanAmount",
          "LoanAmount",
          "LoanAmount",
          "LoanAmount",
          "LoanAmount",
          "LoanAmount",
          "LoanAmount",
          "LoanAmount",
          "LoanAmount",
          "LoanAmount",
          "LoanAmount",
          "LoanAmount",
          "LoanAmount",
          "LoanAmount",
          "LoanAmount",
          "LoanAmount",
          "LoanAmount",
          "LoanAmount",
          "LoanAmount",
          "LoanAmount",
          "LoanAmount",
          "LoanAmount",
          "LoanAmount",
          "LoanAmount",
          "LoanAmount",
          "LoanAmount",
          "LoanAmount",
          "LoanAmount",
          "LoanAmount",
          "LoanAmount",
          "LoanAmount",
          "LoanAmount",
          "LoanAmount",
          "LoanAmount",
          "LoanAmount",
          "LoanAmount",
          "LoanAmount",
          "LoanAmount",
          "LoanAmount",
          "LoanAmount",
          "LoanAmount",
          "LoanAmount",
          "LoanAmount",
          "LoanAmount",
          "LoanAmount",
          "LoanAmount",
          "LoanAmount",
          "LoanAmount",
          "LoanAmount",
          "LoanAmount",
          "LoanAmount",
          "LoanAmount",
          "LoanAmount",
          "LoanAmount",
          "LoanAmount",
          "LoanAmount",
          "LoanAmount",
          "LoanAmount",
          "LoanAmount",
          "LoanAmount",
          "LoanAmount",
          "LoanAmount",
          "LoanAmount",
          "LoanAmount",
          "LoanAmount",
          "LoanAmount",
          "LoanAmount",
          "LoanAmount",
          "LoanAmount",
          "LoanAmount",
          "LoanAmount",
          "LoanAmount",
          "LoanAmount",
          "LoanAmount",
          "LoanAmount",
          "LoanAmount",
          "LoanAmount",
          "LoanAmount",
          "LoanAmount",
          "LoanAmount",
          "LoanAmount",
          "LoanAmount",
          "LoanAmount",
          "LoanAmount",
          "LoanAmount",
          "LoanAmount",
          "LoanAmount",
          "LoanAmount",
          "LoanAmount",
          "LoanAmount",
          "LoanAmount",
          "LoanAmount",
          "LoanAmount",
          "LoanAmount",
          "LoanAmount",
          "LoanAmount",
          "LoanAmount",
          "LoanAmount",
          "LoanAmount",
          "LoanAmount",
          "LoanAmount",
          "LoanAmount",
          "LoanAmount",
          "LoanAmount",
          "LoanAmount",
          "LoanAmount",
          "LoanAmount",
          "LoanAmount",
          "LoanAmount",
          "LoanAmount",
          "LoanAmount",
          "LoanAmount",
          "LoanAmount",
          "LoanAmount",
          "LoanAmount",
          "LoanAmount",
          "LoanAmount",
          "LoanAmount",
          "LoanAmount",
          "LoanAmount",
          "LoanAmount",
          "LoanAmount",
          "LoanAmount",
          "LoanAmount",
          "LoanAmount",
          "LoanAmount",
          "LoanAmount",
          "LoanAmount",
          "LoanAmount",
          "LoanAmount",
          "LoanAmount",
          "LoanAmount",
          "LoanAmount",
          "LoanAmount",
          "LoanAmount",
          "LoanAmount",
          "LoanAmount",
          "LoanAmount",
          "LoanAmount",
          "LoanAmount",
          "LoanAmount",
          "LoanAmount",
          "LoanAmount",
          "LoanAmount",
          "LoanAmount",
          "LoanAmount",
          "LoanAmount",
          "LoanAmount",
          "LoanAmount",
          "LoanAmount",
          "LoanAmount",
          "LoanAmount",
          "LoanAmount",
          "LoanAmount",
          "LoanAmount",
          "LoanAmount",
          "LoanAmount",
          "LoanAmount",
          "LoanAmount",
          "LoanAmount",
          "LoanAmount",
          "LoanAmount",
          "LoanAmount",
          "LoanAmount",
          "LoanAmount",
          "LoanAmount",
          "LoanAmount",
          "LoanAmount",
          "LoanAmount",
          "LoanAmount",
          "LoanAmount",
          "LoanAmount",
          "LoanAmount",
          "LoanAmount",
          "LoanAmount",
          "LoanAmount",
          "LoanAmount",
          "LoanAmount",
          "LoanAmount",
          "LoanAmount",
          "LoanAmount",
          "LoanAmount",
          "LoanAmount",
          "LoanAmount",
          "LoanAmount",
          "LoanAmount",
          "LoanAmount",
          "LoanAmount",
          "LoanAmount",
          "LoanAmount",
          "LoanAmount",
          "LoanAmount",
          "LoanAmount",
          "LoanAmount",
          "LoanAmount",
          "LoanAmount",
          "LoanAmount",
          "LoanAmount",
          "LoanAmount",
          "LoanAmount",
          "LoanAmount",
          "LoanAmount",
          "LoanAmount",
          "LoanAmount",
          "LoanAmount",
          "LoanAmount",
          "LoanAmount",
          "LoanAmount",
          "LoanAmount",
          "LoanAmount",
          "LoanAmount",
          "LoanAmount",
          "LoanAmount",
          "LoanAmount",
          "LoanAmount",
          "LoanAmount",
          "LoanAmount",
          "LoanAmount",
          "LoanAmount",
          "LoanAmount",
          "LoanAmount",
          "LoanAmount",
          "LoanAmount",
          "LoanAmount",
          "LoanAmount",
          "LoanAmount",
          "LoanAmount",
          "LoanAmount",
          "LoanAmount",
          "LoanAmount",
          "LoanAmount",
          "LoanAmount",
          "LoanAmount",
          "LoanAmount",
          "LoanAmount",
          "LoanAmount",
          "LoanAmount",
          "LoanAmount",
          "LoanAmount",
          "LoanAmount",
          "LoanAmount",
          "LoanAmount",
          "LoanAmount",
          "LoanAmount",
          "LoanAmount",
          "LoanAmount",
          "LoanAmount",
          "LoanAmount",
          "LoanAmount",
          "LoanAmount",
          "LoanAmount",
          "LoanAmount",
          "LoanAmount",
          "LoanAmount",
          "LoanAmount",
          "LoanAmount",
          "LoanAmount",
          "LoanAmount",
          "LoanAmount",
          "LoanAmount",
          "LoanAmount",
          "LoanAmount",
          "LoanAmount",
          "LoanAmount",
          "LoanAmount",
          "LoanAmount",
          "LoanAmount",
          "LoanAmount",
          "LoanAmount",
          "LoanAmount",
          "LoanAmount",
          "LoanAmount",
          "LoanAmount",
          "LoanAmount",
          "LoanAmount",
          "LoanAmount",
          "LoanAmount",
          "LoanAmount",
          "LoanAmount",
          "LoanAmount",
          "LoanAmount",
          "LoanAmount",
          "LoanAmount",
          "LoanAmount",
          "LoanAmount",
          "LoanAmount",
          "LoanAmount",
          "LoanAmount",
          "LoanAmount",
          "LoanAmount",
          "LoanAmount",
          "LoanAmount",
          "LoanAmount",
          "LoanAmount",
          "LoanAmount",
          "LoanAmount",
          "LoanAmount",
          "LoanAmount",
          "LoanAmount",
          "LoanAmount",
          "LoanAmount",
          "LoanAmount",
          "LoanAmount",
          "LoanAmount",
          "LoanAmount",
          "LoanAmount",
          "LoanAmount",
          "LoanAmount",
          "LoanAmount",
          "LoanAmount",
          "LoanAmount",
          "LoanAmount",
          "LoanAmount",
          "LoanAmount",
          "LoanAmount",
          "LoanAmount",
          "LoanAmount",
          "LoanAmount",
          "LoanAmount",
          "LoanAmount"
         ],
         "x0": " ",
         "xaxis": "x",
         "y": [
          null,
          128,
          66,
          120,
          141,
          267,
          95,
          158,
          168,
          349,
          70,
          109,
          200,
          114,
          17,
          125,
          100,
          76,
          133,
          115,
          104,
          315,
          116,
          112,
          151,
          191,
          122,
          110,
          35,
          120,
          201,
          74,
          106,
          114,
          320,
          null,
          100,
          144,
          184,
          110,
          80,
          47,
          75,
          134,
          96,
          88,
          44,
          144,
          120,
          144,
          100,
          120,
          112,
          134,
          286,
          97,
          96,
          135,
          180,
          144,
          120,
          99,
          165,
          null,
          116,
          258,
          126,
          312,
          125,
          136,
          172,
          97,
          81,
          95,
          187,
          113,
          176,
          110,
          180,
          130,
          111,
          null,
          167,
          265,
          50,
          136,
          99,
          104,
          210,
          175,
          131,
          188,
          81,
          122,
          25,
          null,
          137,
          50,
          115,
          131,
          133,
          151,
          null,
          null,
          160,
          100,
          225,
          120,
          216,
          94,
          136,
          139,
          152,
          null,
          118,
          185,
          154,
          85,
          175,
          259,
          180,
          44,
          137,
          81,
          194,
          93,
          370,
          null,
          160,
          182,
          650,
          74,
          70,
          25,
          102,
          290,
          84,
          88,
          242,
          129,
          185,
          168,
          175,
          122,
          187,
          100,
          70,
          30,
          225,
          125,
          118,
          152,
          244,
          113,
          50,
          600,
          160,
          187,
          120,
          255,
          98,
          275,
          121,
          158,
          75,
          182,
          112,
          129,
          63,
          200,
          95,
          700,
          81,
          187,
          87,
          116,
          101,
          495,
          116,
          102,
          180,
          67,
          73,
          260,
          108,
          120,
          66,
          58,
          168,
          188,
          48,
          164,
          160,
          76,
          120,
          170,
          187,
          120,
          113,
          83,
          90,
          166,
          null,
          135,
          124,
          120,
          80,
          55,
          59,
          127,
          214,
          128,
          240,
          130,
          137,
          100,
          135,
          131,
          72,
          127,
          60,
          116,
          144,
          175,
          128,
          170,
          138,
          210,
          158,
          200,
          104,
          42,
          120,
          280,
          140,
          170,
          255,
          122,
          112,
          96,
          120,
          140,
          155,
          108,
          123,
          120,
          112,
          137,
          123,
          90,
          201,
          138,
          104,
          279,
          192,
          255,
          115,
          94,
          304,
          128,
          330,
          134,
          155,
          120,
          128,
          151,
          150,
          160,
          135,
          90,
          30,
          136,
          126,
          150,
          90,
          115,
          207,
          80,
          436,
          124,
          158,
          112,
          78,
          54,
          null,
          89,
          99,
          120,
          115,
          187,
          139,
          127,
          134,
          143,
          172,
          110,
          200,
          135,
          151,
          113,
          93,
          105,
          132,
          96,
          140,
          null,
          135,
          104,
          480,
          185,
          84,
          111,
          56,
          144,
          159,
          111,
          120,
          88,
          112,
          155,
          115,
          124,
          null,
          132,
          300,
          376,
          130,
          184,
          110,
          67,
          117,
          98,
          71,
          490,
          182,
          70,
          160,
          176,
          null,
          71,
          173,
          46,
          158,
          74,
          125,
          160,
          152,
          126,
          259,
          187,
          228,
          308,
          95,
          105,
          130,
          116,
          165,
          67,
          100,
          200,
          81,
          236,
          130,
          95,
          141,
          133,
          96,
          124,
          175,
          570,
          55,
          155,
          380,
          111,
          110,
          120,
          130,
          130,
          71,
          130,
          128,
          296,
          156,
          128,
          100,
          113,
          132,
          null,
          136,
          125,
          185,
          275,
          120,
          113,
          113,
          135,
          71,
          95,
          109,
          103,
          45,
          65,
          103,
          53,
          194,
          115,
          115,
          66,
          152,
          360,
          62,
          160,
          218,
          110,
          178,
          60,
          160,
          239,
          112,
          138,
          138,
          80,
          100,
          110,
          96,
          121,
          81,
          133,
          87,
          60,
          150,
          105,
          405,
          143,
          100,
          null,
          50,
          null,
          187,
          138,
          187,
          180,
          148,
          152,
          175,
          130,
          110,
          55,
          150,
          190,
          125,
          60,
          149,
          90,
          84,
          96,
          118,
          173,
          136,
          160,
          160,
          128,
          153,
          132,
          98,
          140,
          70,
          110,
          98,
          110,
          162,
          113,
          100,
          93,
          162,
          150,
          230,
          132,
          86,
          null,
          154,
          113,
          128,
          234,
          246,
          131,
          80,
          500,
          160,
          75,
          96,
          186,
          110,
          225,
          119,
          105,
          107,
          111,
          95,
          209,
          113,
          100,
          208,
          138,
          124,
          243,
          480,
          96,
          188,
          40,
          100,
          250,
          148,
          70,
          311,
          150,
          113,
          123,
          185,
          95,
          45,
          55,
          100,
          480,
          null,
          400,
          110,
          161,
          94,
          130,
          216,
          100,
          110,
          196,
          125,
          126,
          324,
          107,
          66,
          157,
          140,
          99,
          95,
          128,
          102,
          155,
          80,
          145,
          103,
          110,
          null,
          null,
          158,
          181,
          132,
          26,
          84,
          260,
          162,
          182,
          108,
          600,
          211,
          132,
          258,
          120,
          70,
          123,
          9,
          104,
          186,
          165,
          275,
          187,
          150,
          108,
          136,
          110,
          107,
          161,
          205,
          90,
          36,
          61,
          146,
          172,
          104,
          70,
          94,
          106,
          56,
          205,
          292,
          142,
          260,
          110,
          187,
          88,
          180,
          192,
          350,
          155,
          128,
          172,
          496,
          null,
          173,
          157,
          108,
          71,
          40,
          253,
          187,
          133
         ],
         "y0": " ",
         "yaxis": "y"
        }
       ],
       "layout": {
        "boxmode": "group",
        "legend": {
         "tracegroupgap": 0
        },
        "margin": {
         "t": 60
        },
        "template": {
         "data": {
          "bar": [
           {
            "error_x": {
             "color": "#2a3f5f"
            },
            "error_y": {
             "color": "#2a3f5f"
            },
            "marker": {
             "line": {
              "color": "#E5ECF6",
              "width": 0.5
             },
             "pattern": {
              "fillmode": "overlay",
              "size": 10,
              "solidity": 0.2
             }
            },
            "type": "bar"
           }
          ],
          "barpolar": [
           {
            "marker": {
             "line": {
              "color": "#E5ECF6",
              "width": 0.5
             },
             "pattern": {
              "fillmode": "overlay",
              "size": 10,
              "solidity": 0.2
             }
            },
            "type": "barpolar"
           }
          ],
          "carpet": [
           {
            "aaxis": {
             "endlinecolor": "#2a3f5f",
             "gridcolor": "white",
             "linecolor": "white",
             "minorgridcolor": "white",
             "startlinecolor": "#2a3f5f"
            },
            "baxis": {
             "endlinecolor": "#2a3f5f",
             "gridcolor": "white",
             "linecolor": "white",
             "minorgridcolor": "white",
             "startlinecolor": "#2a3f5f"
            },
            "type": "carpet"
           }
          ],
          "choropleth": [
           {
            "colorbar": {
             "outlinewidth": 0,
             "ticks": ""
            },
            "type": "choropleth"
           }
          ],
          "contour": [
           {
            "colorbar": {
             "outlinewidth": 0,
             "ticks": ""
            },
            "colorscale": [
             [
              0,
              "#0d0887"
             ],
             [
              0.1111111111111111,
              "#46039f"
             ],
             [
              0.2222222222222222,
              "#7201a8"
             ],
             [
              0.3333333333333333,
              "#9c179e"
             ],
             [
              0.4444444444444444,
              "#bd3786"
             ],
             [
              0.5555555555555556,
              "#d8576b"
             ],
             [
              0.6666666666666666,
              "#ed7953"
             ],
             [
              0.7777777777777778,
              "#fb9f3a"
             ],
             [
              0.8888888888888888,
              "#fdca26"
             ],
             [
              1,
              "#f0f921"
             ]
            ],
            "type": "contour"
           }
          ],
          "contourcarpet": [
           {
            "colorbar": {
             "outlinewidth": 0,
             "ticks": ""
            },
            "type": "contourcarpet"
           }
          ],
          "heatmap": [
           {
            "colorbar": {
             "outlinewidth": 0,
             "ticks": ""
            },
            "colorscale": [
             [
              0,
              "#0d0887"
             ],
             [
              0.1111111111111111,
              "#46039f"
             ],
             [
              0.2222222222222222,
              "#7201a8"
             ],
             [
              0.3333333333333333,
              "#9c179e"
             ],
             [
              0.4444444444444444,
              "#bd3786"
             ],
             [
              0.5555555555555556,
              "#d8576b"
             ],
             [
              0.6666666666666666,
              "#ed7953"
             ],
             [
              0.7777777777777778,
              "#fb9f3a"
             ],
             [
              0.8888888888888888,
              "#fdca26"
             ],
             [
              1,
              "#f0f921"
             ]
            ],
            "type": "heatmap"
           }
          ],
          "heatmapgl": [
           {
            "colorbar": {
             "outlinewidth": 0,
             "ticks": ""
            },
            "colorscale": [
             [
              0,
              "#0d0887"
             ],
             [
              0.1111111111111111,
              "#46039f"
             ],
             [
              0.2222222222222222,
              "#7201a8"
             ],
             [
              0.3333333333333333,
              "#9c179e"
             ],
             [
              0.4444444444444444,
              "#bd3786"
             ],
             [
              0.5555555555555556,
              "#d8576b"
             ],
             [
              0.6666666666666666,
              "#ed7953"
             ],
             [
              0.7777777777777778,
              "#fb9f3a"
             ],
             [
              0.8888888888888888,
              "#fdca26"
             ],
             [
              1,
              "#f0f921"
             ]
            ],
            "type": "heatmapgl"
           }
          ],
          "histogram": [
           {
            "marker": {
             "pattern": {
              "fillmode": "overlay",
              "size": 10,
              "solidity": 0.2
             }
            },
            "type": "histogram"
           }
          ],
          "histogram2d": [
           {
            "colorbar": {
             "outlinewidth": 0,
             "ticks": ""
            },
            "colorscale": [
             [
              0,
              "#0d0887"
             ],
             [
              0.1111111111111111,
              "#46039f"
             ],
             [
              0.2222222222222222,
              "#7201a8"
             ],
             [
              0.3333333333333333,
              "#9c179e"
             ],
             [
              0.4444444444444444,
              "#bd3786"
             ],
             [
              0.5555555555555556,
              "#d8576b"
             ],
             [
              0.6666666666666666,
              "#ed7953"
             ],
             [
              0.7777777777777778,
              "#fb9f3a"
             ],
             [
              0.8888888888888888,
              "#fdca26"
             ],
             [
              1,
              "#f0f921"
             ]
            ],
            "type": "histogram2d"
           }
          ],
          "histogram2dcontour": [
           {
            "colorbar": {
             "outlinewidth": 0,
             "ticks": ""
            },
            "colorscale": [
             [
              0,
              "#0d0887"
             ],
             [
              0.1111111111111111,
              "#46039f"
             ],
             [
              0.2222222222222222,
              "#7201a8"
             ],
             [
              0.3333333333333333,
              "#9c179e"
             ],
             [
              0.4444444444444444,
              "#bd3786"
             ],
             [
              0.5555555555555556,
              "#d8576b"
             ],
             [
              0.6666666666666666,
              "#ed7953"
             ],
             [
              0.7777777777777778,
              "#fb9f3a"
             ],
             [
              0.8888888888888888,
              "#fdca26"
             ],
             [
              1,
              "#f0f921"
             ]
            ],
            "type": "histogram2dcontour"
           }
          ],
          "mesh3d": [
           {
            "colorbar": {
             "outlinewidth": 0,
             "ticks": ""
            },
            "type": "mesh3d"
           }
          ],
          "parcoords": [
           {
            "line": {
             "colorbar": {
              "outlinewidth": 0,
              "ticks": ""
             }
            },
            "type": "parcoords"
           }
          ],
          "pie": [
           {
            "automargin": true,
            "type": "pie"
           }
          ],
          "scatter": [
           {
            "fillpattern": {
             "fillmode": "overlay",
             "size": 10,
             "solidity": 0.2
            },
            "type": "scatter"
           }
          ],
          "scatter3d": [
           {
            "line": {
             "colorbar": {
              "outlinewidth": 0,
              "ticks": ""
             }
            },
            "marker": {
             "colorbar": {
              "outlinewidth": 0,
              "ticks": ""
             }
            },
            "type": "scatter3d"
           }
          ],
          "scattercarpet": [
           {
            "marker": {
             "colorbar": {
              "outlinewidth": 0,
              "ticks": ""
             }
            },
            "type": "scattercarpet"
           }
          ],
          "scattergeo": [
           {
            "marker": {
             "colorbar": {
              "outlinewidth": 0,
              "ticks": ""
             }
            },
            "type": "scattergeo"
           }
          ],
          "scattergl": [
           {
            "marker": {
             "colorbar": {
              "outlinewidth": 0,
              "ticks": ""
             }
            },
            "type": "scattergl"
           }
          ],
          "scattermapbox": [
           {
            "marker": {
             "colorbar": {
              "outlinewidth": 0,
              "ticks": ""
             }
            },
            "type": "scattermapbox"
           }
          ],
          "scatterpolar": [
           {
            "marker": {
             "colorbar": {
              "outlinewidth": 0,
              "ticks": ""
             }
            },
            "type": "scatterpolar"
           }
          ],
          "scatterpolargl": [
           {
            "marker": {
             "colorbar": {
              "outlinewidth": 0,
              "ticks": ""
             }
            },
            "type": "scatterpolargl"
           }
          ],
          "scatterternary": [
           {
            "marker": {
             "colorbar": {
              "outlinewidth": 0,
              "ticks": ""
             }
            },
            "type": "scatterternary"
           }
          ],
          "surface": [
           {
            "colorbar": {
             "outlinewidth": 0,
             "ticks": ""
            },
            "colorscale": [
             [
              0,
              "#0d0887"
             ],
             [
              0.1111111111111111,
              "#46039f"
             ],
             [
              0.2222222222222222,
              "#7201a8"
             ],
             [
              0.3333333333333333,
              "#9c179e"
             ],
             [
              0.4444444444444444,
              "#bd3786"
             ],
             [
              0.5555555555555556,
              "#d8576b"
             ],
             [
              0.6666666666666666,
              "#ed7953"
             ],
             [
              0.7777777777777778,
              "#fb9f3a"
             ],
             [
              0.8888888888888888,
              "#fdca26"
             ],
             [
              1,
              "#f0f921"
             ]
            ],
            "type": "surface"
           }
          ],
          "table": [
           {
            "cells": {
             "fill": {
              "color": "#EBF0F8"
             },
             "line": {
              "color": "white"
             }
            },
            "header": {
             "fill": {
              "color": "#C8D4E3"
             },
             "line": {
              "color": "white"
             }
            },
            "type": "table"
           }
          ]
         },
         "layout": {
          "annotationdefaults": {
           "arrowcolor": "#2a3f5f",
           "arrowhead": 0,
           "arrowwidth": 1
          },
          "autotypenumbers": "strict",
          "coloraxis": {
           "colorbar": {
            "outlinewidth": 0,
            "ticks": ""
           }
          },
          "colorscale": {
           "diverging": [
            [
             0,
             "#8e0152"
            ],
            [
             0.1,
             "#c51b7d"
            ],
            [
             0.2,
             "#de77ae"
            ],
            [
             0.3,
             "#f1b6da"
            ],
            [
             0.4,
             "#fde0ef"
            ],
            [
             0.5,
             "#f7f7f7"
            ],
            [
             0.6,
             "#e6f5d0"
            ],
            [
             0.7,
             "#b8e186"
            ],
            [
             0.8,
             "#7fbc41"
            ],
            [
             0.9,
             "#4d9221"
            ],
            [
             1,
             "#276419"
            ]
           ],
           "sequential": [
            [
             0,
             "#0d0887"
            ],
            [
             0.1111111111111111,
             "#46039f"
            ],
            [
             0.2222222222222222,
             "#7201a8"
            ],
            [
             0.3333333333333333,
             "#9c179e"
            ],
            [
             0.4444444444444444,
             "#bd3786"
            ],
            [
             0.5555555555555556,
             "#d8576b"
            ],
            [
             0.6666666666666666,
             "#ed7953"
            ],
            [
             0.7777777777777778,
             "#fb9f3a"
            ],
            [
             0.8888888888888888,
             "#fdca26"
            ],
            [
             1,
             "#f0f921"
            ]
           ],
           "sequentialminus": [
            [
             0,
             "#0d0887"
            ],
            [
             0.1111111111111111,
             "#46039f"
            ],
            [
             0.2222222222222222,
             "#7201a8"
            ],
            [
             0.3333333333333333,
             "#9c179e"
            ],
            [
             0.4444444444444444,
             "#bd3786"
            ],
            [
             0.5555555555555556,
             "#d8576b"
            ],
            [
             0.6666666666666666,
             "#ed7953"
            ],
            [
             0.7777777777777778,
             "#fb9f3a"
            ],
            [
             0.8888888888888888,
             "#fdca26"
            ],
            [
             1,
             "#f0f921"
            ]
           ]
          },
          "colorway": [
           "#636efa",
           "#EF553B",
           "#00cc96",
           "#ab63fa",
           "#FFA15A",
           "#19d3f3",
           "#FF6692",
           "#B6E880",
           "#FF97FF",
           "#FECB52"
          ],
          "font": {
           "color": "#2a3f5f"
          },
          "geo": {
           "bgcolor": "white",
           "lakecolor": "white",
           "landcolor": "#E5ECF6",
           "showlakes": true,
           "showland": true,
           "subunitcolor": "white"
          },
          "hoverlabel": {
           "align": "left"
          },
          "hovermode": "closest",
          "mapbox": {
           "style": "light"
          },
          "paper_bgcolor": "white",
          "plot_bgcolor": "#E5ECF6",
          "polar": {
           "angularaxis": {
            "gridcolor": "white",
            "linecolor": "white",
            "ticks": ""
           },
           "bgcolor": "#E5ECF6",
           "radialaxis": {
            "gridcolor": "white",
            "linecolor": "white",
            "ticks": ""
           }
          },
          "scene": {
           "xaxis": {
            "backgroundcolor": "#E5ECF6",
            "gridcolor": "white",
            "gridwidth": 2,
            "linecolor": "white",
            "showbackground": true,
            "ticks": "",
            "zerolinecolor": "white"
           },
           "yaxis": {
            "backgroundcolor": "#E5ECF6",
            "gridcolor": "white",
            "gridwidth": 2,
            "linecolor": "white",
            "showbackground": true,
            "ticks": "",
            "zerolinecolor": "white"
           },
           "zaxis": {
            "backgroundcolor": "#E5ECF6",
            "gridcolor": "white",
            "gridwidth": 2,
            "linecolor": "white",
            "showbackground": true,
            "ticks": "",
            "zerolinecolor": "white"
           }
          },
          "shapedefaults": {
           "line": {
            "color": "#2a3f5f"
           }
          },
          "ternary": {
           "aaxis": {
            "gridcolor": "white",
            "linecolor": "white",
            "ticks": ""
           },
           "baxis": {
            "gridcolor": "white",
            "linecolor": "white",
            "ticks": ""
           },
           "bgcolor": "#E5ECF6",
           "caxis": {
            "gridcolor": "white",
            "linecolor": "white",
            "ticks": ""
           }
          },
          "title": {
           "x": 0.05
          },
          "xaxis": {
           "automargin": true,
           "gridcolor": "white",
           "linecolor": "white",
           "ticks": "",
           "title": {
            "standoff": 15
           },
           "zerolinecolor": "white",
           "zerolinewidth": 2
          },
          "yaxis": {
           "automargin": true,
           "gridcolor": "white",
           "linecolor": "white",
           "ticks": "",
           "title": {
            "standoff": 15
           },
           "zerolinecolor": "white",
           "zerolinewidth": 2
          }
         }
        },
        "xaxis": {
         "anchor": "y",
         "domain": [
          0,
          1
         ],
         "title": {
          "text": "variable"
         }
        },
        "yaxis": {
         "anchor": "x",
         "domain": [
          0,
          1
         ],
         "title": {
          "text": "value"
         }
        }
       }
      }
     },
     "metadata": {},
     "output_type": "display_data"
    }
   ],
   "source": [
    "px.box(df_train['LoanAmount'])"
   ]
  },
  {
   "cell_type": "code",
   "execution_count": 43,
   "metadata": {},
   "outputs": [],
   "source": [
    "df_train['LoanAmount'].fillna(df_train.groupby(['Loan_Status'])['LoanAmount'].transform('median'), inplace=True)"
   ]
  },
  {
   "cell_type": "markdown",
   "metadata": {},
   "source": [
    "### 3.8) Loan_Amount_Term"
   ]
  },
  {
   "cell_type": "code",
   "execution_count": 44,
   "metadata": {},
   "outputs": [
    {
     "data": {
      "text/plain": [
       "14"
      ]
     },
     "execution_count": 44,
     "metadata": {},
     "output_type": "execute_result"
    }
   ],
   "source": [
    "df_train['Loan_Amount_Term'].isnull().sum()"
   ]
  },
  {
   "cell_type": "code",
   "execution_count": 45,
   "metadata": {},
   "outputs": [
    {
     "data": {
      "text/plain": [
       "360.0    512\n",
       "180.0     44\n",
       "480.0     15\n",
       "300.0     13\n",
       "240.0      4\n",
       "84.0       4\n",
       "120.0      3\n",
       "60.0       2\n",
       "36.0       2\n",
       "12.0       1\n",
       "Name: Loan_Amount_Term, dtype: int64"
      ]
     },
     "execution_count": 45,
     "metadata": {},
     "output_type": "execute_result"
    }
   ],
   "source": [
    "df_train['Loan_Amount_Term'].value_counts()"
   ]
  },
  {
   "cell_type": "code",
   "execution_count": 46,
   "metadata": {},
   "outputs": [
    {
     "data": {
      "application/vnd.plotly.v1+json": {
       "config": {
        "plotlyServerURL": "https://plot.ly"
       },
       "data": [
        {
         "alignmentgroup": "True",
         "hovertemplate": "variable=%{x}<br>value=%{y}<extra></extra>",
         "legendgroup": "",
         "marker": {
          "color": "#636efa"
         },
         "name": "",
         "notched": false,
         "offsetgroup": "",
         "orientation": "v",
         "showlegend": false,
         "type": "box",
         "x": [
          "Loan_Amount_Term",
          "Loan_Amount_Term",
          "Loan_Amount_Term",
          "Loan_Amount_Term",
          "Loan_Amount_Term",
          "Loan_Amount_Term",
          "Loan_Amount_Term",
          "Loan_Amount_Term",
          "Loan_Amount_Term",
          "Loan_Amount_Term",
          "Loan_Amount_Term",
          "Loan_Amount_Term",
          "Loan_Amount_Term",
          "Loan_Amount_Term",
          "Loan_Amount_Term",
          "Loan_Amount_Term",
          "Loan_Amount_Term",
          "Loan_Amount_Term",
          "Loan_Amount_Term",
          "Loan_Amount_Term",
          "Loan_Amount_Term",
          "Loan_Amount_Term",
          "Loan_Amount_Term",
          "Loan_Amount_Term",
          "Loan_Amount_Term",
          "Loan_Amount_Term",
          "Loan_Amount_Term",
          "Loan_Amount_Term",
          "Loan_Amount_Term",
          "Loan_Amount_Term",
          "Loan_Amount_Term",
          "Loan_Amount_Term",
          "Loan_Amount_Term",
          "Loan_Amount_Term",
          "Loan_Amount_Term",
          "Loan_Amount_Term",
          "Loan_Amount_Term",
          "Loan_Amount_Term",
          "Loan_Amount_Term",
          "Loan_Amount_Term",
          "Loan_Amount_Term",
          "Loan_Amount_Term",
          "Loan_Amount_Term",
          "Loan_Amount_Term",
          "Loan_Amount_Term",
          "Loan_Amount_Term",
          "Loan_Amount_Term",
          "Loan_Amount_Term",
          "Loan_Amount_Term",
          "Loan_Amount_Term",
          "Loan_Amount_Term",
          "Loan_Amount_Term",
          "Loan_Amount_Term",
          "Loan_Amount_Term",
          "Loan_Amount_Term",
          "Loan_Amount_Term",
          "Loan_Amount_Term",
          "Loan_Amount_Term",
          "Loan_Amount_Term",
          "Loan_Amount_Term",
          "Loan_Amount_Term",
          "Loan_Amount_Term",
          "Loan_Amount_Term",
          "Loan_Amount_Term",
          "Loan_Amount_Term",
          "Loan_Amount_Term",
          "Loan_Amount_Term",
          "Loan_Amount_Term",
          "Loan_Amount_Term",
          "Loan_Amount_Term",
          "Loan_Amount_Term",
          "Loan_Amount_Term",
          "Loan_Amount_Term",
          "Loan_Amount_Term",
          "Loan_Amount_Term",
          "Loan_Amount_Term",
          "Loan_Amount_Term",
          "Loan_Amount_Term",
          "Loan_Amount_Term",
          "Loan_Amount_Term",
          "Loan_Amount_Term",
          "Loan_Amount_Term",
          "Loan_Amount_Term",
          "Loan_Amount_Term",
          "Loan_Amount_Term",
          "Loan_Amount_Term",
          "Loan_Amount_Term",
          "Loan_Amount_Term",
          "Loan_Amount_Term",
          "Loan_Amount_Term",
          "Loan_Amount_Term",
          "Loan_Amount_Term",
          "Loan_Amount_Term",
          "Loan_Amount_Term",
          "Loan_Amount_Term",
          "Loan_Amount_Term",
          "Loan_Amount_Term",
          "Loan_Amount_Term",
          "Loan_Amount_Term",
          "Loan_Amount_Term",
          "Loan_Amount_Term",
          "Loan_Amount_Term",
          "Loan_Amount_Term",
          "Loan_Amount_Term",
          "Loan_Amount_Term",
          "Loan_Amount_Term",
          "Loan_Amount_Term",
          "Loan_Amount_Term",
          "Loan_Amount_Term",
          "Loan_Amount_Term",
          "Loan_Amount_Term",
          "Loan_Amount_Term",
          "Loan_Amount_Term",
          "Loan_Amount_Term",
          "Loan_Amount_Term",
          "Loan_Amount_Term",
          "Loan_Amount_Term",
          "Loan_Amount_Term",
          "Loan_Amount_Term",
          "Loan_Amount_Term",
          "Loan_Amount_Term",
          "Loan_Amount_Term",
          "Loan_Amount_Term",
          "Loan_Amount_Term",
          "Loan_Amount_Term",
          "Loan_Amount_Term",
          "Loan_Amount_Term",
          "Loan_Amount_Term",
          "Loan_Amount_Term",
          "Loan_Amount_Term",
          "Loan_Amount_Term",
          "Loan_Amount_Term",
          "Loan_Amount_Term",
          "Loan_Amount_Term",
          "Loan_Amount_Term",
          "Loan_Amount_Term",
          "Loan_Amount_Term",
          "Loan_Amount_Term",
          "Loan_Amount_Term",
          "Loan_Amount_Term",
          "Loan_Amount_Term",
          "Loan_Amount_Term",
          "Loan_Amount_Term",
          "Loan_Amount_Term",
          "Loan_Amount_Term",
          "Loan_Amount_Term",
          "Loan_Amount_Term",
          "Loan_Amount_Term",
          "Loan_Amount_Term",
          "Loan_Amount_Term",
          "Loan_Amount_Term",
          "Loan_Amount_Term",
          "Loan_Amount_Term",
          "Loan_Amount_Term",
          "Loan_Amount_Term",
          "Loan_Amount_Term",
          "Loan_Amount_Term",
          "Loan_Amount_Term",
          "Loan_Amount_Term",
          "Loan_Amount_Term",
          "Loan_Amount_Term",
          "Loan_Amount_Term",
          "Loan_Amount_Term",
          "Loan_Amount_Term",
          "Loan_Amount_Term",
          "Loan_Amount_Term",
          "Loan_Amount_Term",
          "Loan_Amount_Term",
          "Loan_Amount_Term",
          "Loan_Amount_Term",
          "Loan_Amount_Term",
          "Loan_Amount_Term",
          "Loan_Amount_Term",
          "Loan_Amount_Term",
          "Loan_Amount_Term",
          "Loan_Amount_Term",
          "Loan_Amount_Term",
          "Loan_Amount_Term",
          "Loan_Amount_Term",
          "Loan_Amount_Term",
          "Loan_Amount_Term",
          "Loan_Amount_Term",
          "Loan_Amount_Term",
          "Loan_Amount_Term",
          "Loan_Amount_Term",
          "Loan_Amount_Term",
          "Loan_Amount_Term",
          "Loan_Amount_Term",
          "Loan_Amount_Term",
          "Loan_Amount_Term",
          "Loan_Amount_Term",
          "Loan_Amount_Term",
          "Loan_Amount_Term",
          "Loan_Amount_Term",
          "Loan_Amount_Term",
          "Loan_Amount_Term",
          "Loan_Amount_Term",
          "Loan_Amount_Term",
          "Loan_Amount_Term",
          "Loan_Amount_Term",
          "Loan_Amount_Term",
          "Loan_Amount_Term",
          "Loan_Amount_Term",
          "Loan_Amount_Term",
          "Loan_Amount_Term",
          "Loan_Amount_Term",
          "Loan_Amount_Term",
          "Loan_Amount_Term",
          "Loan_Amount_Term",
          "Loan_Amount_Term",
          "Loan_Amount_Term",
          "Loan_Amount_Term",
          "Loan_Amount_Term",
          "Loan_Amount_Term",
          "Loan_Amount_Term",
          "Loan_Amount_Term",
          "Loan_Amount_Term",
          "Loan_Amount_Term",
          "Loan_Amount_Term",
          "Loan_Amount_Term",
          "Loan_Amount_Term",
          "Loan_Amount_Term",
          "Loan_Amount_Term",
          "Loan_Amount_Term",
          "Loan_Amount_Term",
          "Loan_Amount_Term",
          "Loan_Amount_Term",
          "Loan_Amount_Term",
          "Loan_Amount_Term",
          "Loan_Amount_Term",
          "Loan_Amount_Term",
          "Loan_Amount_Term",
          "Loan_Amount_Term",
          "Loan_Amount_Term",
          "Loan_Amount_Term",
          "Loan_Amount_Term",
          "Loan_Amount_Term",
          "Loan_Amount_Term",
          "Loan_Amount_Term",
          "Loan_Amount_Term",
          "Loan_Amount_Term",
          "Loan_Amount_Term",
          "Loan_Amount_Term",
          "Loan_Amount_Term",
          "Loan_Amount_Term",
          "Loan_Amount_Term",
          "Loan_Amount_Term",
          "Loan_Amount_Term",
          "Loan_Amount_Term",
          "Loan_Amount_Term",
          "Loan_Amount_Term",
          "Loan_Amount_Term",
          "Loan_Amount_Term",
          "Loan_Amount_Term",
          "Loan_Amount_Term",
          "Loan_Amount_Term",
          "Loan_Amount_Term",
          "Loan_Amount_Term",
          "Loan_Amount_Term",
          "Loan_Amount_Term",
          "Loan_Amount_Term",
          "Loan_Amount_Term",
          "Loan_Amount_Term",
          "Loan_Amount_Term",
          "Loan_Amount_Term",
          "Loan_Amount_Term",
          "Loan_Amount_Term",
          "Loan_Amount_Term",
          "Loan_Amount_Term",
          "Loan_Amount_Term",
          "Loan_Amount_Term",
          "Loan_Amount_Term",
          "Loan_Amount_Term",
          "Loan_Amount_Term",
          "Loan_Amount_Term",
          "Loan_Amount_Term",
          "Loan_Amount_Term",
          "Loan_Amount_Term",
          "Loan_Amount_Term",
          "Loan_Amount_Term",
          "Loan_Amount_Term",
          "Loan_Amount_Term",
          "Loan_Amount_Term",
          "Loan_Amount_Term",
          "Loan_Amount_Term",
          "Loan_Amount_Term",
          "Loan_Amount_Term",
          "Loan_Amount_Term",
          "Loan_Amount_Term",
          "Loan_Amount_Term",
          "Loan_Amount_Term",
          "Loan_Amount_Term",
          "Loan_Amount_Term",
          "Loan_Amount_Term",
          "Loan_Amount_Term",
          "Loan_Amount_Term",
          "Loan_Amount_Term",
          "Loan_Amount_Term",
          "Loan_Amount_Term",
          "Loan_Amount_Term",
          "Loan_Amount_Term",
          "Loan_Amount_Term",
          "Loan_Amount_Term",
          "Loan_Amount_Term",
          "Loan_Amount_Term",
          "Loan_Amount_Term",
          "Loan_Amount_Term",
          "Loan_Amount_Term",
          "Loan_Amount_Term",
          "Loan_Amount_Term",
          "Loan_Amount_Term",
          "Loan_Amount_Term",
          "Loan_Amount_Term",
          "Loan_Amount_Term",
          "Loan_Amount_Term",
          "Loan_Amount_Term",
          "Loan_Amount_Term",
          "Loan_Amount_Term",
          "Loan_Amount_Term",
          "Loan_Amount_Term",
          "Loan_Amount_Term",
          "Loan_Amount_Term",
          "Loan_Amount_Term",
          "Loan_Amount_Term",
          "Loan_Amount_Term",
          "Loan_Amount_Term",
          "Loan_Amount_Term",
          "Loan_Amount_Term",
          "Loan_Amount_Term",
          "Loan_Amount_Term",
          "Loan_Amount_Term",
          "Loan_Amount_Term",
          "Loan_Amount_Term",
          "Loan_Amount_Term",
          "Loan_Amount_Term",
          "Loan_Amount_Term",
          "Loan_Amount_Term",
          "Loan_Amount_Term",
          "Loan_Amount_Term",
          "Loan_Amount_Term",
          "Loan_Amount_Term",
          "Loan_Amount_Term",
          "Loan_Amount_Term",
          "Loan_Amount_Term",
          "Loan_Amount_Term",
          "Loan_Amount_Term",
          "Loan_Amount_Term",
          "Loan_Amount_Term",
          "Loan_Amount_Term",
          "Loan_Amount_Term",
          "Loan_Amount_Term",
          "Loan_Amount_Term",
          "Loan_Amount_Term",
          "Loan_Amount_Term",
          "Loan_Amount_Term",
          "Loan_Amount_Term",
          "Loan_Amount_Term",
          "Loan_Amount_Term",
          "Loan_Amount_Term",
          "Loan_Amount_Term",
          "Loan_Amount_Term",
          "Loan_Amount_Term",
          "Loan_Amount_Term",
          "Loan_Amount_Term",
          "Loan_Amount_Term",
          "Loan_Amount_Term",
          "Loan_Amount_Term",
          "Loan_Amount_Term",
          "Loan_Amount_Term",
          "Loan_Amount_Term",
          "Loan_Amount_Term",
          "Loan_Amount_Term",
          "Loan_Amount_Term",
          "Loan_Amount_Term",
          "Loan_Amount_Term",
          "Loan_Amount_Term",
          "Loan_Amount_Term",
          "Loan_Amount_Term",
          "Loan_Amount_Term",
          "Loan_Amount_Term",
          "Loan_Amount_Term",
          "Loan_Amount_Term",
          "Loan_Amount_Term",
          "Loan_Amount_Term",
          "Loan_Amount_Term",
          "Loan_Amount_Term",
          "Loan_Amount_Term",
          "Loan_Amount_Term",
          "Loan_Amount_Term",
          "Loan_Amount_Term",
          "Loan_Amount_Term",
          "Loan_Amount_Term",
          "Loan_Amount_Term",
          "Loan_Amount_Term",
          "Loan_Amount_Term",
          "Loan_Amount_Term",
          "Loan_Amount_Term",
          "Loan_Amount_Term",
          "Loan_Amount_Term",
          "Loan_Amount_Term",
          "Loan_Amount_Term",
          "Loan_Amount_Term",
          "Loan_Amount_Term",
          "Loan_Amount_Term",
          "Loan_Amount_Term",
          "Loan_Amount_Term",
          "Loan_Amount_Term",
          "Loan_Amount_Term",
          "Loan_Amount_Term",
          "Loan_Amount_Term",
          "Loan_Amount_Term",
          "Loan_Amount_Term",
          "Loan_Amount_Term",
          "Loan_Amount_Term",
          "Loan_Amount_Term",
          "Loan_Amount_Term",
          "Loan_Amount_Term",
          "Loan_Amount_Term",
          "Loan_Amount_Term",
          "Loan_Amount_Term",
          "Loan_Amount_Term",
          "Loan_Amount_Term",
          "Loan_Amount_Term",
          "Loan_Amount_Term",
          "Loan_Amount_Term",
          "Loan_Amount_Term",
          "Loan_Amount_Term",
          "Loan_Amount_Term",
          "Loan_Amount_Term",
          "Loan_Amount_Term",
          "Loan_Amount_Term",
          "Loan_Amount_Term",
          "Loan_Amount_Term",
          "Loan_Amount_Term",
          "Loan_Amount_Term",
          "Loan_Amount_Term",
          "Loan_Amount_Term",
          "Loan_Amount_Term",
          "Loan_Amount_Term",
          "Loan_Amount_Term",
          "Loan_Amount_Term",
          "Loan_Amount_Term",
          "Loan_Amount_Term",
          "Loan_Amount_Term",
          "Loan_Amount_Term",
          "Loan_Amount_Term",
          "Loan_Amount_Term",
          "Loan_Amount_Term",
          "Loan_Amount_Term",
          "Loan_Amount_Term",
          "Loan_Amount_Term",
          "Loan_Amount_Term",
          "Loan_Amount_Term",
          "Loan_Amount_Term",
          "Loan_Amount_Term",
          "Loan_Amount_Term",
          "Loan_Amount_Term",
          "Loan_Amount_Term",
          "Loan_Amount_Term",
          "Loan_Amount_Term",
          "Loan_Amount_Term",
          "Loan_Amount_Term",
          "Loan_Amount_Term",
          "Loan_Amount_Term",
          "Loan_Amount_Term",
          "Loan_Amount_Term",
          "Loan_Amount_Term",
          "Loan_Amount_Term",
          "Loan_Amount_Term",
          "Loan_Amount_Term",
          "Loan_Amount_Term",
          "Loan_Amount_Term",
          "Loan_Amount_Term",
          "Loan_Amount_Term",
          "Loan_Amount_Term",
          "Loan_Amount_Term",
          "Loan_Amount_Term",
          "Loan_Amount_Term",
          "Loan_Amount_Term",
          "Loan_Amount_Term",
          "Loan_Amount_Term",
          "Loan_Amount_Term",
          "Loan_Amount_Term",
          "Loan_Amount_Term",
          "Loan_Amount_Term",
          "Loan_Amount_Term",
          "Loan_Amount_Term",
          "Loan_Amount_Term",
          "Loan_Amount_Term",
          "Loan_Amount_Term",
          "Loan_Amount_Term",
          "Loan_Amount_Term",
          "Loan_Amount_Term",
          "Loan_Amount_Term",
          "Loan_Amount_Term",
          "Loan_Amount_Term",
          "Loan_Amount_Term",
          "Loan_Amount_Term",
          "Loan_Amount_Term",
          "Loan_Amount_Term",
          "Loan_Amount_Term",
          "Loan_Amount_Term",
          "Loan_Amount_Term",
          "Loan_Amount_Term",
          "Loan_Amount_Term",
          "Loan_Amount_Term",
          "Loan_Amount_Term",
          "Loan_Amount_Term",
          "Loan_Amount_Term",
          "Loan_Amount_Term",
          "Loan_Amount_Term",
          "Loan_Amount_Term",
          "Loan_Amount_Term",
          "Loan_Amount_Term",
          "Loan_Amount_Term",
          "Loan_Amount_Term",
          "Loan_Amount_Term",
          "Loan_Amount_Term",
          "Loan_Amount_Term",
          "Loan_Amount_Term",
          "Loan_Amount_Term",
          "Loan_Amount_Term",
          "Loan_Amount_Term",
          "Loan_Amount_Term",
          "Loan_Amount_Term",
          "Loan_Amount_Term",
          "Loan_Amount_Term",
          "Loan_Amount_Term",
          "Loan_Amount_Term",
          "Loan_Amount_Term",
          "Loan_Amount_Term",
          "Loan_Amount_Term",
          "Loan_Amount_Term",
          "Loan_Amount_Term",
          "Loan_Amount_Term",
          "Loan_Amount_Term",
          "Loan_Amount_Term",
          "Loan_Amount_Term",
          "Loan_Amount_Term",
          "Loan_Amount_Term",
          "Loan_Amount_Term",
          "Loan_Amount_Term",
          "Loan_Amount_Term",
          "Loan_Amount_Term",
          "Loan_Amount_Term",
          "Loan_Amount_Term",
          "Loan_Amount_Term",
          "Loan_Amount_Term",
          "Loan_Amount_Term",
          "Loan_Amount_Term",
          "Loan_Amount_Term",
          "Loan_Amount_Term",
          "Loan_Amount_Term",
          "Loan_Amount_Term",
          "Loan_Amount_Term",
          "Loan_Amount_Term",
          "Loan_Amount_Term",
          "Loan_Amount_Term",
          "Loan_Amount_Term",
          "Loan_Amount_Term",
          "Loan_Amount_Term",
          "Loan_Amount_Term",
          "Loan_Amount_Term",
          "Loan_Amount_Term",
          "Loan_Amount_Term",
          "Loan_Amount_Term",
          "Loan_Amount_Term",
          "Loan_Amount_Term",
          "Loan_Amount_Term",
          "Loan_Amount_Term",
          "Loan_Amount_Term",
          "Loan_Amount_Term",
          "Loan_Amount_Term",
          "Loan_Amount_Term",
          "Loan_Amount_Term",
          "Loan_Amount_Term",
          "Loan_Amount_Term",
          "Loan_Amount_Term",
          "Loan_Amount_Term",
          "Loan_Amount_Term",
          "Loan_Amount_Term",
          "Loan_Amount_Term",
          "Loan_Amount_Term",
          "Loan_Amount_Term",
          "Loan_Amount_Term",
          "Loan_Amount_Term",
          "Loan_Amount_Term",
          "Loan_Amount_Term",
          "Loan_Amount_Term",
          "Loan_Amount_Term",
          "Loan_Amount_Term",
          "Loan_Amount_Term",
          "Loan_Amount_Term",
          "Loan_Amount_Term",
          "Loan_Amount_Term",
          "Loan_Amount_Term",
          "Loan_Amount_Term",
          "Loan_Amount_Term",
          "Loan_Amount_Term",
          "Loan_Amount_Term",
          "Loan_Amount_Term",
          "Loan_Amount_Term",
          "Loan_Amount_Term",
          "Loan_Amount_Term",
          "Loan_Amount_Term",
          "Loan_Amount_Term",
          "Loan_Amount_Term",
          "Loan_Amount_Term",
          "Loan_Amount_Term",
          "Loan_Amount_Term",
          "Loan_Amount_Term",
          "Loan_Amount_Term",
          "Loan_Amount_Term",
          "Loan_Amount_Term"
         ],
         "x0": " ",
         "xaxis": "x",
         "y": [
          360,
          360,
          360,
          360,
          360,
          360,
          360,
          360,
          360,
          360,
          360,
          360,
          360,
          360,
          120,
          360,
          240,
          360,
          360,
          null,
          360,
          360,
          360,
          360,
          360,
          360,
          360,
          360,
          360,
          360,
          360,
          360,
          360,
          360,
          360,
          360,
          null,
          360,
          360,
          360,
          360,
          360,
          360,
          360,
          null,
          null,
          360,
          360,
          360,
          360,
          360,
          360,
          360,
          360,
          360,
          360,
          360,
          360,
          360,
          360,
          360,
          360,
          180,
          360,
          360,
          360,
          180,
          360,
          60,
          360,
          360,
          360,
          300,
          null,
          360,
          480,
          360,
          360,
          300,
          360,
          360,
          360,
          360,
          360,
          240,
          360,
          360,
          360,
          360,
          360,
          360,
          180,
          360,
          360,
          120,
          360,
          360,
          360,
          180,
          360,
          180,
          360,
          360,
          360,
          360,
          360,
          360,
          360,
          360,
          480,
          360,
          360,
          null,
          360,
          360,
          180,
          360,
          360,
          360,
          360,
          360,
          360,
          360,
          360,
          360,
          360,
          360,
          360,
          180,
          360,
          480,
          360,
          360,
          120,
          360,
          360,
          360,
          360,
          360,
          360,
          360,
          360,
          180,
          360,
          180,
          360,
          360,
          360,
          360,
          360,
          360,
          360,
          360,
          360,
          360,
          180,
          360,
          360,
          360,
          360,
          360,
          360,
          360,
          360,
          180,
          null,
          360,
          360,
          480,
          360,
          360,
          300,
          180,
          360,
          360,
          360,
          360,
          360,
          360,
          480,
          360,
          360,
          180,
          360,
          360,
          360,
          300,
          360,
          360,
          180,
          360,
          360,
          360,
          360,
          360,
          360,
          360,
          null,
          360,
          360,
          360,
          360,
          180,
          360,
          360,
          360,
          360,
          360,
          360,
          360,
          360,
          360,
          360,
          360,
          360,
          360,
          360,
          360,
          360,
          360,
          360,
          360,
          360,
          null,
          360,
          360,
          360,
          360,
          480,
          360,
          360,
          180,
          null,
          360,
          360,
          360,
          360,
          360,
          360,
          360,
          360,
          180,
          60,
          360,
          360,
          180,
          360,
          180,
          480,
          360,
          360,
          360,
          360,
          180,
          360,
          360,
          360,
          360,
          360,
          360,
          360,
          360,
          36,
          360,
          360,
          360,
          360,
          360,
          360,
          360,
          360,
          360,
          360,
          360,
          360,
          360,
          360,
          360,
          360,
          360,
          360,
          360,
          180,
          360,
          360,
          360,
          300,
          360,
          360,
          360,
          360,
          360,
          360,
          480,
          360,
          360,
          360,
          360,
          480,
          360,
          360,
          360,
          360,
          360,
          360,
          360,
          360,
          360,
          360,
          360,
          360,
          360,
          360,
          84,
          360,
          180,
          360,
          360,
          360,
          360,
          360,
          360,
          360,
          360,
          360,
          360,
          360,
          360,
          360,
          360,
          360,
          360,
          360,
          180,
          180,
          null,
          360,
          360,
          360,
          360,
          360,
          360,
          360,
          360,
          360,
          360,
          360,
          360,
          360,
          360,
          360,
          360,
          360,
          360,
          360,
          180,
          360,
          360,
          480,
          360,
          360,
          360,
          360,
          300,
          360,
          360,
          480,
          null,
          360,
          360,
          360,
          360,
          300,
          180,
          360,
          180,
          360,
          360,
          480,
          360,
          360,
          360,
          360,
          360,
          360,
          180,
          360,
          360,
          360,
          360,
          360,
          360,
          360,
          180,
          360,
          360,
          360,
          360,
          360,
          360,
          180,
          300,
          360,
          360,
          360,
          360,
          360,
          360,
          300,
          360,
          360,
          360,
          360,
          360,
          360,
          360,
          360,
          360,
          360,
          360,
          360,
          null,
          360,
          null,
          360,
          360,
          360,
          360,
          360,
          180,
          360,
          360,
          360,
          360,
          360,
          240,
          360,
          360,
          360,
          360,
          360,
          360,
          360,
          360,
          300,
          360,
          360,
          360,
          360,
          360,
          360,
          300,
          360,
          180,
          360,
          360,
          360,
          360,
          360,
          360,
          360,
          180,
          360,
          360,
          360,
          360,
          180,
          360,
          360,
          360,
          360,
          180,
          360,
          360,
          360,
          360,
          300,
          360,
          360,
          360,
          360,
          360,
          360,
          360,
          360,
          360,
          360,
          360,
          360,
          360,
          360,
          360,
          360,
          360,
          360,
          84,
          360,
          12,
          360,
          360,
          480,
          360,
          360,
          360,
          300,
          360,
          360,
          360,
          360,
          360,
          360,
          360,
          360,
          180,
          360,
          360,
          480,
          360,
          360,
          360,
          360,
          360,
          360,
          360,
          360,
          360,
          360,
          360,
          360,
          360,
          360,
          360,
          360,
          360,
          360,
          360,
          360,
          360,
          360,
          180,
          180,
          360,
          360,
          360,
          360,
          360,
          36,
          360,
          360,
          360,
          360,
          360,
          360,
          360,
          180,
          360,
          360,
          360,
          360,
          360,
          360,
          360,
          360,
          360,
          360,
          360,
          360,
          360,
          360,
          360,
          360,
          360,
          360,
          480,
          360,
          84,
          360,
          360,
          360,
          360,
          360,
          360,
          360,
          360,
          360,
          84,
          360,
          360,
          360,
          360,
          180,
          240,
          360,
          180,
          360,
          360,
          360,
          360,
          360,
          360,
          180,
          360,
          360,
          360,
          360,
          180,
          360,
          360,
          360,
          360,
          180,
          360,
          360,
          360
         ],
         "y0": " ",
         "yaxis": "y"
        }
       ],
       "layout": {
        "boxmode": "group",
        "legend": {
         "tracegroupgap": 0
        },
        "margin": {
         "t": 60
        },
        "template": {
         "data": {
          "bar": [
           {
            "error_x": {
             "color": "#2a3f5f"
            },
            "error_y": {
             "color": "#2a3f5f"
            },
            "marker": {
             "line": {
              "color": "#E5ECF6",
              "width": 0.5
             },
             "pattern": {
              "fillmode": "overlay",
              "size": 10,
              "solidity": 0.2
             }
            },
            "type": "bar"
           }
          ],
          "barpolar": [
           {
            "marker": {
             "line": {
              "color": "#E5ECF6",
              "width": 0.5
             },
             "pattern": {
              "fillmode": "overlay",
              "size": 10,
              "solidity": 0.2
             }
            },
            "type": "barpolar"
           }
          ],
          "carpet": [
           {
            "aaxis": {
             "endlinecolor": "#2a3f5f",
             "gridcolor": "white",
             "linecolor": "white",
             "minorgridcolor": "white",
             "startlinecolor": "#2a3f5f"
            },
            "baxis": {
             "endlinecolor": "#2a3f5f",
             "gridcolor": "white",
             "linecolor": "white",
             "minorgridcolor": "white",
             "startlinecolor": "#2a3f5f"
            },
            "type": "carpet"
           }
          ],
          "choropleth": [
           {
            "colorbar": {
             "outlinewidth": 0,
             "ticks": ""
            },
            "type": "choropleth"
           }
          ],
          "contour": [
           {
            "colorbar": {
             "outlinewidth": 0,
             "ticks": ""
            },
            "colorscale": [
             [
              0,
              "#0d0887"
             ],
             [
              0.1111111111111111,
              "#46039f"
             ],
             [
              0.2222222222222222,
              "#7201a8"
             ],
             [
              0.3333333333333333,
              "#9c179e"
             ],
             [
              0.4444444444444444,
              "#bd3786"
             ],
             [
              0.5555555555555556,
              "#d8576b"
             ],
             [
              0.6666666666666666,
              "#ed7953"
             ],
             [
              0.7777777777777778,
              "#fb9f3a"
             ],
             [
              0.8888888888888888,
              "#fdca26"
             ],
             [
              1,
              "#f0f921"
             ]
            ],
            "type": "contour"
           }
          ],
          "contourcarpet": [
           {
            "colorbar": {
             "outlinewidth": 0,
             "ticks": ""
            },
            "type": "contourcarpet"
           }
          ],
          "heatmap": [
           {
            "colorbar": {
             "outlinewidth": 0,
             "ticks": ""
            },
            "colorscale": [
             [
              0,
              "#0d0887"
             ],
             [
              0.1111111111111111,
              "#46039f"
             ],
             [
              0.2222222222222222,
              "#7201a8"
             ],
             [
              0.3333333333333333,
              "#9c179e"
             ],
             [
              0.4444444444444444,
              "#bd3786"
             ],
             [
              0.5555555555555556,
              "#d8576b"
             ],
             [
              0.6666666666666666,
              "#ed7953"
             ],
             [
              0.7777777777777778,
              "#fb9f3a"
             ],
             [
              0.8888888888888888,
              "#fdca26"
             ],
             [
              1,
              "#f0f921"
             ]
            ],
            "type": "heatmap"
           }
          ],
          "heatmapgl": [
           {
            "colorbar": {
             "outlinewidth": 0,
             "ticks": ""
            },
            "colorscale": [
             [
              0,
              "#0d0887"
             ],
             [
              0.1111111111111111,
              "#46039f"
             ],
             [
              0.2222222222222222,
              "#7201a8"
             ],
             [
              0.3333333333333333,
              "#9c179e"
             ],
             [
              0.4444444444444444,
              "#bd3786"
             ],
             [
              0.5555555555555556,
              "#d8576b"
             ],
             [
              0.6666666666666666,
              "#ed7953"
             ],
             [
              0.7777777777777778,
              "#fb9f3a"
             ],
             [
              0.8888888888888888,
              "#fdca26"
             ],
             [
              1,
              "#f0f921"
             ]
            ],
            "type": "heatmapgl"
           }
          ],
          "histogram": [
           {
            "marker": {
             "pattern": {
              "fillmode": "overlay",
              "size": 10,
              "solidity": 0.2
             }
            },
            "type": "histogram"
           }
          ],
          "histogram2d": [
           {
            "colorbar": {
             "outlinewidth": 0,
             "ticks": ""
            },
            "colorscale": [
             [
              0,
              "#0d0887"
             ],
             [
              0.1111111111111111,
              "#46039f"
             ],
             [
              0.2222222222222222,
              "#7201a8"
             ],
             [
              0.3333333333333333,
              "#9c179e"
             ],
             [
              0.4444444444444444,
              "#bd3786"
             ],
             [
              0.5555555555555556,
              "#d8576b"
             ],
             [
              0.6666666666666666,
              "#ed7953"
             ],
             [
              0.7777777777777778,
              "#fb9f3a"
             ],
             [
              0.8888888888888888,
              "#fdca26"
             ],
             [
              1,
              "#f0f921"
             ]
            ],
            "type": "histogram2d"
           }
          ],
          "histogram2dcontour": [
           {
            "colorbar": {
             "outlinewidth": 0,
             "ticks": ""
            },
            "colorscale": [
             [
              0,
              "#0d0887"
             ],
             [
              0.1111111111111111,
              "#46039f"
             ],
             [
              0.2222222222222222,
              "#7201a8"
             ],
             [
              0.3333333333333333,
              "#9c179e"
             ],
             [
              0.4444444444444444,
              "#bd3786"
             ],
             [
              0.5555555555555556,
              "#d8576b"
             ],
             [
              0.6666666666666666,
              "#ed7953"
             ],
             [
              0.7777777777777778,
              "#fb9f3a"
             ],
             [
              0.8888888888888888,
              "#fdca26"
             ],
             [
              1,
              "#f0f921"
             ]
            ],
            "type": "histogram2dcontour"
           }
          ],
          "mesh3d": [
           {
            "colorbar": {
             "outlinewidth": 0,
             "ticks": ""
            },
            "type": "mesh3d"
           }
          ],
          "parcoords": [
           {
            "line": {
             "colorbar": {
              "outlinewidth": 0,
              "ticks": ""
             }
            },
            "type": "parcoords"
           }
          ],
          "pie": [
           {
            "automargin": true,
            "type": "pie"
           }
          ],
          "scatter": [
           {
            "fillpattern": {
             "fillmode": "overlay",
             "size": 10,
             "solidity": 0.2
            },
            "type": "scatter"
           }
          ],
          "scatter3d": [
           {
            "line": {
             "colorbar": {
              "outlinewidth": 0,
              "ticks": ""
             }
            },
            "marker": {
             "colorbar": {
              "outlinewidth": 0,
              "ticks": ""
             }
            },
            "type": "scatter3d"
           }
          ],
          "scattercarpet": [
           {
            "marker": {
             "colorbar": {
              "outlinewidth": 0,
              "ticks": ""
             }
            },
            "type": "scattercarpet"
           }
          ],
          "scattergeo": [
           {
            "marker": {
             "colorbar": {
              "outlinewidth": 0,
              "ticks": ""
             }
            },
            "type": "scattergeo"
           }
          ],
          "scattergl": [
           {
            "marker": {
             "colorbar": {
              "outlinewidth": 0,
              "ticks": ""
             }
            },
            "type": "scattergl"
           }
          ],
          "scattermapbox": [
           {
            "marker": {
             "colorbar": {
              "outlinewidth": 0,
              "ticks": ""
             }
            },
            "type": "scattermapbox"
           }
          ],
          "scatterpolar": [
           {
            "marker": {
             "colorbar": {
              "outlinewidth": 0,
              "ticks": ""
             }
            },
            "type": "scatterpolar"
           }
          ],
          "scatterpolargl": [
           {
            "marker": {
             "colorbar": {
              "outlinewidth": 0,
              "ticks": ""
             }
            },
            "type": "scatterpolargl"
           }
          ],
          "scatterternary": [
           {
            "marker": {
             "colorbar": {
              "outlinewidth": 0,
              "ticks": ""
             }
            },
            "type": "scatterternary"
           }
          ],
          "surface": [
           {
            "colorbar": {
             "outlinewidth": 0,
             "ticks": ""
            },
            "colorscale": [
             [
              0,
              "#0d0887"
             ],
             [
              0.1111111111111111,
              "#46039f"
             ],
             [
              0.2222222222222222,
              "#7201a8"
             ],
             [
              0.3333333333333333,
              "#9c179e"
             ],
             [
              0.4444444444444444,
              "#bd3786"
             ],
             [
              0.5555555555555556,
              "#d8576b"
             ],
             [
              0.6666666666666666,
              "#ed7953"
             ],
             [
              0.7777777777777778,
              "#fb9f3a"
             ],
             [
              0.8888888888888888,
              "#fdca26"
             ],
             [
              1,
              "#f0f921"
             ]
            ],
            "type": "surface"
           }
          ],
          "table": [
           {
            "cells": {
             "fill": {
              "color": "#EBF0F8"
             },
             "line": {
              "color": "white"
             }
            },
            "header": {
             "fill": {
              "color": "#C8D4E3"
             },
             "line": {
              "color": "white"
             }
            },
            "type": "table"
           }
          ]
         },
         "layout": {
          "annotationdefaults": {
           "arrowcolor": "#2a3f5f",
           "arrowhead": 0,
           "arrowwidth": 1
          },
          "autotypenumbers": "strict",
          "coloraxis": {
           "colorbar": {
            "outlinewidth": 0,
            "ticks": ""
           }
          },
          "colorscale": {
           "diverging": [
            [
             0,
             "#8e0152"
            ],
            [
             0.1,
             "#c51b7d"
            ],
            [
             0.2,
             "#de77ae"
            ],
            [
             0.3,
             "#f1b6da"
            ],
            [
             0.4,
             "#fde0ef"
            ],
            [
             0.5,
             "#f7f7f7"
            ],
            [
             0.6,
             "#e6f5d0"
            ],
            [
             0.7,
             "#b8e186"
            ],
            [
             0.8,
             "#7fbc41"
            ],
            [
             0.9,
             "#4d9221"
            ],
            [
             1,
             "#276419"
            ]
           ],
           "sequential": [
            [
             0,
             "#0d0887"
            ],
            [
             0.1111111111111111,
             "#46039f"
            ],
            [
             0.2222222222222222,
             "#7201a8"
            ],
            [
             0.3333333333333333,
             "#9c179e"
            ],
            [
             0.4444444444444444,
             "#bd3786"
            ],
            [
             0.5555555555555556,
             "#d8576b"
            ],
            [
             0.6666666666666666,
             "#ed7953"
            ],
            [
             0.7777777777777778,
             "#fb9f3a"
            ],
            [
             0.8888888888888888,
             "#fdca26"
            ],
            [
             1,
             "#f0f921"
            ]
           ],
           "sequentialminus": [
            [
             0,
             "#0d0887"
            ],
            [
             0.1111111111111111,
             "#46039f"
            ],
            [
             0.2222222222222222,
             "#7201a8"
            ],
            [
             0.3333333333333333,
             "#9c179e"
            ],
            [
             0.4444444444444444,
             "#bd3786"
            ],
            [
             0.5555555555555556,
             "#d8576b"
            ],
            [
             0.6666666666666666,
             "#ed7953"
            ],
            [
             0.7777777777777778,
             "#fb9f3a"
            ],
            [
             0.8888888888888888,
             "#fdca26"
            ],
            [
             1,
             "#f0f921"
            ]
           ]
          },
          "colorway": [
           "#636efa",
           "#EF553B",
           "#00cc96",
           "#ab63fa",
           "#FFA15A",
           "#19d3f3",
           "#FF6692",
           "#B6E880",
           "#FF97FF",
           "#FECB52"
          ],
          "font": {
           "color": "#2a3f5f"
          },
          "geo": {
           "bgcolor": "white",
           "lakecolor": "white",
           "landcolor": "#E5ECF6",
           "showlakes": true,
           "showland": true,
           "subunitcolor": "white"
          },
          "hoverlabel": {
           "align": "left"
          },
          "hovermode": "closest",
          "mapbox": {
           "style": "light"
          },
          "paper_bgcolor": "white",
          "plot_bgcolor": "#E5ECF6",
          "polar": {
           "angularaxis": {
            "gridcolor": "white",
            "linecolor": "white",
            "ticks": ""
           },
           "bgcolor": "#E5ECF6",
           "radialaxis": {
            "gridcolor": "white",
            "linecolor": "white",
            "ticks": ""
           }
          },
          "scene": {
           "xaxis": {
            "backgroundcolor": "#E5ECF6",
            "gridcolor": "white",
            "gridwidth": 2,
            "linecolor": "white",
            "showbackground": true,
            "ticks": "",
            "zerolinecolor": "white"
           },
           "yaxis": {
            "backgroundcolor": "#E5ECF6",
            "gridcolor": "white",
            "gridwidth": 2,
            "linecolor": "white",
            "showbackground": true,
            "ticks": "",
            "zerolinecolor": "white"
           },
           "zaxis": {
            "backgroundcolor": "#E5ECF6",
            "gridcolor": "white",
            "gridwidth": 2,
            "linecolor": "white",
            "showbackground": true,
            "ticks": "",
            "zerolinecolor": "white"
           }
          },
          "shapedefaults": {
           "line": {
            "color": "#2a3f5f"
           }
          },
          "ternary": {
           "aaxis": {
            "gridcolor": "white",
            "linecolor": "white",
            "ticks": ""
           },
           "baxis": {
            "gridcolor": "white",
            "linecolor": "white",
            "ticks": ""
           },
           "bgcolor": "#E5ECF6",
           "caxis": {
            "gridcolor": "white",
            "linecolor": "white",
            "ticks": ""
           }
          },
          "title": {
           "x": 0.05
          },
          "xaxis": {
           "automargin": true,
           "gridcolor": "white",
           "linecolor": "white",
           "ticks": "",
           "title": {
            "standoff": 15
           },
           "zerolinecolor": "white",
           "zerolinewidth": 2
          },
          "yaxis": {
           "automargin": true,
           "gridcolor": "white",
           "linecolor": "white",
           "ticks": "",
           "title": {
            "standoff": 15
           },
           "zerolinecolor": "white",
           "zerolinewidth": 2
          }
         }
        },
        "xaxis": {
         "anchor": "y",
         "domain": [
          0,
          1
         ],
         "title": {
          "text": "variable"
         }
        },
        "yaxis": {
         "anchor": "x",
         "domain": [
          0,
          1
         ],
         "title": {
          "text": "value"
         }
        }
       }
      }
     },
     "metadata": {},
     "output_type": "display_data"
    }
   ],
   "source": [
    "px.box(df_train['Loan_Amount_Term'])"
   ]
  },
  {
   "cell_type": "code",
   "execution_count": 47,
   "metadata": {},
   "outputs": [],
   "source": [
    "df_train['Loan_Amount_Term'].fillna(df_train['Loan_Amount_Term'].median(), inplace=True)"
   ]
  },
  {
   "cell_type": "markdown",
   "metadata": {},
   "source": [
    "### 3.9) Credit_History"
   ]
  },
  {
   "cell_type": "code",
   "execution_count": 48,
   "metadata": {},
   "outputs": [
    {
     "data": {
      "text/plain": [
       "1.0    475\n",
       "0.0     89\n",
       "Name: Credit_History, dtype: int64"
      ]
     },
     "execution_count": 48,
     "metadata": {},
     "output_type": "execute_result"
    }
   ],
   "source": [
    "df_train['Credit_History'].value_counts()"
   ]
  },
  {
   "cell_type": "code",
   "execution_count": 49,
   "metadata": {},
   "outputs": [
    {
     "data": {
      "text/plain": [
       "50"
      ]
     },
     "execution_count": 49,
     "metadata": {},
     "output_type": "execute_result"
    }
   ],
   "source": [
    "df_train['Credit_History'].isnull().sum()"
   ]
  },
  {
   "cell_type": "code",
   "execution_count": 50,
   "metadata": {},
   "outputs": [
    {
     "data": {
      "text/html": [
       "<div>\n",
       "<style scoped>\n",
       "    .dataframe tbody tr th:only-of-type {\n",
       "        vertical-align: middle;\n",
       "    }\n",
       "\n",
       "    .dataframe tbody tr th {\n",
       "        vertical-align: top;\n",
       "    }\n",
       "\n",
       "    .dataframe thead th {\n",
       "        text-align: right;\n",
       "    }\n",
       "</style>\n",
       "<table border=\"1\" class=\"dataframe\">\n",
       "  <thead>\n",
       "    <tr style=\"text-align: right;\">\n",
       "      <th></th>\n",
       "      <th>Credit_History</th>\n",
       "      <th>Loan_Status</th>\n",
       "      <th>Loan_ID</th>\n",
       "    </tr>\n",
       "  </thead>\n",
       "  <tbody>\n",
       "    <tr>\n",
       "      <th>0</th>\n",
       "      <td>0.0</td>\n",
       "      <td>N</td>\n",
       "      <td>82</td>\n",
       "    </tr>\n",
       "    <tr>\n",
       "      <th>1</th>\n",
       "      <td>0.0</td>\n",
       "      <td>Y</td>\n",
       "      <td>7</td>\n",
       "    </tr>\n",
       "    <tr>\n",
       "      <th>2</th>\n",
       "      <td>1.0</td>\n",
       "      <td>N</td>\n",
       "      <td>97</td>\n",
       "    </tr>\n",
       "    <tr>\n",
       "      <th>3</th>\n",
       "      <td>1.0</td>\n",
       "      <td>Y</td>\n",
       "      <td>378</td>\n",
       "    </tr>\n",
       "  </tbody>\n",
       "</table>\n",
       "</div>"
      ],
      "text/plain": [
       "   Credit_History Loan_Status  Loan_ID\n",
       "0             0.0           N       82\n",
       "1             0.0           Y        7\n",
       "2             1.0           N       97\n",
       "3             1.0           Y      378"
      ]
     },
     "execution_count": 50,
     "metadata": {},
     "output_type": "execute_result"
    }
   ],
   "source": [
    "df_history = df_train.groupby(['Credit_History','Loan_Status'], as_index=False)['Loan_ID'].count()\n",
    "df_history"
   ]
  },
  {
   "cell_type": "code",
   "execution_count": 51,
   "metadata": {},
   "outputs": [],
   "source": [
    "df_train.loc[(df_train['Credit_History'].isnull()) & (df_train['Loan_Status'] == 'N'), 'Credit_History'] = 0.0\n",
    "df_train.loc[(df_train['Credit_History'].isnull()) & (df_train['Loan_Status'] == 'Y'), 'Credit_History'] = 1.0"
   ]
  },
  {
   "cell_type": "code",
   "execution_count": 52,
   "metadata": {},
   "outputs": [
    {
     "data": {
      "text/plain": [
       "0"
      ]
     },
     "execution_count": 52,
     "metadata": {},
     "output_type": "execute_result"
    }
   ],
   "source": [
    "df_train['Credit_History'].isnull().sum()"
   ]
  },
  {
   "cell_type": "markdown",
   "metadata": {},
   "source": [
    "### 3.10) Property_Area"
   ]
  },
  {
   "cell_type": "code",
   "execution_count": 53,
   "metadata": {},
   "outputs": [
    {
     "data": {
      "text/plain": [
       "Semiurban    233\n",
       "Urban        202\n",
       "Rural        179\n",
       "Name: Property_Area, dtype: int64"
      ]
     },
     "execution_count": 53,
     "metadata": {},
     "output_type": "execute_result"
    }
   ],
   "source": [
    "df_train['Property_Area'].value_counts()"
   ]
  },
  {
   "cell_type": "code",
   "execution_count": 54,
   "metadata": {},
   "outputs": [
    {
     "data": {
      "text/plain": [
       "0"
      ]
     },
     "execution_count": 54,
     "metadata": {},
     "output_type": "execute_result"
    }
   ],
   "source": [
    "df_train['Property_Area'].isnull().sum()"
   ]
  },
  {
   "cell_type": "markdown",
   "metadata": {},
   "source": [
    "### 3.11) Loan_Status"
   ]
  },
  {
   "cell_type": "code",
   "execution_count": 55,
   "metadata": {},
   "outputs": [
    {
     "data": {
      "text/plain": [
       "Y    422\n",
       "N    192\n",
       "Name: Loan_Status, dtype: int64"
      ]
     },
     "execution_count": 55,
     "metadata": {},
     "output_type": "execute_result"
    }
   ],
   "source": [
    "df_train['Loan_Status'].value_counts()"
   ]
  },
  {
   "cell_type": "code",
   "execution_count": 56,
   "metadata": {},
   "outputs": [
    {
     "data": {
      "text/plain": [
       "0"
      ]
     },
     "execution_count": 56,
     "metadata": {},
     "output_type": "execute_result"
    }
   ],
   "source": [
    "df_train['Loan_Status'].isnull().sum()"
   ]
  },
  {
   "cell_type": "markdown",
   "metadata": {},
   "source": [
    "## 4) Pré Processamento dos Dados"
   ]
  },
  {
   "cell_type": "code",
   "execution_count": 57,
   "metadata": {},
   "outputs": [],
   "source": [
    "df_processed = df_train.copy()"
   ]
  },
  {
   "cell_type": "code",
   "execution_count": 58,
   "metadata": {},
   "outputs": [],
   "source": [
    "from sklearn.model_selection import KFold, GridSearchCV, cross_val_score\n",
    "from sklearn.metrics import accuracy_score, confusion_matrix, f1_score\n",
    "from sklearn.pipeline import Pipeline\n",
    "\n",
    "from sklearn.model_selection import train_test_split\n",
    "from sklearn.preprocessing import OneHotEncoder, Normalizer, StandardScaler, RobustScaler\n",
    "#from imblearn.under_sampling import RandomUnderSampler\n",
    "from sklearn.feature_selection import SelectFromModel\n",
    "\n",
    "from sklearn.neighbors import KNeighborsClassifier\n",
    "from sklearn.naive_bayes import GaussianNB\n",
    "from sklearn.tree import DecisionTreeClassifier\n",
    "from sklearn.ensemble import RandomForestClassifier\n",
    "from sklearn.linear_model import LogisticRegression\n",
    "from xgboost import XGBClassifier\n",
    "from sklearn.svm import SVC\n",
    "\n",
    "\n",
    "# Bibliotecas para computação estatística\n",
    "from scipy import stats"
   ]
  },
  {
   "cell_type": "code",
   "execution_count": 59,
   "metadata": {},
   "outputs": [],
   "source": [
    "class MyHotEncoder:\n",
    "    def __init__(self, df, cols):\n",
    "        self.df = df\n",
    "        self.list_oneHotEncoder = []\n",
    "        self.list_col = []\n",
    "\n",
    "        if isinstance(cols, list):\n",
    "            self.list_col = cols\n",
    "        else:\n",
    "            self.list_col.append(cols)\n",
    "\n",
    "    #Treina os dados passados.\n",
    "    def fit_transform(self):\n",
    "\n",
    "        self.df.reset_index(drop=True, inplace=True) #Reseta o index do dataset para não causar problemas\n",
    "        X = self.df.values\n",
    "\n",
    "        #Para cada coluna crie uma string contendo o nome do atributo e o nome da categoria.\n",
    "        #Exemplo de saída: [sex_male]\n",
    "        for col in self.list_col: \n",
    "            valores = list(self.df[col].sort_values().unique())\n",
    "            colunas = []\n",
    "            for i in valores:\n",
    "                colunas.append(col + '_' + str(i))\n",
    "            colunas = colunas + list(self.df.columns)\n",
    "            \n",
    "            #One hot encoder para treinar\n",
    "            onehotencoder = OneHotEncoder(handle_unknown='ignore')\n",
    "            self.list_oneHotEncoder.append(onehotencoder)\n",
    "\n",
    "            enc_df = onehotencoder.fit_transform(self.df[[col]]).toarray()\n",
    "            enc_df = pd.DataFrame(enc_df)\n",
    "            \n",
    "            #União do dataset gerado ao dataset original\n",
    "            self.df = enc_df.join(self.df)\n",
    "            self.df.columns = colunas\n",
    "            self.df.drop(col, axis=1, inplace=True)\n",
    "        \n",
    "        return self.df\n",
    "\n",
    "    #Apenas aplica a transformação a novos dados.\n",
    "    def transform(self, df):\n",
    "        \n",
    "        for i in range(len(self.list_col)):\n",
    "            col = self.list_col[i]\n",
    "\n",
    "            valores = list(df[col].sort_values().unique())\n",
    "            colunas = []\n",
    "            for j in valores:\n",
    "                colunas.append(col + '_' + str(j))\n",
    "            colunas = colunas + list(df.columns)\n",
    "\n",
    "            #One hot encoder para transformar\n",
    "            enc_df = self.list_oneHotEncoder[i].transform(df[[col]]).toarray()\n",
    "            enc_df = pd.DataFrame(enc_df)\n",
    "\n",
    "            #União do dataset gerado ao dataset original\n",
    "            df = enc_df.join(df)\n",
    "            df.columns = colunas\n",
    "            df.drop(col, axis=1, inplace=True)\n",
    "\n",
    "\n",
    "        return df"
   ]
  },
  {
   "cell_type": "code",
   "execution_count": 60,
   "metadata": {},
   "outputs": [
    {
     "data": {
      "text/html": [
       "<div>\n",
       "<style scoped>\n",
       "    .dataframe tbody tr th:only-of-type {\n",
       "        vertical-align: middle;\n",
       "    }\n",
       "\n",
       "    .dataframe tbody tr th {\n",
       "        vertical-align: top;\n",
       "    }\n",
       "\n",
       "    .dataframe thead th {\n",
       "        text-align: right;\n",
       "    }\n",
       "</style>\n",
       "<table border=\"1\" class=\"dataframe\">\n",
       "  <thead>\n",
       "    <tr style=\"text-align: right;\">\n",
       "      <th></th>\n",
       "      <th>Loan_ID</th>\n",
       "      <th>Gender</th>\n",
       "      <th>Married</th>\n",
       "      <th>Dependents</th>\n",
       "      <th>Education</th>\n",
       "      <th>Self_Employed</th>\n",
       "      <th>ApplicantIncome</th>\n",
       "      <th>CoapplicantIncome</th>\n",
       "      <th>LoanAmount</th>\n",
       "      <th>Loan_Amount_Term</th>\n",
       "      <th>Credit_History</th>\n",
       "      <th>Property_Area</th>\n",
       "      <th>Loan_Status</th>\n",
       "    </tr>\n",
       "  </thead>\n",
       "  <tbody>\n",
       "    <tr>\n",
       "      <th>0</th>\n",
       "      <td>LP001002</td>\n",
       "      <td>Male</td>\n",
       "      <td>No</td>\n",
       "      <td>0</td>\n",
       "      <td>Graduate</td>\n",
       "      <td>No</td>\n",
       "      <td>5849</td>\n",
       "      <td>0.0</td>\n",
       "      <td>126.0</td>\n",
       "      <td>360.0</td>\n",
       "      <td>1.0</td>\n",
       "      <td>Urban</td>\n",
       "      <td>Y</td>\n",
       "    </tr>\n",
       "    <tr>\n",
       "      <th>1</th>\n",
       "      <td>LP001003</td>\n",
       "      <td>Male</td>\n",
       "      <td>Yes</td>\n",
       "      <td>1</td>\n",
       "      <td>Graduate</td>\n",
       "      <td>No</td>\n",
       "      <td>4583</td>\n",
       "      <td>1508.0</td>\n",
       "      <td>128.0</td>\n",
       "      <td>360.0</td>\n",
       "      <td>1.0</td>\n",
       "      <td>Rural</td>\n",
       "      <td>N</td>\n",
       "    </tr>\n",
       "    <tr>\n",
       "      <th>2</th>\n",
       "      <td>LP001005</td>\n",
       "      <td>Male</td>\n",
       "      <td>Yes</td>\n",
       "      <td>0</td>\n",
       "      <td>Graduate</td>\n",
       "      <td>Yes</td>\n",
       "      <td>3000</td>\n",
       "      <td>0.0</td>\n",
       "      <td>66.0</td>\n",
       "      <td>360.0</td>\n",
       "      <td>1.0</td>\n",
       "      <td>Urban</td>\n",
       "      <td>Y</td>\n",
       "    </tr>\n",
       "    <tr>\n",
       "      <th>3</th>\n",
       "      <td>LP001006</td>\n",
       "      <td>Male</td>\n",
       "      <td>Yes</td>\n",
       "      <td>0</td>\n",
       "      <td>Not Graduate</td>\n",
       "      <td>No</td>\n",
       "      <td>2583</td>\n",
       "      <td>2358.0</td>\n",
       "      <td>120.0</td>\n",
       "      <td>360.0</td>\n",
       "      <td>1.0</td>\n",
       "      <td>Urban</td>\n",
       "      <td>Y</td>\n",
       "    </tr>\n",
       "    <tr>\n",
       "      <th>4</th>\n",
       "      <td>LP001008</td>\n",
       "      <td>Male</td>\n",
       "      <td>No</td>\n",
       "      <td>0</td>\n",
       "      <td>Graduate</td>\n",
       "      <td>No</td>\n",
       "      <td>6000</td>\n",
       "      <td>0.0</td>\n",
       "      <td>141.0</td>\n",
       "      <td>360.0</td>\n",
       "      <td>1.0</td>\n",
       "      <td>Urban</td>\n",
       "      <td>Y</td>\n",
       "    </tr>\n",
       "  </tbody>\n",
       "</table>\n",
       "</div>"
      ],
      "text/plain": [
       "    Loan_ID Gender Married  Dependents     Education Self_Employed  \\\n",
       "0  LP001002   Male      No           0      Graduate            No   \n",
       "1  LP001003   Male     Yes           1      Graduate            No   \n",
       "2  LP001005   Male     Yes           0      Graduate           Yes   \n",
       "3  LP001006   Male     Yes           0  Not Graduate            No   \n",
       "4  LP001008   Male      No           0      Graduate            No   \n",
       "\n",
       "   ApplicantIncome  CoapplicantIncome  LoanAmount  Loan_Amount_Term  \\\n",
       "0             5849                0.0       126.0             360.0   \n",
       "1             4583             1508.0       128.0             360.0   \n",
       "2             3000                0.0        66.0             360.0   \n",
       "3             2583             2358.0       120.0             360.0   \n",
       "4             6000                0.0       141.0             360.0   \n",
       "\n",
       "   Credit_History Property_Area Loan_Status  \n",
       "0             1.0         Urban           Y  \n",
       "1             1.0         Rural           N  \n",
       "2             1.0         Urban           Y  \n",
       "3             1.0         Urban           Y  \n",
       "4             1.0         Urban           Y  "
      ]
     },
     "execution_count": 60,
     "metadata": {},
     "output_type": "execute_result"
    }
   ],
   "source": [
    "df_train.head()"
   ]
  },
  {
   "cell_type": "code",
   "execution_count": 61,
   "metadata": {},
   "outputs": [
    {
     "data": {
      "text/plain": [
       "Loan_ID               object\n",
       "Gender                object\n",
       "Married               object\n",
       "Dependents             int64\n",
       "Education             object\n",
       "Self_Employed         object\n",
       "ApplicantIncome        int64\n",
       "CoapplicantIncome    float64\n",
       "LoanAmount           float64\n",
       "Loan_Amount_Term     float64\n",
       "Credit_History       float64\n",
       "Property_Area         object\n",
       "Loan_Status           object\n",
       "dtype: object"
      ]
     },
     "execution_count": 61,
     "metadata": {},
     "output_type": "execute_result"
    }
   ],
   "source": [
    "df_train.dtypes"
   ]
  },
  {
   "cell_type": "markdown",
   "metadata": {},
   "source": [
    "### 4.1) Mapeamento de atributos"
   ]
  },
  {
   "cell_type": "markdown",
   "metadata": {},
   "source": [
    "#### 4.1.1) Gender"
   ]
  },
  {
   "cell_type": "code",
   "execution_count": 62,
   "metadata": {},
   "outputs": [
    {
     "data": {
      "text/plain": [
       "Male      490\n",
       "Female    124\n",
       "Name: Gender, dtype: int64"
      ]
     },
     "execution_count": 62,
     "metadata": {},
     "output_type": "execute_result"
    }
   ],
   "source": [
    "df_processed['Gender'].value_counts()"
   ]
  },
  {
   "cell_type": "code",
   "execution_count": 63,
   "metadata": {},
   "outputs": [],
   "source": [
    "gender_map = {\n",
    "    'Male': 1,\n",
    "    'Female': 0\n",
    "}\n",
    "\n",
    "df_processed['Gender'] = df_processed['Gender'].map(gender_map)"
   ]
  },
  {
   "cell_type": "markdown",
   "metadata": {},
   "source": [
    "#### 4.1.2) Married"
   ]
  },
  {
   "cell_type": "code",
   "execution_count": 64,
   "metadata": {},
   "outputs": [
    {
     "data": {
      "text/plain": [
       "Yes    401\n",
       "No     213\n",
       "Name: Married, dtype: int64"
      ]
     },
     "execution_count": 64,
     "metadata": {},
     "output_type": "execute_result"
    }
   ],
   "source": [
    "df_processed['Married'].value_counts()"
   ]
  },
  {
   "cell_type": "code",
   "execution_count": 65,
   "metadata": {},
   "outputs": [],
   "source": [
    "married_map = {\n",
    "    'Yes': 1,\n",
    "    'No': 0\n",
    "}\n",
    "\n",
    "df_processed['Married'] = df_processed['Married'].map(married_map)"
   ]
  },
  {
   "cell_type": "markdown",
   "metadata": {},
   "source": [
    "#### 4.1.3) Education"
   ]
  },
  {
   "cell_type": "code",
   "execution_count": 66,
   "metadata": {},
   "outputs": [
    {
     "data": {
      "text/plain": [
       "Graduate        480\n",
       "Not Graduate    134\n",
       "Name: Education, dtype: int64"
      ]
     },
     "execution_count": 66,
     "metadata": {},
     "output_type": "execute_result"
    }
   ],
   "source": [
    "df_processed['Education'].value_counts()"
   ]
  },
  {
   "cell_type": "code",
   "execution_count": 67,
   "metadata": {},
   "outputs": [],
   "source": [
    "education_map = {\n",
    "    'Graduate': 1,\n",
    "    'Not Graduate': 0\n",
    "}\n",
    "\n",
    "df_processed['Education'] = df_processed['Education'].map(education_map)"
   ]
  },
  {
   "cell_type": "markdown",
   "metadata": {},
   "source": [
    "#### 4.1.4) Self_Employed"
   ]
  },
  {
   "cell_type": "code",
   "execution_count": 68,
   "metadata": {},
   "outputs": [
    {
     "data": {
      "text/plain": [
       "No     532\n",
       "Yes     82\n",
       "Name: Self_Employed, dtype: int64"
      ]
     },
     "execution_count": 68,
     "metadata": {},
     "output_type": "execute_result"
    }
   ],
   "source": [
    "df_processed['Self_Employed'].value_counts()"
   ]
  },
  {
   "cell_type": "code",
   "execution_count": 69,
   "metadata": {},
   "outputs": [],
   "source": [
    "selfemployed_map = {\n",
    "    'Yes': 1,\n",
    "    'No': 0\n",
    "}\n",
    "\n",
    "df_processed['Self_Employed'] = df_processed['Self_Employed'].map(selfemployed_map)"
   ]
  },
  {
   "cell_type": "markdown",
   "metadata": {},
   "source": [
    "#### 4.1.5) Property_Area"
   ]
  },
  {
   "cell_type": "code",
   "execution_count": 70,
   "metadata": {},
   "outputs": [
    {
     "data": {
      "text/plain": [
       "Semiurban    233\n",
       "Urban        202\n",
       "Rural        179\n",
       "Name: Property_Area, dtype: int64"
      ]
     },
     "execution_count": 70,
     "metadata": {},
     "output_type": "execute_result"
    }
   ],
   "source": [
    "df_processed['Property_Area'].value_counts()"
   ]
  },
  {
   "cell_type": "code",
   "execution_count": 71,
   "metadata": {},
   "outputs": [],
   "source": [
    "#Aplicando a classe que foi definida MyHotEncoder para realizar o One Hot Encoding dos atributos.\n",
    "my_encoder = MyHotEncoder(df_processed,['Property_Area'])\n",
    "df_processed_encoded = my_encoder.fit_transform()"
   ]
  },
  {
   "cell_type": "code",
   "execution_count": 72,
   "metadata": {},
   "outputs": [
    {
     "data": {
      "text/html": [
       "<div>\n",
       "<style scoped>\n",
       "    .dataframe tbody tr th:only-of-type {\n",
       "        vertical-align: middle;\n",
       "    }\n",
       "\n",
       "    .dataframe tbody tr th {\n",
       "        vertical-align: top;\n",
       "    }\n",
       "\n",
       "    .dataframe thead th {\n",
       "        text-align: right;\n",
       "    }\n",
       "</style>\n",
       "<table border=\"1\" class=\"dataframe\">\n",
       "  <thead>\n",
       "    <tr style=\"text-align: right;\">\n",
       "      <th></th>\n",
       "      <th>Property_Area_Rural</th>\n",
       "      <th>Property_Area_Semiurban</th>\n",
       "      <th>Property_Area_Urban</th>\n",
       "      <th>Loan_ID</th>\n",
       "      <th>Gender</th>\n",
       "      <th>Married</th>\n",
       "      <th>Dependents</th>\n",
       "      <th>Education</th>\n",
       "      <th>Self_Employed</th>\n",
       "      <th>ApplicantIncome</th>\n",
       "      <th>CoapplicantIncome</th>\n",
       "      <th>LoanAmount</th>\n",
       "      <th>Loan_Amount_Term</th>\n",
       "      <th>Credit_History</th>\n",
       "      <th>Loan_Status</th>\n",
       "    </tr>\n",
       "  </thead>\n",
       "  <tbody>\n",
       "    <tr>\n",
       "      <th>0</th>\n",
       "      <td>0.0</td>\n",
       "      <td>0.0</td>\n",
       "      <td>1.0</td>\n",
       "      <td>LP001002</td>\n",
       "      <td>1</td>\n",
       "      <td>0</td>\n",
       "      <td>0</td>\n",
       "      <td>1</td>\n",
       "      <td>0</td>\n",
       "      <td>5849</td>\n",
       "      <td>0.0</td>\n",
       "      <td>126.0</td>\n",
       "      <td>360.0</td>\n",
       "      <td>1.0</td>\n",
       "      <td>Y</td>\n",
       "    </tr>\n",
       "    <tr>\n",
       "      <th>1</th>\n",
       "      <td>1.0</td>\n",
       "      <td>0.0</td>\n",
       "      <td>0.0</td>\n",
       "      <td>LP001003</td>\n",
       "      <td>1</td>\n",
       "      <td>1</td>\n",
       "      <td>1</td>\n",
       "      <td>1</td>\n",
       "      <td>0</td>\n",
       "      <td>4583</td>\n",
       "      <td>1508.0</td>\n",
       "      <td>128.0</td>\n",
       "      <td>360.0</td>\n",
       "      <td>1.0</td>\n",
       "      <td>N</td>\n",
       "    </tr>\n",
       "    <tr>\n",
       "      <th>2</th>\n",
       "      <td>0.0</td>\n",
       "      <td>0.0</td>\n",
       "      <td>1.0</td>\n",
       "      <td>LP001005</td>\n",
       "      <td>1</td>\n",
       "      <td>1</td>\n",
       "      <td>0</td>\n",
       "      <td>1</td>\n",
       "      <td>1</td>\n",
       "      <td>3000</td>\n",
       "      <td>0.0</td>\n",
       "      <td>66.0</td>\n",
       "      <td>360.0</td>\n",
       "      <td>1.0</td>\n",
       "      <td>Y</td>\n",
       "    </tr>\n",
       "    <tr>\n",
       "      <th>3</th>\n",
       "      <td>0.0</td>\n",
       "      <td>0.0</td>\n",
       "      <td>1.0</td>\n",
       "      <td>LP001006</td>\n",
       "      <td>1</td>\n",
       "      <td>1</td>\n",
       "      <td>0</td>\n",
       "      <td>0</td>\n",
       "      <td>0</td>\n",
       "      <td>2583</td>\n",
       "      <td>2358.0</td>\n",
       "      <td>120.0</td>\n",
       "      <td>360.0</td>\n",
       "      <td>1.0</td>\n",
       "      <td>Y</td>\n",
       "    </tr>\n",
       "    <tr>\n",
       "      <th>4</th>\n",
       "      <td>0.0</td>\n",
       "      <td>0.0</td>\n",
       "      <td>1.0</td>\n",
       "      <td>LP001008</td>\n",
       "      <td>1</td>\n",
       "      <td>0</td>\n",
       "      <td>0</td>\n",
       "      <td>1</td>\n",
       "      <td>0</td>\n",
       "      <td>6000</td>\n",
       "      <td>0.0</td>\n",
       "      <td>141.0</td>\n",
       "      <td>360.0</td>\n",
       "      <td>1.0</td>\n",
       "      <td>Y</td>\n",
       "    </tr>\n",
       "  </tbody>\n",
       "</table>\n",
       "</div>"
      ],
      "text/plain": [
       "   Property_Area_Rural  Property_Area_Semiurban  Property_Area_Urban  \\\n",
       "0                  0.0                      0.0                  1.0   \n",
       "1                  1.0                      0.0                  0.0   \n",
       "2                  0.0                      0.0                  1.0   \n",
       "3                  0.0                      0.0                  1.0   \n",
       "4                  0.0                      0.0                  1.0   \n",
       "\n",
       "    Loan_ID  Gender  Married  Dependents  Education  Self_Employed  \\\n",
       "0  LP001002       1        0           0          1              0   \n",
       "1  LP001003       1        1           1          1              0   \n",
       "2  LP001005       1        1           0          1              1   \n",
       "3  LP001006       1        1           0          0              0   \n",
       "4  LP001008       1        0           0          1              0   \n",
       "\n",
       "   ApplicantIncome  CoapplicantIncome  LoanAmount  Loan_Amount_Term  \\\n",
       "0             5849                0.0       126.0             360.0   \n",
       "1             4583             1508.0       128.0             360.0   \n",
       "2             3000                0.0        66.0             360.0   \n",
       "3             2583             2358.0       120.0             360.0   \n",
       "4             6000                0.0       141.0             360.0   \n",
       "\n",
       "   Credit_History Loan_Status  \n",
       "0             1.0           Y  \n",
       "1             1.0           N  \n",
       "2             1.0           Y  \n",
       "3             1.0           Y  \n",
       "4             1.0           Y  "
      ]
     },
     "execution_count": 72,
     "metadata": {},
     "output_type": "execute_result"
    }
   ],
   "source": [
    "df_processed_encoded.head()"
   ]
  },
  {
   "cell_type": "markdown",
   "metadata": {},
   "source": [
    "#### 4.1.6) Loan_Status"
   ]
  },
  {
   "cell_type": "code",
   "execution_count": 73,
   "metadata": {},
   "outputs": [
    {
     "data": {
      "text/plain": [
       "Y    422\n",
       "N    192\n",
       "Name: Loan_Status, dtype: int64"
      ]
     },
     "execution_count": 73,
     "metadata": {},
     "output_type": "execute_result"
    }
   ],
   "source": [
    "df_processed_encoded['Loan_Status'].value_counts()"
   ]
  },
  {
   "cell_type": "code",
   "execution_count": 74,
   "metadata": {},
   "outputs": [],
   "source": [
    "loanstatus_map = {\n",
    "    'Y': 1,\n",
    "    'N': 0\n",
    "}\n",
    "\n",
    "df_processed_encoded['Loan_Status'] = df_processed_encoded['Loan_Status'].map(loanstatus_map)"
   ]
  },
  {
   "cell_type": "markdown",
   "metadata": {},
   "source": [
    "### 4.2) Correlação entre variáveis"
   ]
  },
  {
   "cell_type": "code",
   "execution_count": 75,
   "metadata": {},
   "outputs": [
    {
     "data": {
      "text/plain": [
       "Index(['Property_Area_Rural', 'Property_Area_Semiurban', 'Property_Area_Urban',\n",
       "       'Loan_ID', 'Gender', 'Married', 'Dependents', 'Education',\n",
       "       'Self_Employed', 'ApplicantIncome', 'CoapplicantIncome', 'LoanAmount',\n",
       "       'Loan_Amount_Term', 'Credit_History', 'Loan_Status'],\n",
       "      dtype='object')"
      ]
     },
     "execution_count": 75,
     "metadata": {},
     "output_type": "execute_result"
    }
   ],
   "source": [
    "df_processed_encoded.columns"
   ]
  },
  {
   "cell_type": "code",
   "execution_count": 76,
   "metadata": {},
   "outputs": [],
   "source": [
    "df_corr = df_processed_encoded[['Loan_Status', 'Property_Area_Rural', 'Property_Area_Semiurban', 'Property_Area_Urban',\n",
    "                                'Gender', 'Married', 'Dependents', 'Education',\n",
    "                                'Self_Employed', 'ApplicantIncome', 'CoapplicantIncome', 'LoanAmount',\n",
    "                                'Loan_Amount_Term', 'Credit_History', ]].corr()"
   ]
  },
  {
   "cell_type": "code",
   "execution_count": 77,
   "metadata": {},
   "outputs": [
    {
     "data": {
      "text/plain": [
       "<AxesSubplot:>"
      ]
     },
     "execution_count": 77,
     "metadata": {},
     "output_type": "execute_result"
    },
    {
     "data": {
      "image/png": "[encoded data removed]",
      "text/plain": [
       "<Figure size 1300x600 with 2 Axes>"
      ]
     },
     "metadata": {},
     "output_type": "display_data"
    }
   ],
   "source": [
    "plt.figure(figsize=(13, 6))\n",
    "sns.heatmap(df_corr, annot=True)"
   ]
  },
  {
   "cell_type": "markdown",
   "metadata": {},
   "source": [
    "### 4.3) Removendo atributos e Separando Features e Target"
   ]
  },
  {
   "cell_type": "code",
   "execution_count": 78,
   "metadata": {},
   "outputs": [],
   "source": [
    "df_processed_encoded.drop(columns=['Loan_ID'], inplace=True)"
   ]
  },
  {
   "cell_type": "code",
   "execution_count": 79,
   "metadata": {},
   "outputs": [],
   "source": [
    "X = df_processed_encoded.drop(columns=['Loan_Status']).values\n",
    "Y = df_processed_encoded['Loan_Status']"
   ]
  },
  {
   "cell_type": "markdown",
   "metadata": {},
   "source": [
    "### 4.4) Divisão entre treino e teste"
   ]
  },
  {
   "cell_type": "code",
   "execution_count": 80,
   "metadata": {},
   "outputs": [],
   "source": [
    "#Separando os dados em treino e teste\n",
    "X_train, X_test, Y_train, Y_test = train_test_split(X, Y, test_size = 0.3, random_state = 0)"
   ]
  },
  {
   "cell_type": "markdown",
   "metadata": {},
   "source": [
    "### 4.5) Escala e Padronização"
   ]
  },
  {
   "cell_type": "code",
   "execution_count": 81,
   "metadata": {},
   "outputs": [],
   "source": [
    "scaler = StandardScaler()\n",
    "\n",
    "x_encoded_scaler = scaler.fit_transform(X_train)"
   ]
  },
  {
   "cell_type": "code",
   "execution_count": 82,
   "metadata": {},
   "outputs": [],
   "source": [
    "X_test = scaler.transform(X_test)"
   ]
  },
  {
   "cell_type": "markdown",
   "metadata": {},
   "source": [
    "## 5) Modelagem Base\n",
    "\n",
    "### 5.1) Aplicação de algoritmos"
   ]
  },
  {
   "cell_type": "markdown",
   "metadata": {},
   "source": [
    "#### 5.1.1) KNN"
   ]
  },
  {
   "cell_type": "code",
   "execution_count": 83,
   "metadata": {},
   "outputs": [
    {
     "name": "stdout",
     "output_type": "stream",
     "text": [
      "F1 score em Teste = 87.63%\n",
      "Acurácia em Teste = 81.08%\n"
     ]
    },
    {
     "name": "stderr",
     "output_type": "stream",
     "text": [
      "/home/krupck/anaconda3/lib/python3.9/site-packages/sklearn/neighbors/_classification.py:228: FutureWarning:\n",
      "\n",
      "Unlike other reduction functions (e.g. `skew`, `kurtosis`), the default behavior of `mode` typically preserves the axis it acts along. In SciPy 1.11.0, this behavior will change: the default value of `keepdims` will become False, the `axis` over which the statistic is taken will be eliminated, and the value None will no longer be accepted. Set `keepdims` to True or False to avoid this warning.\n",
      "\n"
     ]
    }
   ],
   "source": [
    "knn = KNeighborsClassifier()\n",
    "knn.fit(x_encoded_scaler, Y_train)\n",
    "\n",
    "preds = knn.predict(X_test)\n",
    "f_score = f1_score(preds, Y_test)\n",
    "ac_score = accuracy_score(preds, Y_test)\n",
    "\n",
    "print('F1 score em Teste = {:.2f}%'.format(f_score * 100))\n",
    "print('Acurácia em Teste = {:.2f}%'.format(ac_score * 100))"
   ]
  },
  {
   "cell_type": "markdown",
   "metadata": {},
   "source": [
    "#### 5.1.2) Logistic Regression"
   ]
  },
  {
   "cell_type": "code",
   "execution_count": 84,
   "metadata": {},
   "outputs": [
    {
     "name": "stdout",
     "output_type": "stream",
     "text": [
      "F1 score em Teste = 90.41%\n",
      "Acurácia em Teste = 84.86%\n"
     ]
    }
   ],
   "source": [
    "logisticReg = LogisticRegression()\n",
    "logisticReg.fit(x_encoded_scaler, Y_train)\n",
    "\n",
    "preds = logisticReg.predict(X_test)\n",
    "f_score = f1_score(preds, Y_test)\n",
    "ac_score = accuracy_score(preds, Y_test)\n",
    "\n",
    "print('F1 score em Teste = {:.2f}%'.format(f_score * 100))\n",
    "print('Acurácia em Teste = {:.2f}%'.format(ac_score * 100))"
   ]
  },
  {
   "cell_type": "markdown",
   "metadata": {},
   "source": [
    "#### 5.1.3) Random Forest"
   ]
  },
  {
   "cell_type": "code",
   "execution_count": 85,
   "metadata": {},
   "outputs": [
    {
     "name": "stdout",
     "output_type": "stream",
     "text": [
      "F1 score em Teste = 87.32%\n",
      "Acurácia em Teste = 80.54%\n"
     ]
    }
   ],
   "source": [
    "randomForest = RandomForestClassifier()\n",
    "randomForest.fit(x_encoded_scaler, Y_train)\n",
    "\n",
    "preds = randomForest.predict(X_test)\n",
    "f_score = f1_score(preds, Y_test)\n",
    "ac_score = accuracy_score(preds, Y_test)\n",
    "\n",
    "print('F1 score em Teste = {:.2f}%'.format(f_score * 100))\n",
    "print('Acurácia em Teste = {:.2f}%'.format(ac_score * 100))"
   ]
  },
  {
   "cell_type": "markdown",
   "metadata": {},
   "source": [
    "#### 5.1.4) XGB Classifier"
   ]
  },
  {
   "cell_type": "code",
   "execution_count": 86,
   "metadata": {},
   "outputs": [
    {
     "name": "stdout",
     "output_type": "stream",
     "text": [
      "F1 score em Teste = 88.57%\n",
      "Acurácia em Teste = 82.70%\n"
     ]
    }
   ],
   "source": [
    "xgb = XGBClassifier()\n",
    "xgb.fit(x_encoded_scaler, Y_train)\n",
    "\n",
    "preds = xgb.predict(X_test)\n",
    "f_score = f1_score(preds, Y_test)\n",
    "ac_score = accuracy_score(preds, Y_test)\n",
    "\n",
    "print('F1 score em Teste = {:.2f}%'.format(f_score * 100))\n",
    "print('Acurácia em Teste = {:.2f}%'.format(ac_score * 100))"
   ]
  },
  {
   "cell_type": "markdown",
   "metadata": {},
   "source": [
    "### 5.2) Feature Selection"
   ]
  },
  {
   "cell_type": "code",
   "execution_count": 87,
   "metadata": {},
   "outputs": [],
   "source": [
    "columns = ['Property_Area_Rural', 'Property_Area_Semiurban', 'Property_Area_Urban',\n",
    "       'Gender', 'Married', 'Dependents', 'Education', 'Self_Employed',\n",
    "       'ApplicantIncome', 'CoapplicantIncome', 'LoanAmount',\n",
    "       'Loan_Amount_Term', 'Credit_History']"
   ]
  },
  {
   "cell_type": "code",
   "execution_count": 88,
   "metadata": {},
   "outputs": [
    {
     "data": {
      "text/html": [
       "<div>\n",
       "<style scoped>\n",
       "    .dataframe tbody tr th:only-of-type {\n",
       "        vertical-align: middle;\n",
       "    }\n",
       "\n",
       "    .dataframe tbody tr th {\n",
       "        vertical-align: top;\n",
       "    }\n",
       "\n",
       "    .dataframe thead th {\n",
       "        text-align: right;\n",
       "    }\n",
       "</style>\n",
       "<table border=\"1\" class=\"dataframe\">\n",
       "  <thead>\n",
       "    <tr style=\"text-align: right;\">\n",
       "      <th></th>\n",
       "      <th>importance</th>\n",
       "    </tr>\n",
       "  </thead>\n",
       "  <tbody>\n",
       "    <tr>\n",
       "      <th>Credit_History</th>\n",
       "      <td>0.300325</td>\n",
       "    </tr>\n",
       "    <tr>\n",
       "      <th>ApplicantIncome</th>\n",
       "      <td>0.185716</td>\n",
       "    </tr>\n",
       "    <tr>\n",
       "      <th>LoanAmount</th>\n",
       "      <td>0.179398</td>\n",
       "    </tr>\n",
       "    <tr>\n",
       "      <th>CoapplicantIncome</th>\n",
       "      <td>0.109430</td>\n",
       "    </tr>\n",
       "    <tr>\n",
       "      <th>Dependents</th>\n",
       "      <td>0.049989</td>\n",
       "    </tr>\n",
       "    <tr>\n",
       "      <th>Loan_Amount_Term</th>\n",
       "      <td>0.030313</td>\n",
       "    </tr>\n",
       "    <tr>\n",
       "      <th>Married</th>\n",
       "      <td>0.026762</td>\n",
       "    </tr>\n",
       "    <tr>\n",
       "      <th>Education</th>\n",
       "      <td>0.024416</td>\n",
       "    </tr>\n",
       "    <tr>\n",
       "      <th>Gender</th>\n",
       "      <td>0.020939</td>\n",
       "    </tr>\n",
       "    <tr>\n",
       "      <th>Self_Employed</th>\n",
       "      <td>0.019945</td>\n",
       "    </tr>\n",
       "    <tr>\n",
       "      <th>Property_Area_Rural</th>\n",
       "      <td>0.019385</td>\n",
       "    </tr>\n",
       "    <tr>\n",
       "      <th>Property_Area_Semiurban</th>\n",
       "      <td>0.018657</td>\n",
       "    </tr>\n",
       "    <tr>\n",
       "      <th>Property_Area_Urban</th>\n",
       "      <td>0.014725</td>\n",
       "    </tr>\n",
       "  </tbody>\n",
       "</table>\n",
       "</div>"
      ],
      "text/plain": [
       "                         importance\n",
       "Credit_History             0.300325\n",
       "ApplicantIncome            0.185716\n",
       "LoanAmount                 0.179398\n",
       "CoapplicantIncome          0.109430\n",
       "Dependents                 0.049989\n",
       "Loan_Amount_Term           0.030313\n",
       "Married                    0.026762\n",
       "Education                  0.024416\n",
       "Gender                     0.020939\n",
       "Self_Employed              0.019945\n",
       "Property_Area_Rural        0.019385\n",
       "Property_Area_Semiurban    0.018657\n",
       "Property_Area_Urban        0.014725"
      ]
     },
     "metadata": {},
     "output_type": "display_data"
    },
    {
     "data": {
      "text/plain": [
       "<AxesSubplot:xlabel='importance'>"
      ]
     },
     "execution_count": 88,
     "metadata": {},
     "output_type": "execute_result"
    },
    {
     "data": {
      "image/png": "[encoded data removed]",
      "text/plain": [
       "<Figure size 1200x800 with 1 Axes>"
      ]
     },
     "metadata": {},
     "output_type": "display_data"
    }
   ],
   "source": [
    "df_temp = pd.DataFrame(randomForest.feature_importances_, index=columns, columns=['importance']).sort_values(by='importance', ascending=False)\n",
    "\n",
    "display(df_temp)\n",
    "colunas_importantes = list(df_temp.loc[df_temp['importance'] > 0.1].index)\n",
    "\n",
    "\n",
    "plt.figure(figsize=(12,8))\n",
    "sns.barplot(x=df_temp['importance'], y=df_temp.index)"
   ]
  },
  {
   "cell_type": "markdown",
   "metadata": {},
   "source": [
    "### 5.3) Modelagem Final"
   ]
  },
  {
   "cell_type": "code",
   "execution_count": 89,
   "metadata": {},
   "outputs": [],
   "source": [
    "from sklearn.pipeline import Pipeline\n",
    "from sklearn.compose import ColumnTransformer\n",
    "from sklearn.impute import SimpleImputer\n",
    "from sklearn.preprocessing import StandardScaler, OneHotEncoder\n",
    "from sklearn import ensemble"
   ]
  },
  {
   "cell_type": "code",
   "execution_count": 123,
   "metadata": {},
   "outputs": [
    {
     "data": {
      "text/html": [
       "<div>\n",
       "<style scoped>\n",
       "    .dataframe tbody tr th:only-of-type {\n",
       "        vertical-align: middle;\n",
       "    }\n",
       "\n",
       "    .dataframe tbody tr th {\n",
       "        vertical-align: top;\n",
       "    }\n",
       "\n",
       "    .dataframe thead th {\n",
       "        text-align: right;\n",
       "    }\n",
       "</style>\n",
       "<table border=\"1\" class=\"dataframe\">\n",
       "  <thead>\n",
       "    <tr style=\"text-align: right;\">\n",
       "      <th></th>\n",
       "      <th>Credit_History</th>\n",
       "      <th>LoanAmount</th>\n",
       "      <th>ApplicantIncome</th>\n",
       "      <th>CoapplicantIncome</th>\n",
       "      <th>Dependents</th>\n",
       "      <th>Loan_Status</th>\n",
       "    </tr>\n",
       "  </thead>\n",
       "  <tbody>\n",
       "    <tr>\n",
       "      <th>0</th>\n",
       "      <td>1.0</td>\n",
       "      <td>126.0</td>\n",
       "      <td>5849</td>\n",
       "      <td>0.0</td>\n",
       "      <td>0</td>\n",
       "      <td>Y</td>\n",
       "    </tr>\n",
       "    <tr>\n",
       "      <th>1</th>\n",
       "      <td>1.0</td>\n",
       "      <td>128.0</td>\n",
       "      <td>4583</td>\n",
       "      <td>1508.0</td>\n",
       "      <td>1</td>\n",
       "      <td>N</td>\n",
       "    </tr>\n",
       "    <tr>\n",
       "      <th>2</th>\n",
       "      <td>1.0</td>\n",
       "      <td>66.0</td>\n",
       "      <td>3000</td>\n",
       "      <td>0.0</td>\n",
       "      <td>0</td>\n",
       "      <td>Y</td>\n",
       "    </tr>\n",
       "    <tr>\n",
       "      <th>3</th>\n",
       "      <td>1.0</td>\n",
       "      <td>120.0</td>\n",
       "      <td>2583</td>\n",
       "      <td>2358.0</td>\n",
       "      <td>0</td>\n",
       "      <td>Y</td>\n",
       "    </tr>\n",
       "    <tr>\n",
       "      <th>4</th>\n",
       "      <td>1.0</td>\n",
       "      <td>141.0</td>\n",
       "      <td>6000</td>\n",
       "      <td>0.0</td>\n",
       "      <td>0</td>\n",
       "      <td>Y</td>\n",
       "    </tr>\n",
       "    <tr>\n",
       "      <th>5</th>\n",
       "      <td>1.0</td>\n",
       "      <td>267.0</td>\n",
       "      <td>5417</td>\n",
       "      <td>4196.0</td>\n",
       "      <td>2</td>\n",
       "      <td>Y</td>\n",
       "    </tr>\n",
       "    <tr>\n",
       "      <th>6</th>\n",
       "      <td>1.0</td>\n",
       "      <td>95.0</td>\n",
       "      <td>2333</td>\n",
       "      <td>1516.0</td>\n",
       "      <td>0</td>\n",
       "      <td>Y</td>\n",
       "    </tr>\n",
       "    <tr>\n",
       "      <th>7</th>\n",
       "      <td>0.0</td>\n",
       "      <td>158.0</td>\n",
       "      <td>3036</td>\n",
       "      <td>2504.0</td>\n",
       "      <td>3</td>\n",
       "      <td>N</td>\n",
       "    </tr>\n",
       "    <tr>\n",
       "      <th>8</th>\n",
       "      <td>1.0</td>\n",
       "      <td>168.0</td>\n",
       "      <td>4006</td>\n",
       "      <td>1526.0</td>\n",
       "      <td>2</td>\n",
       "      <td>Y</td>\n",
       "    </tr>\n",
       "    <tr>\n",
       "      <th>9</th>\n",
       "      <td>1.0</td>\n",
       "      <td>349.0</td>\n",
       "      <td>12841</td>\n",
       "      <td>10968.0</td>\n",
       "      <td>1</td>\n",
       "      <td>N</td>\n",
       "    </tr>\n",
       "    <tr>\n",
       "      <th>10</th>\n",
       "      <td>1.0</td>\n",
       "      <td>70.0</td>\n",
       "      <td>3200</td>\n",
       "      <td>700.0</td>\n",
       "      <td>2</td>\n",
       "      <td>Y</td>\n",
       "    </tr>\n",
       "    <tr>\n",
       "      <th>11</th>\n",
       "      <td>1.0</td>\n",
       "      <td>109.0</td>\n",
       "      <td>2500</td>\n",
       "      <td>1840.0</td>\n",
       "      <td>2</td>\n",
       "      <td>Y</td>\n",
       "    </tr>\n",
       "    <tr>\n",
       "      <th>12</th>\n",
       "      <td>1.0</td>\n",
       "      <td>200.0</td>\n",
       "      <td>3073</td>\n",
       "      <td>8106.0</td>\n",
       "      <td>2</td>\n",
       "      <td>Y</td>\n",
       "    </tr>\n",
       "    <tr>\n",
       "      <th>13</th>\n",
       "      <td>1.0</td>\n",
       "      <td>114.0</td>\n",
       "      <td>1853</td>\n",
       "      <td>2840.0</td>\n",
       "      <td>0</td>\n",
       "      <td>N</td>\n",
       "    </tr>\n",
       "    <tr>\n",
       "      <th>14</th>\n",
       "      <td>1.0</td>\n",
       "      <td>17.0</td>\n",
       "      <td>1299</td>\n",
       "      <td>1086.0</td>\n",
       "      <td>2</td>\n",
       "      <td>Y</td>\n",
       "    </tr>\n",
       "  </tbody>\n",
       "</table>\n",
       "</div>"
      ],
      "text/plain": [
       "    Credit_History  LoanAmount ApplicantIncome  CoapplicantIncome  Dependents  \\\n",
       "0              1.0       126.0            5849                0.0           0   \n",
       "1              1.0       128.0            4583             1508.0           1   \n",
       "2              1.0        66.0            3000                0.0           0   \n",
       "3              1.0       120.0            2583             2358.0           0   \n",
       "4              1.0       141.0            6000                0.0           0   \n",
       "5              1.0       267.0            5417             4196.0           2   \n",
       "6              1.0        95.0            2333             1516.0           0   \n",
       "7              0.0       158.0            3036             2504.0           3   \n",
       "8              1.0       168.0            4006             1526.0           2   \n",
       "9              1.0       349.0           12841            10968.0           1   \n",
       "10             1.0        70.0            3200              700.0           2   \n",
       "11             1.0       109.0            2500             1840.0           2   \n",
       "12             1.0       200.0            3073             8106.0           2   \n",
       "13             1.0       114.0            1853             2840.0           0   \n",
       "14             1.0        17.0            1299             1086.0           2   \n",
       "\n",
       "   Loan_Status  \n",
       "0            Y  \n",
       "1            N  \n",
       "2            Y  \n",
       "3            Y  \n",
       "4            Y  \n",
       "5            Y  \n",
       "6            Y  \n",
       "7            N  \n",
       "8            Y  \n",
       "9            N  \n",
       "10           Y  \n",
       "11           Y  \n",
       "12           Y  \n",
       "13           N  \n",
       "14           Y  "
      ]
     },
     "execution_count": 123,
     "metadata": {},
     "output_type": "execute_result"
    }
   ],
   "source": [
    "cols = ['Credit_History', 'LoanAmount', 'ApplicantIncome', 'CoapplicantIncome', 'Dependents', 'Loan_Status']\n",
    "df_train[cols].head(15)"
   ]
  },
  {
   "cell_type": "code",
   "execution_count": 97,
   "metadata": {},
   "outputs": [
    {
     "data": {
      "text/html": [
       "<div>\n",
       "<style scoped>\n",
       "    .dataframe tbody tr th:only-of-type {\n",
       "        vertical-align: middle;\n",
       "    }\n",
       "\n",
       "    .dataframe tbody tr th {\n",
       "        vertical-align: top;\n",
       "    }\n",
       "\n",
       "    .dataframe thead th {\n",
       "        text-align: right;\n",
       "    }\n",
       "</style>\n",
       "<table border=\"1\" class=\"dataframe\">\n",
       "  <thead>\n",
       "    <tr style=\"text-align: right;\">\n",
       "      <th></th>\n",
       "      <th>Loan_ID</th>\n",
       "      <th>Gender</th>\n",
       "      <th>Married</th>\n",
       "      <th>Dependents</th>\n",
       "      <th>Education</th>\n",
       "      <th>Self_Employed</th>\n",
       "      <th>ApplicantIncome</th>\n",
       "      <th>CoapplicantIncome</th>\n",
       "      <th>LoanAmount</th>\n",
       "      <th>Loan_Amount_Term</th>\n",
       "      <th>Credit_History</th>\n",
       "      <th>Property_Area</th>\n",
       "      <th>Loan_Status</th>\n",
       "    </tr>\n",
       "  </thead>\n",
       "  <tbody>\n",
       "    <tr>\n",
       "      <th>0</th>\n",
       "      <td>LP001002</td>\n",
       "      <td>Male</td>\n",
       "      <td>No</td>\n",
       "      <td>0</td>\n",
       "      <td>Graduate</td>\n",
       "      <td>No</td>\n",
       "      <td>5849</td>\n",
       "      <td>0.0</td>\n",
       "      <td>126.0</td>\n",
       "      <td>360.0</td>\n",
       "      <td>1.0</td>\n",
       "      <td>Urban</td>\n",
       "      <td>Y</td>\n",
       "    </tr>\n",
       "    <tr>\n",
       "      <th>1</th>\n",
       "      <td>LP001003</td>\n",
       "      <td>Male</td>\n",
       "      <td>Yes</td>\n",
       "      <td>1</td>\n",
       "      <td>Graduate</td>\n",
       "      <td>No</td>\n",
       "      <td>4583</td>\n",
       "      <td>1508.0</td>\n",
       "      <td>128.0</td>\n",
       "      <td>360.0</td>\n",
       "      <td>1.0</td>\n",
       "      <td>Rural</td>\n",
       "      <td>N</td>\n",
       "    </tr>\n",
       "    <tr>\n",
       "      <th>2</th>\n",
       "      <td>LP001005</td>\n",
       "      <td>Male</td>\n",
       "      <td>Yes</td>\n",
       "      <td>0</td>\n",
       "      <td>Graduate</td>\n",
       "      <td>Yes</td>\n",
       "      <td>3000</td>\n",
       "      <td>0.0</td>\n",
       "      <td>66.0</td>\n",
       "      <td>360.0</td>\n",
       "      <td>1.0</td>\n",
       "      <td>Urban</td>\n",
       "      <td>Y</td>\n",
       "    </tr>\n",
       "    <tr>\n",
       "      <th>3</th>\n",
       "      <td>LP001006</td>\n",
       "      <td>Male</td>\n",
       "      <td>Yes</td>\n",
       "      <td>0</td>\n",
       "      <td>Not Graduate</td>\n",
       "      <td>No</td>\n",
       "      <td>2583</td>\n",
       "      <td>2358.0</td>\n",
       "      <td>120.0</td>\n",
       "      <td>360.0</td>\n",
       "      <td>1.0</td>\n",
       "      <td>Urban</td>\n",
       "      <td>Y</td>\n",
       "    </tr>\n",
       "    <tr>\n",
       "      <th>4</th>\n",
       "      <td>LP001008</td>\n",
       "      <td>Male</td>\n",
       "      <td>No</td>\n",
       "      <td>0</td>\n",
       "      <td>Graduate</td>\n",
       "      <td>No</td>\n",
       "      <td>6000</td>\n",
       "      <td>0.0</td>\n",
       "      <td>141.0</td>\n",
       "      <td>360.0</td>\n",
       "      <td>1.0</td>\n",
       "      <td>Urban</td>\n",
       "      <td>Y</td>\n",
       "    </tr>\n",
       "  </tbody>\n",
       "</table>\n",
       "</div>"
      ],
      "text/plain": [
       "    Loan_ID Gender Married  Dependents     Education Self_Employed  \\\n",
       "0  LP001002   Male      No           0      Graduate            No   \n",
       "1  LP001003   Male     Yes           1      Graduate            No   \n",
       "2  LP001005   Male     Yes           0      Graduate           Yes   \n",
       "3  LP001006   Male     Yes           0  Not Graduate            No   \n",
       "4  LP001008   Male      No           0      Graduate            No   \n",
       "\n",
       "   ApplicantIncome  CoapplicantIncome  LoanAmount  Loan_Amount_Term  \\\n",
       "0             5849                0.0       126.0             360.0   \n",
       "1             4583             1508.0       128.0             360.0   \n",
       "2             3000                0.0        66.0             360.0   \n",
       "3             2583             2358.0       120.0             360.0   \n",
       "4             6000                0.0       141.0             360.0   \n",
       "\n",
       "   Credit_History Property_Area Loan_Status  \n",
       "0             1.0         Urban           Y  \n",
       "1             1.0         Rural           N  \n",
       "2             1.0         Urban           Y  \n",
       "3             1.0         Urban           Y  \n",
       "4             1.0         Urban           Y  "
      ]
     },
     "execution_count": 97,
     "metadata": {},
     "output_type": "execute_result"
    }
   ],
   "source": [
    "df_train.head()"
   ]
  },
  {
   "cell_type": "code",
   "execution_count": 91,
   "metadata": {},
   "outputs": [],
   "source": [
    "#columnsX=df_train.columns[1:-1]\n",
    "#columnsY=df_train.columns[-1]\n",
    "\n",
    "\n",
    "columnsX=['Credit_History', 'LoanAmount', 'ApplicantIncome', 'CoapplicantIncome', 'Dependents']\n",
    "columnsY='Loan_Status'"
   ]
  },
  {
   "cell_type": "code",
   "execution_count": 92,
   "metadata": {},
   "outputs": [],
   "source": [
    "#catCol=['Gender','Married','Education','Self_Employed','Property_Area','Dependents']\n",
    "#numWithScalingCol=['ApplicantIncome','CoapplicantIncome','LoanAmount','Loan_Amount_Term']\n",
    "#numerCol=['Credit_History']\n",
    "\n",
    "\n",
    "\n",
    "catCol=['Dependents']\n",
    "numWithScalingCol=['ApplicantIncome','CoapplicantIncome','LoanAmount']\n",
    "numerCol=['Credit_History']"
   ]
  },
  {
   "cell_type": "code",
   "execution_count": 93,
   "metadata": {},
   "outputs": [],
   "source": [
    "numeric_transformer_scaling = Pipeline(steps=[\n",
    "    ('imputer', SimpleImputer(strategy='median')),\n",
    "    ('scaler', StandardScaler())])\n",
    "\n",
    "numeric_transformer = Pipeline(steps=[\n",
    "    ('imputer', SimpleImputer(strategy='constant', fill_value=99))])\n",
    "\n",
    "categorical_transformer = Pipeline(steps=[\n",
    "    ('onehot', OneHotEncoder(handle_unknown='ignore'))])"
   ]
  },
  {
   "cell_type": "code",
   "execution_count": 94,
   "metadata": {},
   "outputs": [],
   "source": [
    "preprocessor = ColumnTransformer(\n",
    "    transformers=[\n",
    "        ('num', numeric_transformer_scaling, numWithScalingCol),\n",
    "        ('num2', numeric_transformer, numerCol),\n",
    "        ('cat', categorical_transformer, catCol)])"
   ]
  },
  {
   "cell_type": "code",
   "execution_count": 95,
   "metadata": {},
   "outputs": [
    {
     "data": {
      "text/plain": [
       "ColumnTransformer(transformers=[('num',\n",
       "                                 Pipeline(steps=[('imputer',\n",
       "                                                  SimpleImputer(strategy='median')),\n",
       "                                                 ('scaler', StandardScaler())]),\n",
       "                                 ['ApplicantIncome', 'CoapplicantIncome',\n",
       "                                  'LoanAmount']),\n",
       "                                ('num2',\n",
       "                                 Pipeline(steps=[('imputer',\n",
       "                                                  SimpleImputer(fill_value=99,\n",
       "                                                                strategy='constant'))]),\n",
       "                                 ['Credit_History']),\n",
       "                                ('cat',\n",
       "                                 Pipeline(steps=[('onehot',\n",
       "                                                  OneHotEncoder(handle_unknown='ignore'))]),\n",
       "                                 ['Dependents'])])"
      ]
     },
     "execution_count": 95,
     "metadata": {},
     "output_type": "execute_result"
    }
   ],
   "source": [
    "preprocessor.fit(df_train[columnsX],df_train[columnsY])"
   ]
  },
  {
   "cell_type": "code",
   "execution_count": 98,
   "metadata": {},
   "outputs": [],
   "source": [
    "modelPipeline = Pipeline(steps=[('preprocessor', preprocessor),\n",
    "                      ('classifier', RandomForestClassifier())])"
   ]
  },
  {
   "cell_type": "code",
   "execution_count": 99,
   "metadata": {},
   "outputs": [
    {
     "data": {
      "text/plain": [
       "Pipeline(steps=[('preprocessor',\n",
       "                 ColumnTransformer(transformers=[('num',\n",
       "                                                  Pipeline(steps=[('imputer',\n",
       "                                                                   SimpleImputer(strategy='median')),\n",
       "                                                                  ('scaler',\n",
       "                                                                   StandardScaler())]),\n",
       "                                                  ['ApplicantIncome',\n",
       "                                                   'CoapplicantIncome',\n",
       "                                                   'LoanAmount']),\n",
       "                                                 ('num2',\n",
       "                                                  Pipeline(steps=[('imputer',\n",
       "                                                                   SimpleImputer(fill_value=99,\n",
       "                                                                                 strategy='constant'))]),\n",
       "                                                  ['Credit_History']),\n",
       "                                                 ('cat',\n",
       "                                                  Pipeline(steps=[('onehot',\n",
       "                                                                   OneHotEncoder(handle_unknown='ignore'))]),\n",
       "                                                  ['Dependents'])])),\n",
       "                ('classifier', RandomForestClassifier())])"
      ]
     },
     "execution_count": 99,
     "metadata": {},
     "output_type": "execute_result"
    }
   ],
   "source": [
    "modelPipeline.fit(df_train[columnsX],df_train[columnsY])"
   ]
  },
  {
   "cell_type": "code",
   "execution_count": 100,
   "metadata": {},
   "outputs": [],
   "source": [
    "scores=modelPipeline.predict_proba(df_train[columnsX])[:,-1]"
   ]
  },
  {
   "cell_type": "code",
   "execution_count": 101,
   "metadata": {},
   "outputs": [
    {
     "data": {
      "text/plain": [
       "array([0.99, 0.27, 0.87, 1.  , 0.99, 0.95, 0.98, 0.12, 0.83, 0.27, 0.98,\n",
       "       0.99, 0.96, 0.4 , 0.89, 1.  , 0.99, 0.01, 0.22, 0.96, 0.02, 0.96,\n",
       "       0.02, 0.06, 0.02, 0.95, 1.  , 0.95, 0.31, 1.  , 0.08, 0.21, 0.34,\n",
       "       0.96, 0.24, 0.98, 0.01, 0.96, 0.89, 0.99, 0.23, 0.95, 0.8 , 0.97,\n",
       "       0.84, 0.8 , 0.97, 1.  , 0.05, 0.98, 0.94, 0.93, 0.24, 0.35, 0.03,\n",
       "       0.97, 0.96, 0.34, 0.97, 0.97, 0.95, 0.98, 0.  , 0.08, 0.03, 0.38,\n",
       "       0.02, 0.88, 0.98, 0.07, 0.96, 0.97, 0.74, 0.06, 0.92, 0.31, 0.22,\n",
       "       0.26, 0.09, 0.88, 0.97, 0.94, 0.22, 0.04, 0.84, 0.97, 0.98, 0.99,\n",
       "       0.84, 0.89, 1.  , 0.91, 1.  , 1.  , 0.94, 0.06, 0.99, 0.93, 0.96,\n",
       "       0.91, 0.97, 0.9 , 0.97, 0.9 , 0.86, 0.99, 0.96, 0.27, 0.08, 0.91,\n",
       "       0.93, 1.  , 0.  , 0.93, 0.95, 0.9 , 0.99, 0.98, 0.26, 0.85, 0.87,\n",
       "       0.97, 0.68, 0.95, 0.85, 0.89, 0.92, 0.99, 0.12, 0.02, 0.81, 0.89,\n",
       "       0.94, 0.92, 0.95, 0.25, 0.24, 0.98, 0.01, 0.35, 0.29, 0.81, 0.93,\n",
       "       0.99, 0.97, 0.95, 0.93, 0.91, 0.29, 0.96, 0.  , 1.  , 0.39, 0.39,\n",
       "       0.96, 0.75, 0.91, 0.88, 1.  , 0.9 , 0.93, 0.34, 0.03, 0.96, 0.8 ,\n",
       "       0.9 , 0.16, 0.88, 0.02, 0.97, 0.96, 0.92, 0.31, 0.96, 0.22, 0.98,\n",
       "       0.97, 0.18, 0.97, 0.04, 0.13, 0.08, 0.77, 0.38, 0.93, 0.7 , 0.05,\n",
       "       0.94, 0.92, 0.96, 0.96, 0.24, 0.35, 0.89, 0.98, 0.33, 0.91, 0.94,\n",
       "       0.91, 0.32, 0.96, 0.74, 0.38, 0.96, 0.98, 0.98, 0.71, 0.82, 0.99,\n",
       "       0.31, 0.34, 0.08, 0.99, 0.93, 1.  , 0.94, 0.38, 0.96, 0.08, 0.93,\n",
       "       0.05, 0.99, 1.  , 0.87, 0.94, 0.2 , 0.26, 0.87, 0.86, 0.92, 0.94,\n",
       "       0.97, 0.97, 0.75, 0.9 , 0.97, 0.  , 0.86, 0.93, 0.99, 0.98, 0.31,\n",
       "       0.98, 0.92, 0.92, 0.42, 0.95, 1.  , 0.98, 0.99, 0.01, 0.34, 0.98,\n",
       "       0.83, 0.03, 0.83, 0.  , 0.38, 0.2 , 0.1 , 0.92, 0.89, 0.3 , 0.84,\n",
       "       1.  , 0.98, 0.93, 0.79, 0.13, 0.97, 0.98, 0.81, 0.98, 0.98, 0.95,\n",
       "       0.98, 0.95, 0.88, 0.98, 1.  , 0.06, 0.93, 0.96, 0.97, 0.35, 0.98,\n",
       "       0.32, 0.98, 0.98, 1.  , 1.  , 0.04, 0.91, 0.05, 0.95, 0.97, 1.  ,\n",
       "       0.85, 0.34, 0.28, 0.15, 0.92, 0.88, 0.96, 0.95, 0.25, 0.94, 0.06,\n",
       "       0.41, 0.98, 0.89, 0.99, 0.99, 0.95, 0.35, 0.98, 0.99, 0.98, 0.98,\n",
       "       0.38, 0.97, 0.95, 0.88, 0.98, 0.93, 0.06, 0.62, 0.86, 0.09, 0.89,\n",
       "       0.89, 0.85, 0.89, 0.82, 0.94, 0.83, 0.97, 0.9 , 0.07, 0.9 , 0.29,\n",
       "       0.43, 0.92, 0.88, 0.99, 0.94, 0.  , 0.99, 0.77, 0.94, 0.8 , 0.4 ,\n",
       "       0.93, 0.  , 0.85, 0.98, 0.97, 0.15, 0.  , 0.89, 0.11, 0.93, 0.77,\n",
       "       0.99, 0.99, 0.27, 0.29, 0.03, 0.97, 0.3 , 0.93, 0.92, 0.92, 0.01,\n",
       "       0.99, 0.93, 0.9 , 0.88, 0.31, 0.92, 0.9 , 0.83, 0.92, 0.98, 0.35,\n",
       "       0.96, 0.94, 0.02, 1.  , 1.  , 0.98, 0.99, 0.99, 0.92, 0.94, 0.84,\n",
       "       0.01, 0.98, 1.  , 0.04, 0.07, 0.37, 0.84, 0.88, 0.36, 0.89, 1.  ,\n",
       "       0.9 , 0.06, 0.25, 0.14, 0.77, 0.01, 0.98, 0.08, 0.97, 0.26, 0.26,\n",
       "       0.87, 0.93, 0.96, 0.04, 0.94, 0.06, 0.93, 0.95, 0.09, 0.89, 0.97,\n",
       "       0.94, 0.92, 0.  , 0.94, 0.96, 0.92, 0.92, 0.97, 0.96, 0.  , 0.95,\n",
       "       0.85, 0.86, 0.96, 0.8 , 0.92, 0.92, 0.86, 0.28, 0.1 , 0.1 , 0.05,\n",
       "       0.98, 0.04, 0.78, 0.81, 0.92, 0.96, 0.28, 0.8 , 0.23, 0.88, 0.97,\n",
       "       0.96, 0.96, 0.02, 0.99, 0.08, 0.91, 0.91, 0.09, 0.9 , 0.02, 0.88,\n",
       "       0.76, 0.98, 0.88, 0.95, 0.03, 0.93, 0.27, 0.9 , 0.96, 0.91, 0.91,\n",
       "       0.99, 0.86, 0.02, 0.36, 0.87, 0.38, 0.96, 0.96, 0.97, 0.95, 0.  ,\n",
       "       1.  , 0.89, 0.79, 0.98, 0.02, 0.87, 0.87, 0.96, 0.03, 1.  , 0.97,\n",
       "       0.81, 0.25, 0.96, 0.97, 0.23, 0.95, 0.95, 0.33, 0.25, 0.91, 0.97,\n",
       "       0.01, 0.26, 0.19, 0.97, 0.96, 0.95, 0.95, 0.15, 0.98, 0.97, 0.7 ,\n",
       "       0.98, 0.94, 0.9 , 0.95, 0.01, 0.02, 0.96, 1.  , 0.77, 0.95, 0.34,\n",
       "       0.74, 0.8 , 0.03, 0.99, 0.92, 0.88, 0.93, 0.24, 0.91, 0.03, 0.98,\n",
       "       0.13, 0.91, 0.79, 0.07, 0.  , 0.98, 0.97, 1.  , 0.92, 0.9 , 1.  ,\n",
       "       0.77, 0.84, 0.93, 0.11, 0.98, 0.8 , 0.05, 0.19, 0.  , 0.93, 0.07,\n",
       "       0.99, 0.18, 0.32, 0.97, 0.02, 0.98, 0.95, 0.96, 0.77, 0.19, 0.96,\n",
       "       0.04, 0.02, 0.39, 0.96, 0.95, 0.92, 0.02, 0.94, 0.34, 0.96, 0.96,\n",
       "       0.96, 0.98, 0.23, 0.05, 0.87, 0.82, 0.07, 1.  , 0.98, 0.79, 0.87,\n",
       "       0.3 , 0.9 , 0.99, 1.  , 0.87, 0.84, 0.97, 0.98, 0.12])"
      ]
     },
     "execution_count": 101,
     "metadata": {},
     "output_type": "execute_result"
    }
   ],
   "source": [
    "scores"
   ]
  },
  {
   "cell_type": "markdown",
   "metadata": {},
   "source": [
    "## 6) Testando o modelo"
   ]
  },
  {
   "cell_type": "code",
   "execution_count": 102,
   "metadata": {},
   "outputs": [],
   "source": [
    "data2=pd.read_csv('data/test.csv')"
   ]
  },
  {
   "cell_type": "code",
   "execution_count": 103,
   "metadata": {},
   "outputs": [],
   "source": [
    "scores=modelPipeline.predict_proba(data2[columnsX])[:,-1]"
   ]
  },
  {
   "cell_type": "code",
   "execution_count": 104,
   "metadata": {},
   "outputs": [],
   "source": [
    "scoreOutput={j:k for j,k in zip(data2['Loan_ID'],scores)}"
   ]
  },
  {
   "cell_type": "code",
   "execution_count": 105,
   "metadata": {},
   "outputs": [
    {
     "data": {
      "text/plain": [
       "{'LP001015': 0.9,\n",
       " 'LP001022': 0.89,\n",
       " 'LP001031': 0.85,\n",
       " 'LP001035': 0.94,\n",
       " 'LP001051': 0.75,\n",
       " 'LP001054': 0.71,\n",
       " 'LP001055': 0.76,\n",
       " 'LP001056': 0.1,\n",
       " 'LP001059': 0.95,\n",
       " 'LP001067': 0.96,\n",
       " 'LP001078': 0.87,\n",
       " 'LP001082': 0.62,\n",
       " 'LP001083': 0.91,\n",
       " 'LP001094': 0.2,\n",
       " 'LP001096': 0.86,\n",
       " 'LP001099': 0.95,\n",
       " 'LP001105': 0.77,\n",
       " 'LP001107': 0.96,\n",
       " 'LP001108': 0.73,\n",
       " 'LP001115': 0.68,\n",
       " 'LP001121': 0.91,\n",
       " 'LP001124': 0.61,\n",
       " 'LP001128': 0.84,\n",
       " 'LP001135': 0.94,\n",
       " 'LP001149': 0.84,\n",
       " 'LP001153': 0.29,\n",
       " 'LP001163': 0.83,\n",
       " 'LP001169': 0.77,\n",
       " 'LP001174': 0.84,\n",
       " 'LP001176': 0.96,\n",
       " 'LP001177': 0.75,\n",
       " 'LP001183': 0.76,\n",
       " 'LP001185': 0.8,\n",
       " 'LP001187': 0.78,\n",
       " 'LP001190': 0.93,\n",
       " 'LP001203': 0.19,\n",
       " 'LP001208': 0.86,\n",
       " 'LP001210': 0.89,\n",
       " 'LP001211': 0.93,\n",
       " 'LP001219': 0.81,\n",
       " 'LP001220': 0.78,\n",
       " 'LP001221': 0.97,\n",
       " 'LP001226': 0.95,\n",
       " 'LP001230': 0.79,\n",
       " 'LP001231': 0.78,\n",
       " 'LP001232': 0.73,\n",
       " 'LP001237': 0.86,\n",
       " 'LP001242': 0.91,\n",
       " 'LP001268': 0.86,\n",
       " 'LP001270': 0.9,\n",
       " 'LP001284': 0.88,\n",
       " 'LP001287': 0.91,\n",
       " 'LP001291': 0.82,\n",
       " 'LP001298': 0.9,\n",
       " 'LP001312': 0.67,\n",
       " 'LP001313': 0.15,\n",
       " 'LP001317': 0.79,\n",
       " 'LP001321': 0.85,\n",
       " 'LP001323': 0.08,\n",
       " 'LP001324': 0.55,\n",
       " 'LP001332': 0.91,\n",
       " 'LP001335': 0.97,\n",
       " 'LP001338': 0.69,\n",
       " 'LP001347': 0.11,\n",
       " 'LP001348': 0.85,\n",
       " 'LP001351': 0.82,\n",
       " 'LP001352': 0.23,\n",
       " 'LP001358': 0.15,\n",
       " 'LP001359': 0.91,\n",
       " 'LP001361': 0.14,\n",
       " 'LP001366': 0.79,\n",
       " 'LP001368': 0.57,\n",
       " 'LP001375': 0.84,\n",
       " 'LP001380': 0.82,\n",
       " 'LP001386': 0.9,\n",
       " 'LP001400': 0.84,\n",
       " 'LP001407': 0.83,\n",
       " 'LP001413': 0.85,\n",
       " 'LP001415': 0.82,\n",
       " 'LP001419': 0.89,\n",
       " 'LP001420': 0.3,\n",
       " 'LP001428': 0.66,\n",
       " 'LP001445': 0.13,\n",
       " 'LP001446': 0.89,\n",
       " 'LP001450': 0.18,\n",
       " 'LP001452': 0.74,\n",
       " 'LP001455': 0.75,\n",
       " 'LP001466': 0.81,\n",
       " 'LP001471': 0.94,\n",
       " 'LP001472': 0.74,\n",
       " 'LP001475': 0.95,\n",
       " 'LP001483': 0.95,\n",
       " 'LP001486': 0.76,\n",
       " 'LP001490': 0.79,\n",
       " 'LP001496': 0.15,\n",
       " 'LP001499': 0.84,\n",
       " 'LP001500': 0.81,\n",
       " 'LP001501': 0.89,\n",
       " 'LP001517': 0.74,\n",
       " 'LP001527': 0.9,\n",
       " 'LP001534': 0.78,\n",
       " 'LP001542': 0.06,\n",
       " 'LP001547': 0.93,\n",
       " 'LP001548': 0.85,\n",
       " 'LP001558': 0.95,\n",
       " 'LP001561': 0.74,\n",
       " 'LP001563': 0.13,\n",
       " 'LP001567': 0.85,\n",
       " 'LP001568': 0.54,\n",
       " 'LP001573': 0.84,\n",
       " 'LP001584': 0.74,\n",
       " 'LP001587': 0.79,\n",
       " 'LP001589': 0.79,\n",
       " 'LP001591': 0.9,\n",
       " 'LP001599': 0.75,\n",
       " 'LP001601': 0.83,\n",
       " 'LP001607': 0.42,\n",
       " 'LP001611': 0.22,\n",
       " 'LP001613': 0.19,\n",
       " 'LP001622': 0.08,\n",
       " 'LP001627': 0.65,\n",
       " 'LP001650': 0.67,\n",
       " 'LP001651': 0.78,\n",
       " 'LP001652': 0.19,\n",
       " 'LP001655': 0.11,\n",
       " 'LP001660': 0.83,\n",
       " 'LP001662': 0.06,\n",
       " 'LP001663': 0.9,\n",
       " 'LP001667': 0.7,\n",
       " 'LP001695': 0.87,\n",
       " 'LP001703': 0.86,\n",
       " 'LP001718': 0.56,\n",
       " 'LP001728': 0.93,\n",
       " 'LP001735': 0.81,\n",
       " 'LP001737': 0.69,\n",
       " 'LP001739': 0.91,\n",
       " 'LP001742': 0.6,\n",
       " 'LP001757': 0.68,\n",
       " 'LP001769': 0.89,\n",
       " 'LP001771': 0.8,\n",
       " 'LP001785': 0.25,\n",
       " 'LP001787': 0.88,\n",
       " 'LP001789': 0.14,\n",
       " 'LP001791': 0.63,\n",
       " 'LP001794': 0.94,\n",
       " 'LP001797': 0.81,\n",
       " 'LP001815': 0.83,\n",
       " 'LP001817': 0.1,\n",
       " 'LP001818': 0.7,\n",
       " 'LP001822': 0.79,\n",
       " 'LP001827': 0.79,\n",
       " 'LP001831': 0.87,\n",
       " 'LP001842': 0.69,\n",
       " 'LP001853': 0.19,\n",
       " 'LP001855': 0.59,\n",
       " 'LP001857': 0.78,\n",
       " 'LP001862': 0.74,\n",
       " 'LP001867': 0.84,\n",
       " 'LP001878': 0.73,\n",
       " 'LP001881': 0.84,\n",
       " 'LP001886': 0.79,\n",
       " 'LP001906': 0.08,\n",
       " 'LP001909': 0.93,\n",
       " 'LP001911': 0.65,\n",
       " 'LP001921': 0.94,\n",
       " 'LP001923': 0.19,\n",
       " 'LP001933': 0.12,\n",
       " 'LP001943': 0.87,\n",
       " 'LP001950': 0.17,\n",
       " 'LP001959': 0.5,\n",
       " 'LP001961': 0.91,\n",
       " 'LP001973': 0.76,\n",
       " 'LP001975': 0.84,\n",
       " 'LP001979': 0.08,\n",
       " 'LP001995': 0.13,\n",
       " 'LP001999': 0.79,\n",
       " 'LP002007': 0.83,\n",
       " 'LP002009': 0.64,\n",
       " 'LP002016': 0.82,\n",
       " 'LP002017': 0.9,\n",
       " 'LP002018': 0.83,\n",
       " 'LP002027': 0.77,\n",
       " 'LP002028': 0.88,\n",
       " 'LP002042': 0.74,\n",
       " 'LP002045': 0.71,\n",
       " 'LP002046': 0.63,\n",
       " 'LP002047': 0.83,\n",
       " 'LP002056': 0.94,\n",
       " 'LP002057': 0.87,\n",
       " 'LP002059': 0.68,\n",
       " 'LP002062': 0.77,\n",
       " 'LP002064': 0.78,\n",
       " 'LP002069': 0.12,\n",
       " 'LP002070': 0.09,\n",
       " 'LP002077': 0.54,\n",
       " 'LP002083': 0.93,\n",
       " 'LP002090': 0.09,\n",
       " 'LP002096': 0.81,\n",
       " 'LP002099': 0.16,\n",
       " 'LP002102': 0.93,\n",
       " 'LP002105': 0.81,\n",
       " 'LP002107': 0.87,\n",
       " 'LP002111': 0.96,\n",
       " 'LP002117': 0.97,\n",
       " 'LP002118': 0.95,\n",
       " 'LP002123': 0.97,\n",
       " 'LP002125': 0.69,\n",
       " 'LP002148': 0.86,\n",
       " 'LP002152': 0.6,\n",
       " 'LP002165': 0.78,\n",
       " 'LP002167': 0.7,\n",
       " 'LP002168': 0.17,\n",
       " 'LP002172': 0.84,\n",
       " 'LP002176': 0.83,\n",
       " 'LP002183': 0.86,\n",
       " 'LP002184': 0.81,\n",
       " 'LP002186': 0.94,\n",
       " 'LP002192': 0.87,\n",
       " 'LP002195': 0.83,\n",
       " 'LP002208': 0.89,\n",
       " 'LP002212': 0.95,\n",
       " 'LP002240': 0.84,\n",
       " 'LP002245': 0.87,\n",
       " 'LP002253': 0.76,\n",
       " 'LP002256': 0.22,\n",
       " 'LP002257': 0.75,\n",
       " 'LP002264': 0.92,\n",
       " 'LP002270': 0.85,\n",
       " 'LP002279': 0.82,\n",
       " 'LP002286': 0.05,\n",
       " 'LP002294': 0.55,\n",
       " 'LP002298': 0.8,\n",
       " 'LP002306': 0.74,\n",
       " 'LP002310': 0.68,\n",
       " 'LP002311': 0.96,\n",
       " 'LP002316': 0.11,\n",
       " 'LP002321': 0.09,\n",
       " 'LP002325': 0.64,\n",
       " 'LP002326': 0.89,\n",
       " 'LP002329': 0.6,\n",
       " 'LP002333': 0.88,\n",
       " 'LP002339': 0.09,\n",
       " 'LP002344': 0.84,\n",
       " 'LP002346': 0.17,\n",
       " 'LP002354': 0.69,\n",
       " 'LP002355': 0.08,\n",
       " 'LP002358': 0.79,\n",
       " 'LP002360': 0.85,\n",
       " 'LP002375': 0.69,\n",
       " 'LP002376': 0.83,\n",
       " 'LP002383': 0.11,\n",
       " 'LP002385': 0.72,\n",
       " 'LP002389': 0.77,\n",
       " 'LP002394': 0.92,\n",
       " 'LP002397': 0.92,\n",
       " 'LP002399': 0.06,\n",
       " 'LP002400': 0.85,\n",
       " 'LP002402': 0.86,\n",
       " 'LP002412': 0.82,\n",
       " 'LP002415': 0.66,\n",
       " 'LP002417': 0.57,\n",
       " 'LP002420': 0.93,\n",
       " 'LP002425': 0.81,\n",
       " 'LP002433': 0.75,\n",
       " 'LP002440': 0.71,\n",
       " 'LP002441': 0.84,\n",
       " 'LP002442': 0.1,\n",
       " 'LP002445': 0.86,\n",
       " 'LP002450': 0.2,\n",
       " 'LP002471': 0.8,\n",
       " 'LP002476': 0.87,\n",
       " 'LP002482': 0.79,\n",
       " 'LP002485': 0.68,\n",
       " 'LP002495': 0.21,\n",
       " 'LP002496': 0.04,\n",
       " 'LP002523': 0.92,\n",
       " 'LP002542': 0.86,\n",
       " 'LP002550': 0.9,\n",
       " 'LP002551': 0.2,\n",
       " 'LP002553': 0.58,\n",
       " 'LP002554': 0.93,\n",
       " 'LP002561': 0.9,\n",
       " 'LP002566': 0.85,\n",
       " 'LP002568': 0.85,\n",
       " 'LP002570': 0.52,\n",
       " 'LP002572': 0.95,\n",
       " 'LP002581': 0.75,\n",
       " 'LP002584': 0.76,\n",
       " 'LP002592': 0.68,\n",
       " 'LP002593': 0.75,\n",
       " 'LP002599': 0.78,\n",
       " 'LP002604': 0.89,\n",
       " 'LP002605': 0.83,\n",
       " 'LP002609': 0.27,\n",
       " 'LP002610': 0.77,\n",
       " 'LP002612': 0.87,\n",
       " 'LP002614': 0.82,\n",
       " 'LP002630': 0.73,\n",
       " 'LP002635': 0.95,\n",
       " 'LP002639': 0.81,\n",
       " 'LP002644': 0.75,\n",
       " 'LP002651': 0.03,\n",
       " 'LP002654': 0.88,\n",
       " 'LP002657': 0.74,\n",
       " 'LP002711': 0.84,\n",
       " 'LP002712': 0.66,\n",
       " 'LP002721': 0.9,\n",
       " 'LP002735': 0.93,\n",
       " 'LP002744': 0.84,\n",
       " 'LP002745': 0.76,\n",
       " 'LP002746': 0.85,\n",
       " 'LP002747': 0.12,\n",
       " 'LP002754': 0.95,\n",
       " 'LP002759': 0.69,\n",
       " 'LP002760': 0.66,\n",
       " 'LP002766': 0.82,\n",
       " 'LP002769': 0.93,\n",
       " 'LP002774': 0.2,\n",
       " 'LP002775': 0.85,\n",
       " 'LP002781': 0.91,\n",
       " 'LP002782': 0.66,\n",
       " 'LP002786': 0.6,\n",
       " 'LP002790': 0.5,\n",
       " 'LP002791': 0.82,\n",
       " 'LP002793': 0.66,\n",
       " 'LP002802': 0.17,\n",
       " 'LP002803': 0.86,\n",
       " 'LP002805': 0.74,\n",
       " 'LP002806': 0.85,\n",
       " 'LP002816': 0.93,\n",
       " 'LP002823': 0.87,\n",
       " 'LP002825': 0.89,\n",
       " 'LP002826': 0.63,\n",
       " 'LP002843': 0.69,\n",
       " 'LP002849': 0.78,\n",
       " 'LP002850': 0.67,\n",
       " 'LP002853': 0.86,\n",
       " 'LP002856': 0.89,\n",
       " 'LP002857': 0.86,\n",
       " 'LP002858': 0.35,\n",
       " 'LP002860': 0.85,\n",
       " 'LP002867': 0.76,\n",
       " 'LP002869': 0.59,\n",
       " 'LP002870': 0.51,\n",
       " 'LP002876': 0.9,\n",
       " 'LP002878': 0.9,\n",
       " 'LP002879': 0.05,\n",
       " 'LP002885': 0.76,\n",
       " 'LP002890': 0.76,\n",
       " 'LP002891': 0.68,\n",
       " 'LP002899': 0.88,\n",
       " 'LP002901': 0.6,\n",
       " 'LP002907': 0.84,\n",
       " 'LP002920': 0.8,\n",
       " 'LP002921': 0.26,\n",
       " 'LP002932': 0.89,\n",
       " 'LP002935': 0.89,\n",
       " 'LP002952': 0.83,\n",
       " 'LP002954': 0.67,\n",
       " 'LP002962': 0.87,\n",
       " 'LP002965': 0.84,\n",
       " 'LP002969': 0.9,\n",
       " 'LP002971': 0.93,\n",
       " 'LP002975': 0.85,\n",
       " 'LP002980': 0.91,\n",
       " 'LP002986': 0.84,\n",
       " 'LP002989': 0.76}"
      ]
     },
     "execution_count": 105,
     "metadata": {},
     "output_type": "execute_result"
    }
   ],
   "source": [
    "scoreOutput"
   ]
  },
  {
   "cell_type": "markdown",
   "metadata": {},
   "source": [
    "## 7) Exportando o modelo"
   ]
  },
  {
   "cell_type": "code",
   "execution_count": 106,
   "metadata": {},
   "outputs": [],
   "source": [
    "import joblib"
   ]
  },
  {
   "cell_type": "code",
   "execution_count": 107,
   "metadata": {},
   "outputs": [
    {
     "data": {
      "text/plain": [
       "['modelPipeline-1.pkl']"
      ]
     },
     "execution_count": 107,
     "metadata": {},
     "output_type": "execute_result"
    }
   ],
   "source": [
    "joblib.dump(modelPipeline,'modelPipeline-1.pkl')"
   ]
  }
 ],
 "metadata": {
  "kernelspec": {
   "display_name": "Python 3.9.13 ('base')",
   "language": "python",
   "name": "python3"
  },
  "language_info": {
   "codemirror_mode": {
    "name": "ipython",
    "version": 3
   },
   "file_extension": ".py",
   "mimetype": "text/x-python",
   "name": "python",
   "nbconvert_exporter": "python",
   "pygments_lexer": "ipython3",
   "version": "3.9.13"
  },
  "orig_nbformat": 4,
  "vscode": {
   "interpreter": {
    "hash": "fa4d03cfce5ff746ab8860ac27b5cbb25e7a422a66142bc9266830a4a2a3dc77"
   }
  }
 },
 "nbformat": 4,
 "nbformat_minor": 2
}
