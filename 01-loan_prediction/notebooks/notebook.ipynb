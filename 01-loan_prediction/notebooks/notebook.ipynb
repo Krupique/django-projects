{
 "cells": [
  {
   "cell_type": "markdown",
   "metadata": {},
   "source": [
    "# Loan Predictor"
   ]
  },
  {
   "cell_type": "code",
   "execution_count": null,
   "metadata": {},
   "outputs": [],
   "source": []
  }
 ],
 "metadata": {
  "kernelspec": {
   "display_name": "Python 3.9.13 ('venv_loan': venv)",
   "language": "python",
   "name": "python3"
  },
  "language_info": {
   "name": "python",
   "version": "3.9.13"
  },
  "orig_nbformat": 4,
  "vscode": {
   "interpreter": {
    "hash": "2a03df5fd7d282a0c83466e541d6d630ee03cea2d3440fb202460766af6447d3"
   }
  }
 },
 "nbformat": 4,
 "nbformat_minor": 2
}
